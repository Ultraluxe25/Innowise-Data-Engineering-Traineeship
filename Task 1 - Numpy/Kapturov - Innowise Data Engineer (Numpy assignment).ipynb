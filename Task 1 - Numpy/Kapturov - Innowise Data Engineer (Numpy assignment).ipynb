{
 "cells": [
  {
   "cell_type": "markdown",
   "id": "d3df79dd",
   "metadata": {},
   "source": [
    "# Упражнения по библиотеке Numpy"
   ]
  },
  {
   "cell_type": "code",
   "execution_count": 12,
   "id": "aac248a1",
   "metadata": {
    "scrolled": true
   },
   "outputs": [
    {
     "name": "stdout",
     "output_type": "stream",
     "text": [
      "Collecting argon2-cffi==21.1.0\n",
      "  Using cached argon2_cffi-21.1.0-cp35-abi3-win_amd64.whl (40 kB)\n",
      "Collecting attrs==21.2.0\n",
      "  Using cached attrs-21.2.0-py2.py3-none-any.whl (53 kB)\n",
      "Requirement already satisfied: backcall==0.2.0 in e:\\multimedia\\anaconda\\lib\\site-packages (from -r requirements.txt (line 3)) (0.2.0)\n",
      "Requirement already satisfied: bleach==4.1.0 in e:\\multimedia\\anaconda\\lib\\site-packages (from -r requirements.txt (line 4)) (4.1.0)\n",
      "Collecting cffi==1.15.0\n",
      "  Using cached cffi-1.15.0-cp39-cp39-win_amd64.whl (180 kB)\n",
      "Requirement already satisfied: cycler==0.11.0 in e:\\multimedia\\anaconda\\lib\\site-packages (from -r requirements.txt (line 6)) (0.11.0)\n",
      "Requirement already satisfied: debugpy==1.5.1 in e:\\multimedia\\anaconda\\lib\\site-packages (from -r requirements.txt (line 7)) (1.5.1)\n",
      "Collecting decorator==5.1.0\n",
      "  Using cached decorator-5.1.0-py3-none-any.whl (9.1 kB)\n",
      "Requirement already satisfied: defusedxml==0.7.1 in e:\\multimedia\\anaconda\\lib\\site-packages (from -r requirements.txt (line 9)) (0.7.1)\n",
      "Collecting entrypoints==0.3\n",
      "  Using cached entrypoints-0.3-py2.py3-none-any.whl (11 kB)\n",
      "Collecting importlib-resources==5.4.0\n",
      "  Using cached importlib_resources-5.4.0-py3-none-any.whl (28 kB)\n",
      "Collecting ipykernel==6.5.0\n",
      "  Using cached ipykernel-6.5.0-py3-none-any.whl (125 kB)\n",
      "Collecting ipython==7.29.0\n",
      "  Using cached ipython-7.29.0-py3-none-any.whl (790 kB)\n",
      "Requirement already satisfied: ipython-genutils==0.2.0 in e:\\multimedia\\anaconda\\lib\\site-packages (from -r requirements.txt (line 14)) (0.2.0)\n",
      "Requirement already satisfied: ipywidgets==7.6.5 in e:\\multimedia\\anaconda\\lib\\site-packages (from -r requirements.txt (line 15)) (7.6.5)\n",
      "Collecting jedi==0.18.0\n",
      "  Using cached jedi-0.18.0-py2.py3-none-any.whl (1.4 MB)\n",
      "Collecting Jinja2==3.0.3\n",
      "  Using cached Jinja2-3.0.3-py3-none-any.whl (133 kB)\n",
      "Collecting jsonschema==4.2.1\n",
      "  Using cached jsonschema-4.2.1-py3-none-any.whl (69 kB)\n",
      "Requirement already satisfied: jupyter==1.0.0 in e:\\multimedia\\anaconda\\lib\\site-packages (from -r requirements.txt (line 19)) (1.0.0)\n",
      "Collecting jupyter-client==7.0.6\n",
      "  Using cached jupyter_client-7.0.6-py3-none-any.whl (125 kB)\n",
      "Collecting jupyter-console==6.4.0\n",
      "  Using cached jupyter_console-6.4.0-py3-none-any.whl (22 kB)\n",
      "Collecting jupyter-core==4.9.1\n",
      "  Using cached jupyter_core-4.9.1-py3-none-any.whl (86 kB)\n",
      "Requirement already satisfied: jupyterlab-pygments==0.1.2 in e:\\multimedia\\anaconda\\lib\\site-packages (from -r requirements.txt (line 23)) (0.1.2)\n",
      "Collecting jupyterlab-widgets==1.0.2\n",
      "  Using cached jupyterlab_widgets-1.0.2-py3-none-any.whl (243 kB)\n",
      "Collecting kiwisolver==1.3.2\n",
      "  Using cached kiwisolver-1.3.2-cp39-cp39-win_amd64.whl (52 kB)\n",
      "Requirement already satisfied: MarkupSafe==2.0.1 in e:\\multimedia\\anaconda\\lib\\site-packages (from -r requirements.txt (line 26)) (2.0.1)\n",
      "Collecting matplotlib==3.4.3\n",
      "  Using cached matplotlib-3.4.3-cp39-cp39-win_amd64.whl (7.1 MB)\n",
      "Collecting matplotlib-inline==0.1.3\n",
      "  Using cached matplotlib_inline-0.1.3-py3-none-any.whl (8.2 kB)\n",
      "Requirement already satisfied: mistune==0.8.4 in e:\\multimedia\\anaconda\\lib\\site-packages (from -r requirements.txt (line 29)) (0.8.4)\n",
      "Collecting nbclient==0.5.8\n",
      "  Using cached nbclient-0.5.8-py3-none-any.whl (70 kB)\n",
      "Collecting nbconvert==6.3.0\n",
      "  Using cached nbconvert-6.3.0-py3-none-any.whl (556 kB)\n",
      "Collecting nbformat==5.1.3\n",
      "  Using cached nbformat-5.1.3-py3-none-any.whl (178 kB)\n",
      "Collecting nest-asyncio==1.5.1\n",
      "  Using cached nest_asyncio-1.5.1-py3-none-any.whl (5.0 kB)\n",
      "Collecting notebook==6.4.5\n",
      "  Using cached notebook-6.4.5-py3-none-any.whl (9.9 MB)\n",
      "Collecting numpy==1.21.4\n",
      "  Using cached numpy-1.21.4-cp39-cp39-win_amd64.whl (14.0 MB)\n",
      "Collecting packaging==21.2\n",
      "  Using cached packaging-21.2-py3-none-any.whl (40 kB)\n",
      "Collecting pandas==1.3.4\n",
      "  Using cached pandas-1.3.4-cp39-cp39-win_amd64.whl (10.2 MB)\n",
      "Requirement already satisfied: pandocfilters==1.5.0 in e:\\multimedia\\anaconda\\lib\\site-packages (from -r requirements.txt (line 38)) (1.5.0)\n",
      "Collecting parso==0.8.2\n",
      "  Using cached parso-0.8.2-py2.py3-none-any.whl (94 kB)\n",
      "Requirement already satisfied: pexpect==4.8.0 in e:\\multimedia\\anaconda\\lib\\site-packages (from -r requirements.txt (line 40)) (4.8.0)\n",
      "Requirement already satisfied: pickleshare==0.7.5 in e:\\multimedia\\anaconda\\lib\\site-packages (from -r requirements.txt (line 41)) (0.7.5)\n",
      "Collecting Pillow==8.4.0\n",
      "  Using cached Pillow-8.4.0-cp39-cp39-win_amd64.whl (3.2 MB)\n",
      "Collecting prometheus-client==0.12.0\n",
      "  Using cached prometheus_client-0.12.0-py2.py3-none-any.whl (57 kB)\n",
      "Collecting prompt-toolkit==3.0.22\n",
      "  Using cached prompt_toolkit-3.0.22-py3-none-any.whl (374 kB)\n",
      "Requirement already satisfied: ptyprocess==0.7.0 in e:\\multimedia\\anaconda\\lib\\site-packages (from -r requirements.txt (line 45)) (0.7.0)\n",
      "Requirement already satisfied: pycparser==2.21 in e:\\multimedia\\anaconda\\lib\\site-packages (from -r requirements.txt (line 46)) (2.21)\n",
      "Collecting Pygments==2.10.0\n",
      "  Using cached Pygments-2.10.0-py3-none-any.whl (1.0 MB)\n",
      "Collecting pyparsing==2.4.7\n",
      "  Using cached pyparsing-2.4.7-py2.py3-none-any.whl (67 kB)\n",
      "Requirement already satisfied: pyrsistent==0.18.0 in e:\\multimedia\\anaconda\\lib\\site-packages (from -r requirements.txt (line 49)) (0.18.0)\n",
      "Requirement already satisfied: python-dateutil==2.8.2 in e:\\multimedia\\anaconda\\lib\\site-packages (from -r requirements.txt (line 50)) (2.8.2)\n",
      "Requirement already satisfied: pytz==2021.3 in e:\\multimedia\\anaconda\\lib\\site-packages (from -r requirements.txt (line 51)) (2021.3)\n",
      "Requirement already satisfied: pyzmq==22.3.0 in e:\\multimedia\\anaconda\\lib\\site-packages (from -r requirements.txt (line 52)) (22.3.0)\n",
      "Collecting qtconsole==5.2.0\n",
      "  Using cached qtconsole-5.2.0-py3-none-any.whl (120 kB)\n",
      "Requirement already satisfied: QtPy==1.11.2 in e:\\multimedia\\anaconda\\lib\\site-packages (from -r requirements.txt (line 54)) (1.11.2)\n",
      "Collecting scipy==1.7.2\n",
      "  Using cached scipy-1.7.2-cp39-cp39-win_amd64.whl (34.3 MB)\n",
      "Requirement already satisfied: Send2Trash==1.8.0 in e:\\multimedia\\anaconda\\lib\\site-packages (from -r requirements.txt (line 56)) (1.8.0)\n",
      "Requirement already satisfied: six==1.16.0 in e:\\multimedia\\anaconda\\lib\\site-packages (from -r requirements.txt (line 57)) (1.16.0)\n",
      "Requirement already satisfied: terminado==0.12.1 in e:\\multimedia\\anaconda\\lib\\site-packages (from -r requirements.txt (line 58)) (0.12.1)\n",
      "Requirement already satisfied: testpath==0.5.0 in e:\\multimedia\\anaconda\\lib\\site-packages (from -r requirements.txt (line 59)) (0.5.0)\n",
      "Requirement already satisfied: tornado==6.1 in e:\\multimedia\\anaconda\\lib\\site-packages (from -r requirements.txt (line 60)) (6.1)\n",
      "Requirement already satisfied: tqdm==4.62.3 in e:\\multimedia\\anaconda\\lib\\site-packages (from -r requirements.txt (line 61)) (4.62.3)\n",
      "Requirement already satisfied: traitlets==5.1.1 in e:\\multimedia\\anaconda\\lib\\site-packages (from -r requirements.txt (line 62)) (5.1.1)\n",
      "Requirement already satisfied: wcwidth==0.2.5 in e:\\multimedia\\anaconda\\lib\\site-packages (from -r requirements.txt (line 63)) (0.2.5)\n",
      "Requirement already satisfied: webencodings==0.5.1 in e:\\multimedia\\anaconda\\lib\\site-packages (from -r requirements.txt (line 64)) (0.5.1)\n",
      "Requirement already satisfied: widgetsnbextension==3.5.2 in e:\\multimedia\\anaconda\\lib\\site-packages (from -r requirements.txt (line 65)) (3.5.2)\n",
      "Requirement already satisfied: zipp==3.6.0 in e:\\multimedia\\anaconda\\lib\\site-packages (from -r requirements.txt (line 66)) (3.6.0)\n",
      "Requirement already satisfied: setuptools>=18.5 in e:\\multimedia\\anaconda\\lib\\site-packages (from ipython==7.29.0->-r requirements.txt (line 13)) (63.4.1)\n",
      "Requirement already satisfied: colorama in e:\\multimedia\\anaconda\\lib\\site-packages (from ipython==7.29.0->-r requirements.txt (line 13)) (0.4.5)\n",
      "Requirement already satisfied: pywin32>=1.0 in e:\\multimedia\\anaconda\\lib\\site-packages (from jupyter-core==4.9.1->-r requirements.txt (line 22)) (302)\n",
      "Requirement already satisfied: pywinpty>=1.1.0 in e:\\multimedia\\anaconda\\lib\\site-packages (from terminado==0.12.1->-r requirements.txt (line 58)) (2.0.2)\n",
      "Installing collected packages: pyparsing, Pygments, prompt-toolkit, prometheus-client, Pillow, parso, numpy, nest-asyncio, matplotlib-inline, kiwisolver, jupyterlab-widgets, jupyter-core, Jinja2, importlib-resources, entrypoints, decorator, cffi, attrs, scipy, pandas, packaging, matplotlib, jupyter-client, jsonschema, jedi, argon2-cffi, nbformat, ipython, nbclient, ipykernel, qtconsole, nbconvert, jupyter-console, notebook\n",
      "Successfully installed Jinja2-3.0.3 Pillow-8.4.0 Pygments-2.10.0 argon2-cffi-21.1.0 attrs-21.2.0 cffi-1.15.0 decorator-5.1.0 entrypoints-0.3 importlib-resources-5.4.0 ipykernel-6.5.0 ipython-7.29.0 jedi-0.18.0 jsonschema-4.2.1 jupyter-client-7.0.6 jupyter-console-6.4.0 jupyter-core-4.9.1 jupyterlab-widgets-1.0.2 kiwisolver-1.3.2 matplotlib-3.4.3 matplotlib-inline-0.1.3 nbclient-0.5.8 nbconvert-6.3.0 nbformat-5.1.3 nest-asyncio-1.5.1 notebook-6.4.5 numpy-1.21.4 packaging-21.2 pandas-1.3.4 parso-0.8.2 prometheus-client-0.12.0 prompt-toolkit-3.0.22 pyparsing-2.4.7 qtconsole-5.2.0 scipy-1.7.2\n"
     ]
    },
    {
     "name": "stderr",
     "output_type": "stream",
     "text": [
      "WARNING: The candidate selected for download or install is a yanked version: 'nbclient' candidate (version 0.5.8 at https://files.pythonhosted.org/packages/4f/81/e7a7e6b3bbbc0d94472b41e0db1308da0504c2c686ab34b3acd3472c0a9a/nbclient-0.5.8-py3-none-any.whl (from https://pypi.org/simple/nbclient/) (requires-python:>=3.6.1))\n",
      "Reason for being yanked: Please install >=0.5.9, or <=0.5.5\n",
      "  WARNING: The script pygmentize.exe is installed in 'C:\\Users\\ultra\\AppData\\Roaming\\Python\\Python39\\Scripts' which is not on PATH.\n",
      "  Consider adding this directory to PATH or, if you prefer to suppress this warning, use --no-warn-script-location.\n",
      "  WARNING: The script f2py.exe is installed in 'C:\\Users\\ultra\\AppData\\Roaming\\Python\\Python39\\Scripts' which is not on PATH.\n",
      "  Consider adding this directory to PATH or, if you prefer to suppress this warning, use --no-warn-script-location.\n",
      "  WARNING: The scripts jupyter-migrate.exe, jupyter-troubleshoot.exe and jupyter.exe are installed in 'C:\\Users\\ultra\\AppData\\Roaming\\Python\\Python39\\Scripts' which is not on PATH.\n",
      "  Consider adding this directory to PATH or, if you prefer to suppress this warning, use --no-warn-script-location.\n",
      "  WARNING: The scripts jupyter-kernel.exe, jupyter-kernelspec.exe and jupyter-run.exe are installed in 'C:\\Users\\ultra\\AppData\\Roaming\\Python\\Python39\\Scripts' which is not on PATH.\n",
      "  Consider adding this directory to PATH or, if you prefer to suppress this warning, use --no-warn-script-location.\n",
      "  WARNING: The script jsonschema.exe is installed in 'C:\\Users\\ultra\\AppData\\Roaming\\Python\\Python39\\Scripts' which is not on PATH.\n",
      "  Consider adding this directory to PATH or, if you prefer to suppress this warning, use --no-warn-script-location.\n",
      "  WARNING: The script jupyter-trust.exe is installed in 'C:\\Users\\ultra\\AppData\\Roaming\\Python\\Python39\\Scripts' which is not on PATH.\n",
      "  Consider adding this directory to PATH or, if you prefer to suppress this warning, use --no-warn-script-location.\n",
      "  WARNING: The scripts iptest.exe, iptest3.exe, ipython.exe and ipython3.exe are installed in 'C:\\Users\\ultra\\AppData\\Roaming\\Python\\Python39\\Scripts' which is not on PATH.\n",
      "  Consider adding this directory to PATH or, if you prefer to suppress this warning, use --no-warn-script-location.\n",
      "  WARNING: The scripts jupyter-execute.exe and jupyter-run.exe are installed in 'C:\\Users\\ultra\\AppData\\Roaming\\Python\\Python39\\Scripts' which is not on PATH.\n",
      "  Consider adding this directory to PATH or, if you prefer to suppress this warning, use --no-warn-script-location.\n",
      "  WARNING: The scripts jupyter-dejavu.exe and jupyter-nbconvert.exe are installed in 'C:\\Users\\ultra\\AppData\\Roaming\\Python\\Python39\\Scripts' which is not on PATH.\n",
      "  Consider adding this directory to PATH or, if you prefer to suppress this warning, use --no-warn-script-location.\n",
      "  WARNING: The script jupyter-console.exe is installed in 'C:\\Users\\ultra\\AppData\\Roaming\\Python\\Python39\\Scripts' which is not on PATH.\n",
      "  Consider adding this directory to PATH or, if you prefer to suppress this warning, use --no-warn-script-location.\n",
      "  WARNING: The scripts jupyter-bundlerextension.exe, jupyter-nbextension.exe, jupyter-notebook.exe and jupyter-serverextension.exe are installed in 'C:\\Users\\ultra\\AppData\\Roaming\\Python\\Python39\\Scripts' which is not on PATH.\n",
      "  Consider adding this directory to PATH or, if you prefer to suppress this warning, use --no-warn-script-location.\n",
      "ERROR: pip's dependency resolver does not currently take into account all the packages that are installed. This behaviour is the source of the following dependency conflicts.\n",
      "spyder 5.2.2 requires pyqt5<5.13, which is not installed.\n",
      "spyder 5.2.2 requires pyqtwebengine<5.13, which is not installed.\n",
      "daal4py 2021.6.0 requires daal==2021.4.0, which is not installed.\n",
      "anaconda-project 0.11.1 requires ruamel-yaml, which is not installed.\n",
      "statsmodels 0.13.2 requires packaging>=21.3, but you have packaging 21.2 which is incompatible.\n",
      "spyder 5.2.2 requires qtconsole<5.3.0,>=5.2.1, but you have qtconsole 5.2.0 which is incompatible.\n",
      "spyder-kernels 2.2.1 requires ipykernel>=6.6.1; python_version >= \"3\", but you have ipykernel 6.5.0 which is incompatible.\n",
      "spyder-kernels 2.2.1 requires jupyter-client>=7.1.0; python_version >= \"3\", but you have jupyter-client 7.0.6 which is incompatible.\n",
      "jupyter-server 1.18.1 requires nbconvert>=6.4.4, but you have nbconvert 6.3.0 which is incompatible.\n",
      "jupyter-server 1.18.1 requires nbformat>=5.2.0, but you have nbformat 5.1.3 which is incompatible.\n",
      "conda-repo-cli 1.0.20 requires clyent==1.2.1, but you have clyent 1.2.2 which is incompatible.\n",
      "conda-repo-cli 1.0.20 requires nbformat==5.4.0, but you have nbformat 5.1.3 which is incompatible.\n"
     ]
    }
   ],
   "source": [
    "# устанавливаем рекомендованый список модулей\n",
    "!pip install --user -r requirements.txt"
   ]
  },
  {
   "cell_type": "code",
   "execution_count": 1,
   "id": "76b9c43b",
   "metadata": {},
   "outputs": [],
   "source": [
    "import numpy as np"
   ]
  },
  {
   "cell_type": "markdown",
   "id": "03727b7c",
   "metadata": {},
   "source": [
    "# <span style=\"color: green;\">**1.** Дан случайный массив, поменять знак у элементов, значения которых между 3 и 8</span>"
   ]
  },
  {
   "cell_type": "code",
   "execution_count": 16,
   "id": "b89a7523",
   "metadata": {},
   "outputs": [
    {
     "data": {
      "text/plain": [
       "array([ 52,  93,  15,  72,  61,  21,  83,  87,  75,  75,  88, 100,  24,\n",
       "         3,  22,  53,   2,  88,  30,  38,   2,  64,  60,  21,  33,  76,\n",
       "        58,  22,  89,  49,  91,  59,  42,  92,  60,  80,  15,  62,  62,\n",
       "        47,  62,  51,  55,  64,   3,  51,   7,  21,  73,  39,  18,   4,\n",
       "        89,  60,  14,   9,  90,  53,   2,  84,  92,  60,  71,  44,   8,\n",
       "        47,  35,  78,  81,  36,  50,   4,   2,   6,  54,   4,  54,  93,\n",
       "        63,  18,  90,  44,  34,  74,  62, 100,  14,  95,  48,  15,  72,\n",
       "        78,  87,  62,  40,  85,  80,  82,  53,  24])"
      ]
     },
     "execution_count": 16,
     "metadata": {},
     "output_type": "execute_result"
    }
   ],
   "source": [
    "# создаем случайный массив из 100 элементов\n",
    "np.random.seed(42)\n",
    "arr = np.array([np.random.randint(1, 101) for _ in range(100)])\n",
    "arr"
   ]
  },
  {
   "cell_type": "code",
   "execution_count": 17,
   "id": "e8860813",
   "metadata": {},
   "outputs": [
    {
     "data": {
      "text/plain": [
       "8"
      ]
     },
     "execution_count": 17,
     "metadata": {},
     "output_type": "execute_result"
    }
   ],
   "source": [
    "# выводим количество \"особых\" элементов\n",
    "len(arr[(arr >= 3) & (arr <= 8)])"
   ]
  },
  {
   "cell_type": "code",
   "execution_count": 55,
   "id": "5e8cfc64",
   "metadata": {},
   "outputs": [
    {
     "data": {
      "text/plain": [
       "array([3, 3, 7, 4, 8, 4, 6, 4])"
      ]
     },
     "execution_count": 55,
     "metadata": {},
     "output_type": "execute_result"
    }
   ],
   "source": [
    "# отобразим эти особые элементы\n",
    "specials = (arr >= 3) & (arr <= 8)  # массив из True и False\n",
    "arr[specials]"
   ]
  },
  {
   "cell_type": "code",
   "execution_count": 57,
   "id": "5b712cad",
   "metadata": {},
   "outputs": [
    {
     "data": {
      "text/plain": [
       "array([ 52,  93,  15,  72,  61,  21,  83,  87,  75,  75,  88,   0,  24,\n",
       "        -3,  22,  53,   2,  88,  30,  38,   2,  64,  60,  21,  33,  76,\n",
       "        58,  22,  89,  49,  91,  59,  42,  92,  60,  80,  15,  62,  62,\n",
       "        47,  62,  51,  55,  64,  -3,  51,  -7,  21,  73,  39,  18,  -4,\n",
       "        89,  60,  14,   9,  90,  53,   2,  84,  92,  60,  71,  44,  -8,\n",
       "        47,  35,  78,  81,  36,  50,  -4,   2,  -6,  54,  -4,  54,  93,\n",
       "        63,  18,  90,  44,  34,  74,  62, 100,  14,  95,  48,  15,  72,\n",
       "        78,  87,  62,  40,  85,  80,  82,  53,  24])"
      ]
     },
     "execution_count": 57,
     "metadata": {},
     "output_type": "execute_result"
    }
   ],
   "source": [
    "# поменяем знаки на противоположные\n",
    "arr[specials] = -arr[specials]\n",
    "arr"
   ]
  },
  {
   "cell_type": "code",
   "execution_count": 58,
   "id": "2d61ff1e",
   "metadata": {},
   "outputs": [
    {
     "data": {
      "text/plain": [
       "array([-3, -3, -7, -4, -8, -4, -6, -4])"
      ]
     },
     "execution_count": 58,
     "metadata": {},
     "output_type": "execute_result"
    }
   ],
   "source": [
    "# теперь все элементы стали отрицательными, что также видно в массиве выше\n",
    "arr[specials]"
   ]
  },
  {
   "cell_type": "markdown",
   "id": "5fa4abda",
   "metadata": {},
   "source": [
    "# <span style=\"color: green;\">**2.** Заменить максимальный элемент случайного массива на 0</span>"
   ]
  },
  {
   "cell_type": "code",
   "execution_count": 42,
   "id": "f2788a6e",
   "metadata": {},
   "outputs": [
    {
     "data": {
      "text/plain": [
       "array([ 52,  93,  15,  72,  61,  21,  83,  87,  75,  75,  88, 100,  24,\n",
       "         3,  22,  53,   2,  88,  30,  38,   2,  64,  60,  21,  33,  76,\n",
       "        58,  22,  89,  49,  91,  59,  42,  92,  60,  80,  15,  62,  62,\n",
       "        47,  62,  51,  55,  64,   3,  51,   7,  21,  73,  39,  18,   4,\n",
       "        89,  60,  14,   9,  90,  53,   2,  84,  92,  60,  71,  44,   8,\n",
       "        47,  35,  78,  81,  36,  50,   4,   2,   6,  54,   4,  54,  93,\n",
       "        63,  18,  90,  44,  34,  74,  62, 100,  14,  95,  48,  15,  72,\n",
       "        78,  87,  62,  40,  85,  80,  82,  53,  24])"
      ]
     },
     "execution_count": 42,
     "metadata": {},
     "output_type": "execute_result"
    }
   ],
   "source": [
    "# создаем случайный массив из 100 элементов\n",
    "np.random.seed(42)\n",
    "arr = np.array([np.random.randint(1, 101) for _ in range(100)])\n",
    "arr"
   ]
  },
  {
   "cell_type": "code",
   "execution_count": 50,
   "id": "1211d912",
   "metadata": {},
   "outputs": [
    {
     "data": {
      "text/plain": [
       "100"
      ]
     },
     "execution_count": 50,
     "metadata": {},
     "output_type": "execute_result"
    }
   ],
   "source": [
    "# найдем самое первое вхождение наибольшего числа\n",
    "max(arr)"
   ]
  },
  {
   "cell_type": "code",
   "execution_count": 51,
   "id": "e749757d",
   "metadata": {},
   "outputs": [
    {
     "data": {
      "text/plain": [
       "85"
      ]
     },
     "execution_count": 51,
     "metadata": {},
     "output_type": "execute_result"
    }
   ],
   "source": [
    "# получим индекс наибольшего элемента\n",
    "biggest = np.argmax(arr)\n",
    "biggest"
   ]
  },
  {
   "cell_type": "code",
   "execution_count": 49,
   "id": "67e38b89",
   "metadata": {},
   "outputs": [
    {
     "data": {
      "text/plain": [
       "array([ 52,  93,  15,  72,  61,  21,  83,  87,  75,  75,  88,   0,  24,\n",
       "         3,  22,  53,   2,  88,  30,  38,   2,  64,  60,  21,  33,  76,\n",
       "        58,  22,  89,  49,  91,  59,  42,  92,  60,  80,  15,  62,  62,\n",
       "        47,  62,  51,  55,  64,   3,  51,   7,  21,  73,  39,  18,   4,\n",
       "        89,  60,  14,   9,  90,  53,   2,  84,  92,  60,  71,  44,   8,\n",
       "        47,  35,  78,  81,  36,  50,   4,   2,   6,  54,   4,  54,  93,\n",
       "        63,  18,  90,  44,  34,  74,  62, 100,  14,  95,  48,  15,  72,\n",
       "        78,  87,  62,  40,  85,  80,  82,  53,  24])"
      ]
     },
     "execution_count": 49,
     "metadata": {},
     "output_type": "execute_result"
    }
   ],
   "source": [
    "# преобразуем его в 0\n",
    "arr[biggest] = 0\n",
    "arr"
   ]
  },
  {
   "cell_type": "markdown",
   "id": "07ed06f0",
   "metadata": {},
   "source": [
    "### <span style=\"color: gold;\">Как видим, 12-й элемент стал равен 0</span>"
   ]
  },
  {
   "cell_type": "markdown",
   "id": "3cac656b",
   "metadata": {},
   "source": [
    "**3.** Построить прямое произведение массивов (все комбинации с каждым элементом). На вход подается двумерный массив"
   ]
  },
  {
   "cell_type": "code",
   "execution_count": 53,
   "id": "80108ed1",
   "metadata": {},
   "outputs": [
    {
     "name": "stdout",
     "output_type": "stream",
     "text": [
      "[[1 3]\n",
      " [2 3]\n",
      " [1 4]\n",
      " [2 4]\n",
      " [1 5]\n",
      " [2 5]]\n"
     ]
    }
   ],
   "source": [
    "import numpy as np\n",
    "\n",
    "def direct_product(arrays):\n",
    "    grids = np.meshgrid(*arrays)\n",
    "    flattened = [grid.reshape(-1) for grid in grids]\n",
    "    return np.stack(flattened, axis=-1)\n",
    "\n",
    "# Пример использования:\n",
    "arrays = [[1, 2], [3, 4, 5]]\n",
    "result = direct_product(arrays)\n",
    "print(result)"
   ]
  },
  {
   "cell_type": "code",
   "execution_count": 151,
   "id": "3396b764",
   "metadata": {},
   "outputs": [],
   "source": [
    "# your code"
   ]
  },
  {
   "cell_type": "markdown",
   "id": "674c9354",
   "metadata": {},
   "source": [
    "**4.** Даны 2 массива A (8x3) и B (2x2). Найти строки в A, которые содержат элементы из каждой строки в B, независимо от порядка элементов в B"
   ]
  },
  {
   "cell_type": "code",
   "execution_count": 152,
   "id": "cb664782",
   "metadata": {},
   "outputs": [],
   "source": [
    "# your code"
   ]
  },
  {
   "cell_type": "markdown",
   "id": "fa46533b",
   "metadata": {},
   "source": [
    "**5.** Дана 10x3 матрица, найти строки из неравных значений (например строка [2,2,3] остается, строка [3,3,3] удаляется)"
   ]
  },
  {
   "cell_type": "code",
   "execution_count": 153,
   "id": "fa545b23",
   "metadata": {},
   "outputs": [],
   "source": [
    "# your code"
   ]
  },
  {
   "cell_type": "markdown",
   "id": "28f0d116",
   "metadata": {},
   "source": [
    "**6.** Дан двумерный массив. Удалить те строки, которые повторяются"
   ]
  },
  {
   "cell_type": "code",
   "execution_count": 154,
   "id": "83d2c0b7",
   "metadata": {},
   "outputs": [],
   "source": [
    "# your code"
   ]
  },
  {
   "cell_type": "markdown",
   "id": "6daa9e37",
   "metadata": {},
   "source": [
    "______\n",
    "______"
   ]
  },
  {
   "cell_type": "markdown",
   "id": "cfbfcaff",
   "metadata": {},
   "source": [
    "Для каждой из следующих задач (1-5) нужно привести 2 реализации – одна без использования numpy (cчитайте, что там, где на входе или выходе должны быть numpy array, будут просто списки), а вторая полностью векторизованная с использованием numpy (без использования питоновских циклов/map/list comprehension).\n",
    "\n",
    "\n",
    "__Замечание 1.__ Можно считать, что все указанные объекты непустые (к примеру, в __задаче 1__ на диагонали матрицы есть ненулевые элементы).\n",
    "\n",
    "__Замечание 2.__ Для большинства задач решение занимает не больше 1-2 строк."
   ]
  },
  {
   "cell_type": "markdown",
   "id": "673cac7f",
   "metadata": {},
   "source": [
    "___"
   ]
  },
  {
   "cell_type": "markdown",
   "id": "ca6f585e",
   "metadata": {},
   "source": [
    "* __Задача 1__: Подсчитать произведение ненулевых элементов на диагонали прямоугольной матрицы.  \n",
    " Например, для X = np.array([[1, 0, 1], [2, 0, 2], [3, 0, 3], [4, 4, 4]]) ответ 3."
   ]
  },
  {
   "cell_type": "code",
   "execution_count": 156,
   "id": "065862fc",
   "metadata": {},
   "outputs": [],
   "source": [
    "# your code"
   ]
  },
  {
   "cell_type": "markdown",
   "id": "9fc51d41",
   "metadata": {},
   "source": [
    "* __Задача 2__: Даны два вектора x и y. Проверить, задают ли они одно и то же мультимножество.  \n",
    "  Например, для x = np.array([1, 2, 2, 4]), y = np.array([4, 2, 1, 2]) ответ True."
   ]
  },
  {
   "cell_type": "code",
   "execution_count": 157,
   "id": "a809e02f",
   "metadata": {},
   "outputs": [],
   "source": [
    "# your code"
   ]
  },
  {
   "cell_type": "markdown",
   "id": "b9c185c7",
   "metadata": {},
   "source": [
    "* __Задача 3__: Найти максимальный элемент в векторе x среди элементов, перед которыми стоит ноль. \n",
    " Например, для x = np.array([6, 2, 0, 3, 0, 0, 5, 7, 0]) ответ 5."
   ]
  },
  {
   "cell_type": "code",
   "execution_count": 158,
   "id": "b57df008",
   "metadata": {},
   "outputs": [],
   "source": [
    "# your code"
   ]
  },
  {
   "cell_type": "markdown",
   "id": "480be4ce",
   "metadata": {},
   "source": [
    "* __Задача 4__: Реализовать кодирование длин серий (Run-length encoding). Для некоторого вектора x необходимо вернуть кортеж из двух векторов одинаковой длины. Первый содержит числа, а второй - сколько раз их нужно повторить.  \n",
    " Например, для x = np.array([2, 2, 2, 3, 3, 3, 5]) ответ (np.array([2, 3, 5]), np.array([3, 3, 1]))."
   ]
  },
  {
   "cell_type": "code",
   "execution_count": 159,
   "id": "3c592124",
   "metadata": {},
   "outputs": [],
   "source": [
    "# your code"
   ]
  },
  {
   "cell_type": "markdown",
   "id": "077532ec",
   "metadata": {},
   "source": [
    "* __Задача 5__: Даны две выборки объектов - X и Y. Вычислить матрицу евклидовых расстояний между объектами. Сравните с функцией scipy.spatial.distance.cdist по скорости работы."
   ]
  },
  {
   "cell_type": "code",
   "execution_count": 160,
   "id": "1e807797",
   "metadata": {},
   "outputs": [],
   "source": [
    "# your code"
   ]
  },
  {
   "cell_type": "markdown",
   "id": "973e8064",
   "metadata": {},
   "source": [
    "_______\n",
    "________"
   ]
  },
  {
   "cell_type": "markdown",
   "id": "1104acb7",
   "metadata": {},
   "source": [
    "* #### __Задача 6__: CrunchieMunchies __*__\n",
    "\n",
    "Вы работаете в отделе маркетинга пищевой компании MyCrunch, которая разрабатывает новый вид вкусных, полезных злаков под названием **CrunchieMunchies**.\n",
    "\n",
    "Вы хотите продемонстрировать потребителям, насколько полезны ваши хлопья по сравнению с другими ведущими брендами, поэтому вы собрали данные о питании нескольких разных конкурентов.\n",
    "\n",
    "Ваша задача - использовать вычисления Numpy для анализа этих данных и доказать, что ваши **СrunchieMunchies** - самый здоровый выбор для потребителей.\n"
   ]
  },
  {
   "cell_type": "code",
   "execution_count": 77,
   "id": "10a77f8d",
   "metadata": {},
   "outputs": [],
   "source": [
    "import numpy as np"
   ]
  },
  {
   "cell_type": "markdown",
   "id": "ab87cb03",
   "metadata": {},
   "source": [
    "1. Просмотрите файл cereal.csv. Этот файл содержит количества калорий для различных марок хлопьев. Загрузите данные из файла и сохраните их как calorie_stats."
   ]
  },
  {
   "cell_type": "code",
   "execution_count": 170,
   "id": "9681ebf2",
   "metadata": {},
   "outputs": [
    {
     "data": {
      "text/plain": [
       "array([ 70., 120.,  70.,  50., 110., 110., 110., 130.,  90.,  90., 120.,\n",
       "       110., 120., 110., 110., 110., 100., 110., 110., 110., 100., 110.,\n",
       "       100., 100., 110., 110., 100., 120., 120., 110., 100., 110., 100.,\n",
       "       110., 120., 120., 110., 110., 110., 140., 110., 100., 110., 100.,\n",
       "       150., 150., 160., 100., 120., 140.,  90., 130., 120., 100.,  50.,\n",
       "        50., 100., 100., 120., 100.,  90., 110., 110.,  80.,  90.,  90.,\n",
       "       110., 110.,  90., 110., 140., 100., 110., 110., 100., 100., 110.])"
      ]
     },
     "execution_count": 170,
     "metadata": {},
     "output_type": "execute_result"
    }
   ],
   "source": [
    "calorie_stats = np.loadtxt(\"./data/cereal.csv\", delimiter=\",\")\n",
    "calorie_stats"
   ]
  },
  {
   "cell_type": "markdown",
   "id": "139cfbd8",
   "metadata": {},
   "source": [
    "2. В одной порции CrunchieMunchies содержится 60 калорий. Насколько выше среднее количество калорий у ваших конкурентов?\n",
    "\n",
    "Сохраните ответ в переменной average_calories и распечатайте переменную в терминале"
   ]
  },
  {
   "cell_type": "code",
   "execution_count": 161,
   "id": "7036d240",
   "metadata": {},
   "outputs": [],
   "source": [
    "# your code"
   ]
  },
  {
   "cell_type": "markdown",
   "id": "b2ddb4cd",
   "metadata": {},
   "source": [
    "3. Корректно ли среднее количество калорий отражает распределение набора данных? Давайте отсортируем данные и посмотрим.\n",
    "\n",
    "Отсортируйте данные и сохраните результат в переменной calorie_stats_sorted. Распечатайте отсортированную информацию"
   ]
  },
  {
   "cell_type": "code",
   "execution_count": 162,
   "id": "46eeb4ed",
   "metadata": {},
   "outputs": [],
   "source": [
    "# your code"
   ]
  },
  {
   "cell_type": "markdown",
   "id": "4dc74116",
   "metadata": {},
   "source": [
    "4. Похоже, что большинство значений выше среднего. Давайте посмотрим, является ли медиана наиболее корректным показателем набора данных.\n",
    "\n",
    "Вычислите медиану набора данных и сохраните свой ответ в median_calories. Выведите медиану, чтобы вы могли видеть, как она сравнивается со средним значением."
   ]
  },
  {
   "cell_type": "code",
   "execution_count": 163,
   "id": "b56627c3",
   "metadata": {},
   "outputs": [],
   "source": [
    "# your code"
   ]
  },
  {
   "cell_type": "markdown",
   "id": "a63ab72f",
   "metadata": {},
   "source": [
    "5. В то время как медиана показывает, что по крайней мере половина наших значений составляет более 100 калорий, было бы более впечатляюще показать, что значительная часть конкурентов имеет более высокое количество калорий, чем CrunchieMunchies.\n",
    "\n",
    "Рассчитайте различные процентили и распечатайте их, пока не найдете наименьший процентиль, превышающий 60 калорий. Сохраните это значение в переменной nth_percentile."
   ]
  },
  {
   "cell_type": "code",
   "execution_count": 164,
   "id": "fe80ce03",
   "metadata": {},
   "outputs": [],
   "source": [
    "# your code"
   ]
  },
  {
   "cell_type": "markdown",
   "id": "a2a3c5aa",
   "metadata": {},
   "source": [
    "6. Хотя процентиль показывает нам, что у большинства конкурентов количество калорий намного выше, это неудобная концепция для использования в маркетинговых материалах.\n",
    "\n",
    "Вместо этого давайте подсчитаем процент хлопьев, в которых содержится более 60 калорий на порцию. Сохраните свой ответ в переменной more_calories и распечатайте его"
   ]
  },
  {
   "cell_type": "code",
   "execution_count": 165,
   "id": "ade0f6ea",
   "metadata": {},
   "outputs": [],
   "source": [
    "# your code"
   ]
  },
  {
   "cell_type": "markdown",
   "id": "1735d65b",
   "metadata": {},
   "source": [
    "7. Это действительно высокий процент. Это будет очень полезно, когда мы будем продвигать CrunchieMunchies. Но один вопрос заключается в том, насколько велики различия в наборе данных? Можем ли мы сделать обобщение, что в большинстве злаков содержится около 100 калорий или разброс еще больше?\n",
    "\n",
    "Рассчитайте величину отклонения, найдя стандартное отклонение, Сохраните свой ответ в calorie_std и распечатайте на терминале. Как мы можем включить эту ценность в наш анализ?"
   ]
  },
  {
   "cell_type": "code",
   "execution_count": 166,
   "id": "85c8df1f",
   "metadata": {},
   "outputs": [],
   "source": [
    "# your code"
   ]
  },
  {
   "cell_type": "markdown",
   "id": "037455c5",
   "metadata": {},
   "source": [
    "8. Напишите короткий абзац, в котором кратко изложите свои выводы и то, как, по вашему мнению, эти данные могут быть использованы в интересах Mycrunch при маркетинге CrunchieMunchies."
   ]
  },
  {
   "cell_type": "code",
   "execution_count": 167,
   "id": "c260fee9",
   "metadata": {},
   "outputs": [],
   "source": [
    "# your code"
   ]
  }
 ],
 "metadata": {
  "kernelspec": {
   "display_name": "Python 3 (ipykernel)",
   "language": "python",
   "name": "python3"
  },
  "language_info": {
   "codemirror_mode": {
    "name": "ipython",
    "version": 3
   },
   "file_extension": ".py",
   "mimetype": "text/x-python",
   "name": "python",
   "nbconvert_exporter": "python",
   "pygments_lexer": "ipython3",
   "version": "3.9.13"
  }
 },
 "nbformat": 4,
 "nbformat_minor": 5
}
