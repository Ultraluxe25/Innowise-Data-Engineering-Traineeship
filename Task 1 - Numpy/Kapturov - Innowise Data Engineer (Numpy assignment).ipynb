{
 "cells": [
  {
   "cell_type": "markdown",
   "id": "424c3788",
   "metadata": {},
   "source": [
    "![](https://numpy.org/doc/stable/_static/numpylogo.svg)"
   ]
  },
  {
   "cell_type": "markdown",
   "id": "d3df79dd",
   "metadata": {},
   "source": [
    "# Упражнения по библиотеке Numpy"
   ]
  },
  {
   "cell_type": "code",
   "execution_count": 1,
   "id": "aac248a1",
   "metadata": {
    "scrolled": true
   },
   "outputs": [],
   "source": [
    "# устанавливаем рекомендованый список модулей\n",
    "# !pip install --user -r requirements.txt"
   ]
  },
  {
   "cell_type": "code",
   "execution_count": 2,
   "id": "76b9c43b",
   "metadata": {},
   "outputs": [],
   "source": [
    "import numpy as np"
   ]
  },
  {
   "cell_type": "markdown",
   "id": "03727b7c",
   "metadata": {},
   "source": [
    "# <span style=\"color: green;\">**1.** Дан случайный массив, поменять знак у элементов, значения которых между 3 и 8</span>"
   ]
  },
  {
   "cell_type": "code",
   "execution_count": 3,
   "id": "b89a7523",
   "metadata": {},
   "outputs": [
    {
     "data": {
      "text/plain": [
       "array([ 52,  93,  15,  72,  61,  21,  83,  87,  75,  75,  88, 100,  24,\n",
       "         3,  22,  53,   2,  88,  30,  38,   2,  64,  60,  21,  33,  76,\n",
       "        58,  22,  89,  49,  91,  59,  42,  92,  60,  80,  15,  62,  62,\n",
       "        47,  62,  51,  55,  64,   3,  51,   7,  21,  73,  39,  18,   4,\n",
       "        89,  60,  14,   9,  90,  53,   2,  84,  92,  60,  71,  44,   8,\n",
       "        47,  35,  78,  81,  36,  50,   4,   2,   6,  54,   4,  54,  93,\n",
       "        63,  18,  90,  44,  34,  74,  62, 100,  14,  95,  48,  15,  72,\n",
       "        78,  87,  62,  40,  85,  80,  82,  53,  24])"
      ]
     },
     "execution_count": 3,
     "metadata": {},
     "output_type": "execute_result"
    }
   ],
   "source": [
    "# создаем случайный массив из 100 элементов\n",
    "np.random.seed(42)\n",
    "arr = np.array([np.random.randint(1, 101) for _ in range(100)])\n",
    "arr"
   ]
  },
  {
   "cell_type": "code",
   "execution_count": 4,
   "id": "e8860813",
   "metadata": {},
   "outputs": [
    {
     "data": {
      "text/plain": [
       "8"
      ]
     },
     "execution_count": 4,
     "metadata": {},
     "output_type": "execute_result"
    }
   ],
   "source": [
    "# выводим количество \"особых\" элементов\n",
    "len(arr[(arr >= 3) & (arr <= 8)])"
   ]
  },
  {
   "cell_type": "code",
   "execution_count": 5,
   "id": "5e8cfc64",
   "metadata": {},
   "outputs": [
    {
     "data": {
      "text/plain": [
       "array([3, 3, 7, 4, 8, 4, 6, 4])"
      ]
     },
     "execution_count": 5,
     "metadata": {},
     "output_type": "execute_result"
    }
   ],
   "source": [
    "# отобразим эти особые элементы\n",
    "specials = (arr >= 3) & (arr <= 8)  # массив из True и False\n",
    "arr[specials]"
   ]
  },
  {
   "cell_type": "code",
   "execution_count": 6,
   "id": "5b712cad",
   "metadata": {},
   "outputs": [
    {
     "data": {
      "text/plain": [
       "array([ 52,  93,  15,  72,  61,  21,  83,  87,  75,  75,  88, 100,  24,\n",
       "        -3,  22,  53,   2,  88,  30,  38,   2,  64,  60,  21,  33,  76,\n",
       "        58,  22,  89,  49,  91,  59,  42,  92,  60,  80,  15,  62,  62,\n",
       "        47,  62,  51,  55,  64,  -3,  51,  -7,  21,  73,  39,  18,  -4,\n",
       "        89,  60,  14,   9,  90,  53,   2,  84,  92,  60,  71,  44,  -8,\n",
       "        47,  35,  78,  81,  36,  50,  -4,   2,  -6,  54,  -4,  54,  93,\n",
       "        63,  18,  90,  44,  34,  74,  62, 100,  14,  95,  48,  15,  72,\n",
       "        78,  87,  62,  40,  85,  80,  82,  53,  24])"
      ]
     },
     "execution_count": 6,
     "metadata": {},
     "output_type": "execute_result"
    }
   ],
   "source": [
    "# поменяем знаки на противоположные\n",
    "arr[specials] = -arr[specials]\n",
    "arr"
   ]
  },
  {
   "cell_type": "code",
   "execution_count": 7,
   "id": "2d61ff1e",
   "metadata": {},
   "outputs": [
    {
     "data": {
      "text/plain": [
       "array([-3, -3, -7, -4, -8, -4, -6, -4])"
      ]
     },
     "execution_count": 7,
     "metadata": {},
     "output_type": "execute_result"
    }
   ],
   "source": [
    "# теперь все элементы стали отрицательными, что также видно в массиве выше\n",
    "arr[specials]"
   ]
  },
  {
   "cell_type": "markdown",
   "id": "5fa4abda",
   "metadata": {},
   "source": [
    "# <span style=\"color: green;\">**2.** Заменить максимальный элемент случайного массива на 0</span>"
   ]
  },
  {
   "cell_type": "code",
   "execution_count": 8,
   "id": "f2788a6e",
   "metadata": {},
   "outputs": [
    {
     "data": {
      "text/plain": [
       "array([ 52,  93,  15,  72,  61,  21,  83,  87,  75,  75,  88, 100,  24,\n",
       "         3,  22,  53,   2,  88,  30,  38,   2,  64,  60,  21,  33,  76,\n",
       "        58,  22,  89,  49,  91,  59,  42,  92,  60,  80,  15,  62,  62,\n",
       "        47,  62,  51,  55,  64,   3,  51,   7,  21,  73,  39,  18,   4,\n",
       "        89,  60,  14,   9,  90,  53,   2,  84,  92,  60,  71,  44,   8,\n",
       "        47,  35,  78,  81,  36,  50,   4,   2,   6,  54,   4,  54,  93,\n",
       "        63,  18,  90,  44,  34,  74,  62, 100,  14,  95,  48,  15,  72,\n",
       "        78,  87,  62,  40,  85,  80,  82,  53,  24])"
      ]
     },
     "execution_count": 8,
     "metadata": {},
     "output_type": "execute_result"
    }
   ],
   "source": [
    "# создаем случайный массив из 100 элементов\n",
    "np.random.seed(42)\n",
    "arr = np.array([np.random.randint(1, 101) for _ in range(100)])\n",
    "arr"
   ]
  },
  {
   "cell_type": "code",
   "execution_count": 9,
   "id": "1211d912",
   "metadata": {},
   "outputs": [
    {
     "data": {
      "text/plain": [
       "100"
      ]
     },
     "execution_count": 9,
     "metadata": {},
     "output_type": "execute_result"
    }
   ],
   "source": [
    "# найдем значение наибольшего числа массива\n",
    "biggest = np.max(arr)\n",
    "biggest"
   ]
  },
  {
   "cell_type": "code",
   "execution_count": 10,
   "id": "67e38b89",
   "metadata": {},
   "outputs": [
    {
     "data": {
      "text/plain": [
       "array([52, 93, 15, 72, 61, 21, 83, 87, 75, 75, 88,  0, 24,  3, 22, 53,  2,\n",
       "       88, 30, 38,  2, 64, 60, 21, 33, 76, 58, 22, 89, 49, 91, 59, 42, 92,\n",
       "       60, 80, 15, 62, 62, 47, 62, 51, 55, 64,  3, 51,  7, 21, 73, 39, 18,\n",
       "        4, 89, 60, 14,  9, 90, 53,  2, 84, 92, 60, 71, 44,  8, 47, 35, 78,\n",
       "       81, 36, 50,  4,  2,  6, 54,  4, 54, 93, 63, 18, 90, 44, 34, 74, 62,\n",
       "        0, 14, 95, 48, 15, 72, 78, 87, 62, 40, 85, 80, 82, 53, 24])"
      ]
     },
     "execution_count": 10,
     "metadata": {},
     "output_type": "execute_result"
    }
   ],
   "source": [
    "# каждое максимальное значение через broadcasting приравняем к нулю\n",
    "arr[arr == biggest] = 0\n",
    "arr"
   ]
  },
  {
   "cell_type": "markdown",
   "id": "3cac656b",
   "metadata": {},
   "source": [
    "# <span style=\"color: green;\">**3.** Построить прямое произведение массивов (все комбинации с каждым элементом). На вход подается двумерный массив</span>"
   ]
  },
  {
   "cell_type": "code",
   "execution_count": 11,
   "id": "7339e573",
   "metadata": {},
   "outputs": [
    {
     "name": "stdout",
     "output_type": "stream",
     "text": [
      "Прямое произведение массивов:\n",
      "[[1 4]\n",
      " [1 5]\n",
      " [1 6]\n",
      " [2 4]\n",
      " [2 5]\n",
      " [2 6]\n",
      " [3 4]\n",
      " [3 5]\n",
      " [3 6]]\n"
     ]
    }
   ],
   "source": [
    "import numpy as np\n",
    "\n",
    "# создаем два массива\n",
    "A = np.array([1, 2, 3])\n",
    "B = np.array([4, 5, 6])\n",
    "\n",
    "# Для построения прямого произведения массивов в NumPy мы можем использовать функцию meshgrid. \n",
    "# Она создает двумерные массивы, которые содержат все возможные комбинации элементов из двух исходных массивов.\n",
    "result = np.array(np.meshgrid(A, B)).T.reshape(-1, 2)\n",
    "\n",
    "print(\"Прямое произведение массивов:\")\n",
    "print(result)"
   ]
  },
  {
   "cell_type": "markdown",
   "id": "722a647a",
   "metadata": {},
   "source": [
    "# [numpy.meshgrid](https://numpy.org/doc/stable/reference/generated/numpy.meshgrid.html)"
   ]
  },
  {
   "cell_type": "code",
   "execution_count": 12,
   "id": "c18f67fd",
   "metadata": {},
   "outputs": [
    {
     "data": {
      "text/plain": [
       "array([[[1, 2, 3],\n",
       "        [1, 2, 3],\n",
       "        [1, 2, 3]],\n",
       "\n",
       "       [[4, 4, 4],\n",
       "        [5, 5, 5],\n",
       "        [6, 6, 6]]])"
      ]
     },
     "execution_count": 12,
     "metadata": {},
     "output_type": "execute_result"
    }
   ],
   "source": [
    "# для демонстрации\n",
    "np.array(np.meshgrid(A, B))"
   ]
  },
  {
   "cell_type": "markdown",
   "id": "674c9354",
   "metadata": {},
   "source": [
    "# <span style=\"color: green\">**4.** Даны 2 массива A (8x3) и B (2x2). Найти строки в A, которые содержат элементы из каждой строки в B, независимо от порядка элементов в B</span>"
   ]
  },
  {
   "cell_type": "code",
   "execution_count": 13,
   "id": "95e9b3c8",
   "metadata": {},
   "outputs": [],
   "source": [
    "# Сформируем два массива так, чтобы хоть один подмассив содержал все значения из массива 2X2\n",
    "A = np.array([[1, 2, 3], [4, 5, 6], [7, 8, 9], [1, 3, 5], [5, 7, 9], [2, 4, 6], [6, 8, 10], [1, 5, 10]])\n",
    "B = np.array([[3, 5], [5, 1]])"
   ]
  },
  {
   "cell_type": "code",
   "execution_count": 14,
   "id": "3b521daf",
   "metadata": {},
   "outputs": [
    {
     "name": "stdout",
     "output_type": "stream",
     "text": [
      "[False False False False False False False False]\n",
      "[[1 3 5]]\n"
     ]
    }
   ],
   "source": [
    "# создаем массив, в котором будем хранить результаты поиска\n",
    "result = np.zeros(A.shape[0], dtype=bool)  # массив из False размерностью 1X8\n",
    "print(result)\n",
    "\n",
    "# проходим по каждой строке массива A динамически\n",
    "for i in range(A.shape[0]):\n",
    "    # проверяем, содержатся ли элементы из каждой строки массива B в текущей строке массива A\n",
    "    if np.all(np.isin(B, A[i])):\n",
    "        result[i] = True\n",
    "\n",
    "# выводим результаты поиска по маске\n",
    "print(A[result])"
   ]
  },
  {
   "cell_type": "markdown",
   "id": "9ef9bef8",
   "metadata": {},
   "source": [
    "# [numpy.isin](https://numpy.org/doc/stable/reference/generated/numpy.isin.html)"
   ]
  },
  {
   "cell_type": "markdown",
   "id": "fa46533b",
   "metadata": {},
   "source": [
    "# <span style=\"color: green\">**5.** Дана 10x3 матрица, найти строки из неравных значений (например строка [2,2,3] остается, строка [3,3,3] удаляется)</span>"
   ]
  },
  {
   "attachments": {
    "image.png": {
     "image/png": "[encoded data removed]"
    }
   },
   "cell_type": "markdown",
   "id": "4ce0ed9e",
   "metadata": {},
   "source": [
    "Довольно похожая задача была на литкоде)\n",
    "![image.png](attachment:image.png)"
   ]
  },
  {
   "cell_type": "code",
   "execution_count": 15,
   "id": "fa545b23",
   "metadata": {},
   "outputs": [
    {
     "data": {
      "text/plain": [
       "array([[3, 1, 3],\n",
       "       [3, 1, 1],\n",
       "       [3, 2, 3],\n",
       "       [3, 3, 3],\n",
       "       [1, 3, 2],\n",
       "       [1, 2, 2],\n",
       "       [2, 2, 1],\n",
       "       [1, 2, 2],\n",
       "       [1, 1, 1],\n",
       "       [3, 3, 3]])"
      ]
     },
     "execution_count": 15,
     "metadata": {},
     "output_type": "execute_result"
    }
   ],
   "source": [
    "# создаём матрицу 10 на 3\n",
    "np.random.seed(42)\n",
    "task_5 = np.array([np.random.randint(1, 4) for _ in range(30)])\n",
    "task_5 = task_5.reshape(10, 3)\n",
    "task_5  # имеется 3 подмассива с одинаковыми элементами"
   ]
  },
  {
   "cell_type": "code",
   "execution_count": 16,
   "id": "90e1d07b",
   "metadata": {},
   "outputs": [
    {
     "data": {
      "text/plain": [
       "[True, True, True, False, True, True, True, True, False, False]"
      ]
     },
     "execution_count": 16,
     "metadata": {},
     "output_type": "execute_result"
    }
   ],
   "source": [
    "# формируем маску\n",
    "mask = list(map(lambda x: len(set(x)) > 1, task_5))\n",
    "mask"
   ]
  },
  {
   "cell_type": "code",
   "execution_count": 17,
   "id": "0c3ade38",
   "metadata": {},
   "outputs": [
    {
     "data": {
      "text/plain": [
       "array([[3, 1, 3],\n",
       "       [3, 1, 1],\n",
       "       [3, 2, 3],\n",
       "       [1, 3, 2],\n",
       "       [1, 2, 2],\n",
       "       [2, 2, 1],\n",
       "       [1, 2, 2]])"
      ]
     },
     "execution_count": 17,
     "metadata": {},
     "output_type": "execute_result"
    }
   ],
   "source": [
    "# выводим решение\n",
    "task_5[mask]"
   ]
  },
  {
   "cell_type": "markdown",
   "id": "28f0d116",
   "metadata": {},
   "source": [
    "# <span style=\"color: green;\">**6.** Дан двумерный массив. Удалить те строки, которые повторяются</span>"
   ]
  },
  {
   "cell_type": "code",
   "execution_count": 18,
   "id": "83d2c0b7",
   "metadata": {},
   "outputs": [
    {
     "data": {
      "text/plain": [
       "array([[3, 4],\n",
       "       [1, 3],\n",
       "       [3, 4],\n",
       "       [1, 1],\n",
       "       [3, 2],\n",
       "       [3, 3],\n",
       "       [3, 3],\n",
       "       [4, 1],\n",
       "       [4, 4],\n",
       "       [4, 3]])"
      ]
     },
     "execution_count": 18,
     "metadata": {},
     "output_type": "execute_result"
    }
   ],
   "source": [
    "# создаем массив\n",
    "np.random.seed(42)\n",
    "task_6 = np.array([np.random.randint(1, 5) for _ in range(20)]).reshape(10, 2)\n",
    "task_6"
   ]
  },
  {
   "cell_type": "code",
   "execution_count": 19,
   "id": "de416454",
   "metadata": {},
   "outputs": [
    {
     "data": {
      "text/plain": [
       "array([[1, 1],\n",
       "       [1, 3],\n",
       "       [3, 2],\n",
       "       [3, 3],\n",
       "       [3, 4],\n",
       "       [4, 1],\n",
       "       [4, 3],\n",
       "       [4, 4]])"
      ]
     },
     "execution_count": 19,
     "metadata": {},
     "output_type": "execute_result"
    }
   ],
   "source": [
    "# оставляем только уникальные строки\n",
    "response = np.unique(task_6, axis=0)\n",
    "response"
   ]
  },
  {
   "cell_type": "markdown",
   "id": "1e5a5d6e",
   "metadata": {},
   "source": [
    "# [numpy.unique](https://numpy.org/doc/stable/reference/generated/numpy.unique.html)"
   ]
  },
  {
   "cell_type": "markdown",
   "id": "cfbfcaff",
   "metadata": {},
   "source": [
    "Для каждой из следующих задач (1-5) нужно привести 2 реализации – одна без использования numpy (cчитайте, что там, где на входе или выходе должны быть numpy array, будут просто списки), а вторая полностью векторизованная с использованием numpy (без использования питоновских циклов/map/list comprehension).\n",
    "\n",
    "\n",
    "__Замечание 1.__ Можно считать, что все указанные объекты непустые (к примеру, в __задаче 1__ на диагонали матрицы есть ненулевые элементы).\n",
    "\n",
    "__Замечание 2.__ Для большинства задач решение занимает не больше 1-2 строк."
   ]
  },
  {
   "cell_type": "markdown",
   "id": "ca6f585e",
   "metadata": {},
   "source": [
    "# <span style=\"color: red\">__Задача 1__: Подсчитать произведение ненулевых элементов на диагонали прямоугольной матрицы.</span>\n",
    " Например, для X = np.array([[1, 0, 1], [2, 0, 2], [3, 0, 3], [4, 4, 4]]) ответ 3."
   ]
  },
  {
   "cell_type": "markdown",
   "id": "f2fa9b3c",
   "metadata": {},
   "source": [
    "## Решение на чистом Python"
   ]
  },
  {
   "cell_type": "code",
   "execution_count": 20,
   "id": "065862fc",
   "metadata": {},
   "outputs": [
    {
     "data": {
      "text/plain": [
       "[[1, 4, 0], [2, 0, 3], [3, 3, 3], [1, 0, 3]]"
      ]
     },
     "execution_count": 20,
     "metadata": {},
     "output_type": "execute_result"
    }
   ],
   "source": [
    "# получим случайный двумерный список 4 на 3 как в примере\n",
    "from random import randint, seed\n",
    "\n",
    "seed(1)\n",
    "lst_1 = [[randint(0, 4) for _ in range(3)] for _ in range(4)]\n",
    "lst_1"
   ]
  },
  {
   "cell_type": "code",
   "execution_count": 21,
   "id": "4a9e125c",
   "metadata": {},
   "outputs": [
    {
     "data": {
      "text/plain": [
       "[1, 0, 3]"
      ]
     },
     "execution_count": 21,
     "metadata": {},
     "output_type": "execute_result"
    }
   ],
   "source": [
    "# получим диагональную матрицу\n",
    "\n",
    "# for i in range(len(lst[0])):\n",
    "#     diag.append(lst[i][i])\n",
    "diag = [lst_1[i][i] for i in range(len(lst_1[0]))]\n",
    "diag"
   ]
  },
  {
   "cell_type": "code",
   "execution_count": 22,
   "id": "76cb20ea",
   "metadata": {},
   "outputs": [],
   "source": [
    "# удалим все нулевые элементы\n",
    "while 0 in diag:\n",
    "    diag.remove(0)"
   ]
  },
  {
   "cell_type": "code",
   "execution_count": 23,
   "id": "6306f1c0",
   "metadata": {},
   "outputs": [
    {
     "data": {
      "text/plain": [
       "3"
      ]
     },
     "execution_count": 23,
     "metadata": {},
     "output_type": "execute_result"
    }
   ],
   "source": [
    "# подсчитаем произведение не нулевых элементов\n",
    "from functools import reduce\n",
    "\n",
    "solution = reduce(lambda x, y: x * y, diag)\n",
    "solution"
   ]
  },
  {
   "cell_type": "markdown",
   "id": "a173f15b",
   "metadata": {},
   "source": [
    "## Решение, используя NumPy"
   ]
  },
  {
   "cell_type": "code",
   "execution_count": 24,
   "id": "18474ff8",
   "metadata": {},
   "outputs": [
    {
     "data": {
      "text/plain": [
       "array([[3, 0, 1],\n",
       "       [2, 3, 3],\n",
       "       [3, 3, 0],\n",
       "       [1, 2, 3]])"
      ]
     },
     "execution_count": 24,
     "metadata": {},
     "output_type": "execute_result"
    }
   ],
   "source": [
    "# получим случайную матрицу 4 на 3\n",
    "np.random.seed(7)\n",
    "arr_1 = np.array([np.random.randint(0, 4) for _ in range(12)]).reshape(4, 3)\n",
    "arr_1"
   ]
  },
  {
   "cell_type": "code",
   "execution_count": 25,
   "id": "054611ba",
   "metadata": {},
   "outputs": [
    {
     "data": {
      "text/plain": [
       "array([3, 3, 0])"
      ]
     },
     "execution_count": 25,
     "metadata": {},
     "output_type": "execute_result"
    }
   ],
   "source": [
    "# получим диагональную матрицу\n",
    "diag = np.diag(arr_1)\n",
    "diag"
   ]
  },
  {
   "cell_type": "code",
   "execution_count": 26,
   "id": "f6150f7e",
   "metadata": {},
   "outputs": [
    {
     "data": {
      "text/plain": [
       "9"
      ]
     },
     "execution_count": 26,
     "metadata": {},
     "output_type": "execute_result"
    }
   ],
   "source": [
    "# получим ненулевое произведение диагональной матрицы\n",
    "np.prod(list(filter(lambda x: x > 0, diag)))"
   ]
  },
  {
   "cell_type": "markdown",
   "id": "59441ffb",
   "metadata": {},
   "source": [
    "# [numpy.prod](https://numpy.org/doc/stable/reference/generated/numpy.prod.html)"
   ]
  },
  {
   "cell_type": "markdown",
   "id": "9fc51d41",
   "metadata": {},
   "source": [
    "# <span style=\"color: red\">__Задача 2__: Даны два вектора x и y. Проверить, задают ли они одно и то же мультимножество.  \n",
    "  Например, для x = np.array([1, 2, 2, 4]), y = np.array([4, 2, 1, 2]) ответ True.</span>"
   ]
  },
  {
   "cell_type": "markdown",
   "id": "2c712e13",
   "metadata": {},
   "source": [
    "## Решение на чистом Python"
   ]
  },
  {
   "cell_type": "code",
   "execution_count": 27,
   "id": "f75c7213",
   "metadata": {},
   "outputs": [],
   "source": [
    "# импортируем reduce\n",
    "from functools import reduce"
   ]
  },
  {
   "cell_type": "code",
   "execution_count": 28,
   "id": "3296d086",
   "metadata": {},
   "outputs": [],
   "source": [
    "# создаем предложенные списки\n",
    "x = [1, 2, 2, 4]\n",
    "y = [4, 2, 1, 2]"
   ]
  },
  {
   "cell_type": "code",
   "execution_count": 29,
   "id": "f971bbd8",
   "metadata": {},
   "outputs": [
    {
     "data": {
      "text/plain": [
       "True"
      ]
     },
     "execution_count": 29,
     "metadata": {},
     "output_type": "execute_result"
    }
   ],
   "source": [
    "# сравним произведения элементов двух списков\n",
    "reduce(lambda x, y: x * y, x) == reduce(lambda x, y: x * y, y)"
   ]
  },
  {
   "cell_type": "markdown",
   "id": "89f31cbb",
   "metadata": {},
   "source": [
    "## Решение, используя NumPy"
   ]
  },
  {
   "cell_type": "code",
   "execution_count": 30,
   "id": "585d2a74",
   "metadata": {},
   "outputs": [],
   "source": [
    "# создаем предложенные массивы\n",
    "x = np.array([1, 2, 2, 4])\n",
    "y = np.array([4, 2, 1, 2])"
   ]
  },
  {
   "cell_type": "code",
   "execution_count": 31,
   "id": "1fad02d4",
   "metadata": {},
   "outputs": [
    {
     "data": {
      "text/plain": [
       "True"
      ]
     },
     "execution_count": 31,
     "metadata": {},
     "output_type": "execute_result"
    }
   ],
   "source": [
    "# сравним произведения элементов двух массивов\n",
    "np.prod(x) == np.prod(y)"
   ]
  },
  {
   "cell_type": "markdown",
   "id": "b9c185c7",
   "metadata": {},
   "source": [
    "# <span style=\"color: red\">__Задача 3__: Найти максимальный элемент в векторе x среди элементов, перед которыми стоит ноль.</span>\n",
    " Например, для x = np.array([6, 2, 0, 3, 0, 0, 5, 7, 0]) ответ 5."
   ]
  },
  {
   "cell_type": "markdown",
   "id": "bd3c34d3",
   "metadata": {},
   "source": [
    "## Решение на чистом Python"
   ]
  },
  {
   "cell_type": "code",
   "execution_count": 32,
   "id": "5dc19122",
   "metadata": {},
   "outputs": [
    {
     "name": "stdout",
     "output_type": "stream",
     "text": [
      "5\n"
     ]
    }
   ],
   "source": [
    "# решил немного заморочиться и решить через ООП\n",
    "class Seeker:\n",
    "    \"\"\"\n",
    "    create instance which seek highest element before zero\n",
    "    \"\"\"\n",
    "    def __init__(self, arr: list[int]) -> None:\n",
    "        self.arr = arr\n",
    "        \n",
    "    def seek_biggest_before_zero(self) -> int:\n",
    "        \"\"\"\n",
    "        function seek highest element before zero\n",
    "        \"\"\"\n",
    "        before_zero: list[int] = []\n",
    "        for index, value in enumerate(self.arr):\n",
    "            if index == len(self.arr) - 1:\n",
    "                break\n",
    "            elif value == 0:\n",
    "                before_zero.append(self.arr[index + 1])\n",
    "        return max(before_zero)\n",
    "    \n",
    "    \n",
    "x = Seeker([6, 2, 0, 3, 0, 0, 5, 7, 0])\n",
    "print(x.seek_biggest_before_zero())"
   ]
  },
  {
   "cell_type": "markdown",
   "id": "99ffc695",
   "metadata": {},
   "source": [
    "## Решение, используя NumPy"
   ]
  },
  {
   "cell_type": "code",
   "execution_count": 33,
   "id": "cc94796c",
   "metadata": {},
   "outputs": [
    {
     "name": "stdout",
     "output_type": "stream",
     "text": [
      "5\n"
     ]
    }
   ],
   "source": [
    "x = np.array([6, 2, 0, 3, 0, 0, 5, 7, 0])\n",
    "\n",
    "# находим индексы нулевых элементов\n",
    "zero_indexes = np.where(x == 0)[0]\n",
    "\n",
    "# отбрасываем последний ноль и находим максимальный элемент\n",
    "max_element = np.max(x[zero_indexes[:-1]+1])\n",
    "\n",
    "print(max_element)"
   ]
  },
  {
   "cell_type": "code",
   "execution_count": 34,
   "id": "5792ad5f",
   "metadata": {},
   "outputs": [
    {
     "name": "stdout",
     "output_type": "stream",
     "text": [
      "<class 'tuple'>\n"
     ]
    },
    {
     "data": {
      "text/plain": [
       "array([2, 4, 5], dtype=int64)"
      ]
     },
     "execution_count": 34,
     "metadata": {},
     "output_type": "execute_result"
    }
   ],
   "source": [
    "# получаем индексы нулей и забираем первый элемент кортежа\n",
    "x = np.array([6, 2, 0, 3, 0, 0, 5, 7, 0])\n",
    "\n",
    "indexes = np.where(x[:-1] == 0)  # получаем кортеж из элементов исходного, не считая последний\n",
    "print(type(indexes))\n",
    "zeros = indexes[0]\n",
    "zeros"
   ]
  },
  {
   "cell_type": "code",
   "execution_count": 35,
   "id": "77eb31fb",
   "metadata": {},
   "outputs": [
    {
     "data": {
      "text/plain": [
       "5"
      ]
     },
     "execution_count": 35,
     "metadata": {},
     "output_type": "execute_result"
    }
   ],
   "source": [
    "# получаем наибольшее значение по индексу со сдвигом вправа на 1\n",
    "biggest = max(x[zeros + 1])\n",
    "biggest"
   ]
  },
  {
   "cell_type": "markdown",
   "id": "480be4ce",
   "metadata": {},
   "source": [
    "# <span style=\"color: red\">__Задача 4__: Реализовать кодирование длин серий (Run-length encoding). Для некоторого вектора x необходимо вернуть кортеж из двух векторов одинаковой длины. Первый содержит числа, а второй - сколько раз их нужно повторить.</span>\n",
    " Например, для x = np.array([2, 2, 2, 3, 3, 3, 5]) ответ (np.array([2, 3, 5]), np.array([3, 3, 1]))."
   ]
  },
  {
   "cell_type": "markdown",
   "id": "8fb6cd1d",
   "metadata": {},
   "source": [
    "## Решение на чистом Python"
   ]
  },
  {
   "cell_type": "code",
   "execution_count": 36,
   "id": "f4243e89",
   "metadata": {},
   "outputs": [
    {
     "name": "stdout",
     "output_type": "stream",
     "text": [
      "([2, 3, 5], [3, 3, 1])\n"
     ]
    }
   ],
   "source": [
    "class RunLengthEncoding:\n",
    "    \"\"\"\n",
    "    create instance which get set of consequence and frequency\n",
    "    \"\"\"\n",
    "    def __init__(self, lst: list[int]) -> None:\n",
    "        self.lst = lst\n",
    "        \n",
    "    def fing_cons_and_freq(self) -> tuple:\n",
    "        \"\"\"\n",
    "        function return typle with list of unique values and list of their frequency\n",
    "        \"\"\"\n",
    "        unique: list[int] = list(sorted(set(self.lst)))\n",
    "        frequency: list[int] = [self.lst.count(x) for x in unique]\n",
    "        return tuple([unique, frequency])\n",
    "    \n",
    "    \n",
    "example = RunLengthEncoding([2, 2, 2, 3, 3, 3, 5])\n",
    "print(example.fing_cons_and_freq())"
   ]
  },
  {
   "cell_type": "markdown",
   "id": "8cee8cf5",
   "metadata": {},
   "source": [
    "## Решение, используя NumPy"
   ]
  },
  {
   "cell_type": "code",
   "execution_count": 37,
   "id": "3cbded17",
   "metadata": {},
   "outputs": [
    {
     "data": {
      "text/plain": [
       "(array([2, 3, 5]), array([3, 3, 1], dtype=int64))"
      ]
     },
     "execution_count": 37,
     "metadata": {},
     "output_type": "execute_result"
    }
   ],
   "source": [
    "# В функции unique включаем атрибут return_counts\n",
    "x = np.array([2, 2, 2, 3, 3, 3, 5])\n",
    "result = tuple(np.unique(x, return_counts=True))\n",
    "result"
   ]
  },
  {
   "cell_type": "markdown",
   "id": "077532ec",
   "metadata": {},
   "source": [
    "# <span style=\"color: red\">__Задача 5__: Даны две выборки объектов - X и Y. Вычислить матрицу евклидовых расстояний между объектами. Сравните с функцией scipy.spatial.distance.cdist по скорости работы.</span>"
   ]
  },
  {
   "cell_type": "markdown",
   "id": "cabe80e2",
   "metadata": {},
   "source": [
    "```Python\n",
    "explained by ChatGPT 3.5\n",
    "\n",
    "Даны две матрицы:\n",
    "\n",
    "A = \n",
    "[1 2 3\n",
    "4 5 6]\n",
    "\n",
    "B = \n",
    "[2 3 4\n",
    "5 6 7]\n",
    "\n",
    "Вычислим евклидово расстояние между каждой парой строк из двух матриц:\n",
    "\n",
    "d(A[1], B[1]) = sqrt((1-2)^2 + (2-3)^2 + (3-4)^2) = sqrt(3)\n",
    "d(A[1], B[2]) = sqrt((1-5)^2 + (2-6)^2 + (3-7)^2) = sqrt(36)\n",
    "d(A[2], B[1]) = sqrt((4-2)^2 + (5-3)^2 + (6-4)^2) = sqrt(18)\n",
    "d(A[2], B[2]) = sqrt((4-5)^2 + (5-6)^2 + (6-7)^2) = sqrt(3)\n",
    "\n",
    "Заполним матрицу полученными значениями:\n",
    "\n",
    "D = \n",
    "[ sqrt(3) sqrt(36)\n",
    "  sqrt(18) sqrt(3)]\n",
    "```"
   ]
  },
  {
   "cell_type": "markdown",
   "id": "a408ec2d",
   "metadata": {},
   "source": [
    "## Решение с помощью scipy.spatial.distance.cdist"
   ]
  },
  {
   "cell_type": "code",
   "execution_count": 38,
   "id": "62981957",
   "metadata": {},
   "outputs": [],
   "source": [
    "# создаем списки элементов и подгружаем необходимые библиотеки\n",
    "from time import time\n",
    "from random import randint, seed\n",
    "from scipy.spatial.distance import cdist\n",
    "\n",
    "\n",
    "seed(42)\n",
    "x = [[randint(1, 11) for _ in range(100)] for _ in range(100)]\n",
    "y = [[randint(1, 11) for _ in range(100)] for _ in range(100)]\n",
    "# print(x, end='\\n\\n')\n",
    "# print(y)"
   ]
  },
  {
   "cell_type": "code",
   "execution_count": 39,
   "id": "962b4792",
   "metadata": {},
   "outputs": [
    {
     "name": "stdout",
     "output_type": "stream",
     "text": [
      "Прошло времени: 0.008037567138671875 секунд\n"
     ]
    }
   ],
   "source": [
    "# измеряем время работы scipy.spatial.distance.cdist\n",
    "start = time()\n",
    "result = cdist(x, y, metric='euclidean')\n",
    "# print(result, end='\\n\\n')\n",
    "finish = time()\n",
    "print(f'Прошло времени: {finish - start} секунд')"
   ]
  },
  {
   "cell_type": "markdown",
   "id": "f8306f9b",
   "metadata": {},
   "source": [
    "## Решение на чистом Python"
   ]
  },
  {
   "cell_type": "code",
   "execution_count": 40,
   "id": "1e807797",
   "metadata": {},
   "outputs": [
    {
     "name": "stdout",
     "output_type": "stream",
     "text": [
      "Прошло времени: 0.5175373554229736 секунд\n"
     ]
    }
   ],
   "source": [
    "from math import sqrt\n",
    "\n",
    "def euclidean_distance(x, y):\n",
    "    return sqrt(sum([(a - b) ** 2 for a, b in zip(x, y)]))\n",
    "\n",
    "\n",
    "def distance_matrix(A, B):\n",
    "    m, n = len(A), len(B)\n",
    "    \n",
    "    # create empty (m X n) list of nested lists\n",
    "    D = [[0] * n for _ in range(m)]\n",
    "    \n",
    "    # fill in with calculated values\n",
    "    for i in range(m):\n",
    "        for j in range(n):\n",
    "            D[i][j] = euclidean_distance(A[i], B[j])\n",
    "    return D\n",
    "\n",
    "\n",
    "# Решение на чистом Python\n",
    "start_time = time()\n",
    "D = distance_matrix(x, y)\n",
    "finish_time = time()\n",
    "print(f'Прошло времени: {finish_time - start_time} секунд')"
   ]
  },
  {
   "cell_type": "markdown",
   "id": "7e9571b6",
   "metadata": {},
   "source": [
    "## Решение, используя NumPy"
   ]
  },
  {
   "cell_type": "code",
   "execution_count": 41,
   "id": "2f8316ef",
   "metadata": {},
   "outputs": [
    {
     "name": "stdout",
     "output_type": "stream",
     "text": [
      "Прошло времени: 0.19131159782409668 секунд\n"
     ]
    }
   ],
   "source": [
    "def distance_matrix(A, B):\n",
    "    # вычисляем матрицу евклидовых расстояний\n",
    "    a, b = A.shape[0], B.shape[0]\n",
    "    D = np.zeros((a, b))\n",
    "    for i in range(a):\n",
    "        for j in range(b):\n",
    "            D[i, j] = np.sqrt(np.sum((A[i, :] - B[j, :]) ** 2))\n",
    "    return D\n",
    "\n",
    "\n",
    "start_numpy = time()\n",
    "D = distance_matrix(np.array(x), np.array(y))\n",
    "finish_numpy = time()\n",
    "print(f'Прошло времени: {finish_numpy - start_numpy} секунд')\n",
    "# D"
   ]
  },
  {
   "cell_type": "markdown",
   "id": "1cb2c570",
   "metadata": {},
   "source": [
    "### Быстрее всего (2 матрицы 100 на 100) сработает Scipy, затем NumPy, а самым медленным является решение на чистом Python"
   ]
  },
  {
   "cell_type": "markdown",
   "id": "1104acb7",
   "metadata": {},
   "source": [
    "# <span style=\"color: gold\">__Задача 6__: CrunchieMunchies</span>\n",
    "\n",
    "Вы работаете в отделе маркетинга пищевой компании MyCrunch, которая разрабатывает новый вид вкусных, полезных злаков под названием **CrunchieMunchies**.\n",
    "\n",
    "Вы хотите продемонстрировать потребителям, насколько полезны ваши хлопья по сравнению с другими ведущими брендами, поэтому вы собрали данные о питании нескольких разных конкурентов.\n",
    "\n",
    "Ваша задача - использовать вычисления Numpy для анализа этих данных и доказать, что ваши **СrunchieMunchies** - самый здоровый выбор для потребителей.\n"
   ]
  },
  {
   "cell_type": "code",
   "execution_count": 42,
   "id": "10a77f8d",
   "metadata": {},
   "outputs": [],
   "source": [
    "import numpy as np"
   ]
  },
  {
   "cell_type": "markdown",
   "id": "ab87cb03",
   "metadata": {},
   "source": [
    "# <span style=\"color: orange\">1. Просмотрите файл cereal.csv. Этот файл содержит количества калорий для различных марок хлопьев. Загрузите данные из файла и сохраните их как calorie_stats.</span>"
   ]
  },
  {
   "cell_type": "code",
   "execution_count": 43,
   "id": "9681ebf2",
   "metadata": {},
   "outputs": [
    {
     "data": {
      "text/plain": [
       "array([ 70., 120.,  70.,  50., 110., 110., 110., 130.,  90.,  90., 120.,\n",
       "       110., 120., 110., 110., 110., 100., 110., 110., 110., 100., 110.,\n",
       "       100., 100., 110., 110., 100., 120., 120., 110., 100., 110., 100.,\n",
       "       110., 120., 120., 110., 110., 110., 140., 110., 100., 110., 100.,\n",
       "       150., 150., 160., 100., 120., 140.,  90., 130., 120., 100.,  50.,\n",
       "        50., 100., 100., 120., 100.,  90., 110., 110.,  80.,  90.,  90.,\n",
       "       110., 110.,  90., 110., 140., 100., 110., 110., 100., 100., 110.])"
      ]
     },
     "execution_count": 43,
     "metadata": {},
     "output_type": "execute_result"
    }
   ],
   "source": [
    "calorie_stats = np.loadtxt(\"./cereal.csv\", delimiter=\",\")\n",
    "calorie_stats"
   ]
  },
  {
   "cell_type": "markdown",
   "id": "5634a0c2",
   "metadata": {},
   "source": [
    "# [numpy.loadtxt](https://numpy.org/doc/stable/reference/generated/numpy.loadtxt.html)"
   ]
  },
  {
   "cell_type": "markdown",
   "id": "139cfbd8",
   "metadata": {},
   "source": [
    "# <span style=\"color: orange\">2. В одной порции CrunchieMunchies содержится 60 калорий. Насколько выше среднее количество калорий у ваших конкурентов?</span>\n",
    "\n",
    "Сохраните ответ в переменной average_calories и распечатайте переменную в терминале"
   ]
  },
  {
   "cell_type": "code",
   "execution_count": 44,
   "id": "7036d240",
   "metadata": {},
   "outputs": [
    {
     "name": "stdout",
     "output_type": "stream",
     "text": [
      "Среднее значение колорий среди 77 конкурентов выше на 46.883 калорий чем у нашего продукта\n"
     ]
    },
    {
     "data": {
      "text/plain": [
       "106.883"
      ]
     },
     "execution_count": 44,
     "metadata": {},
     "output_type": "execute_result"
    }
   ],
   "source": [
    "# Находим среднее значение калорий наших 77 конкурентов\n",
    "average_calories = np.round(np.mean(calorie_stats), 3)\n",
    "print(f'Среднее значение колорий среди 77 конкурентов выше на {average_calories - 60:.3f} калорий чем у нашего продукта')\n",
    "average_calories"
   ]
  },
  {
   "cell_type": "markdown",
   "id": "b2ddb4cd",
   "metadata": {},
   "source": [
    "# <span style=\"color: orange\">3. Корректно ли среднее количество калорий отражает распределение набора данных? Давайте отсортируем данные и посмотрим.</span>\n",
    "\n",
    "Отсортируйте данные и сохраните результат в переменной calorie_stats_sorted. Распечатайте отсортированную информацию"
   ]
  },
  {
   "cell_type": "code",
   "execution_count": 45,
   "id": "46eeb4ed",
   "metadata": {},
   "outputs": [
    {
     "data": {
      "image/png": "[encoded data removed]",
      "text/plain": [
       "<Figure size 432x288 with 1 Axes>"
      ]
     },
     "metadata": {
      "needs_background": "light"
     },
     "output_type": "display_data"
    }
   ],
   "source": [
    "import matplotlib.pyplot as plt\n",
    "import seaborn as sns\n",
    "\n",
    "calorie_stats_sorted = np.sort(calorie_stats)\n",
    "plt.grid()\n",
    "sns.kdeplot(calorie_stats_sorted, color='orange', fill=True);"
   ]
  },
  {
   "cell_type": "markdown",
   "id": "7b1a7158",
   "metadata": {},
   "source": [
    "### На первый взгляд распределение является нормальным, в таком случае можно использовать и среднее значение. Проведём тест Шапиро-Уилка, чтобы выяснить нормальное ли распределение"
   ]
  },
  {
   "cell_type": "code",
   "execution_count": 46,
   "id": "1a8b73b9",
   "metadata": {},
   "outputs": [
    {
     "data": {
      "text/plain": [
       "ShapiroResult(statistic=0.8939785361289978, pvalue=9.730402780405711e-06)"
      ]
     },
     "execution_count": 46,
     "metadata": {},
     "output_type": "execute_result"
    }
   ],
   "source": [
    "from scipy.stats import shapiro\n",
    "\n",
    "shapiro(calorie_stats)"
   ]
  },
  {
   "cell_type": "markdown",
   "id": "09825ec2",
   "metadata": {},
   "source": [
    "## Т.к. значение p-value гораздо меньше 1%, тогда мы отвергаем нулевую гипотезу о нормальном распределении"
   ]
  },
  {
   "cell_type": "code",
   "execution_count": 47,
   "id": "84de484b",
   "metadata": {},
   "outputs": [
    {
     "data": {
      "text/plain": [
       "array([ 50.,  50.,  50.,  70.,  70.,  80.,  90.,  90.,  90.,  90.,  90.,\n",
       "        90.,  90., 100., 100., 100., 100., 100., 100., 100., 100., 100.,\n",
       "       100., 100., 100., 100., 100., 100., 100., 100., 110., 110., 110.,\n",
       "       110., 110., 110., 110., 110., 110., 110., 110., 110., 110., 110.,\n",
       "       110., 110., 110., 110., 110., 110., 110., 110., 110., 110., 110.,\n",
       "       110., 110., 110., 110., 120., 120., 120., 120., 120., 120., 120.,\n",
       "       120., 120., 120., 130., 130., 140., 140., 140., 150., 150., 160.])"
      ]
     },
     "execution_count": 47,
     "metadata": {},
     "output_type": "execute_result"
    }
   ],
   "source": [
    "calorie_stats_sorted"
   ]
  },
  {
   "cell_type": "markdown",
   "id": "4dc74116",
   "metadata": {},
   "source": [
    "# <span style=\"color: orange\">4. Похоже, что большинство значений выше среднего. Давайте посмотрим, является ли медиана наиболее корректным показателем набора данных.</span>\n",
    "\n",
    "Вычислите медиану набора данных и сохраните свой ответ в median_calories. Выведите медиану, чтобы вы могли видеть, как она сравнивается со средним значением."
   ]
  },
  {
   "cell_type": "code",
   "execution_count": 48,
   "id": "b56627c3",
   "metadata": {},
   "outputs": [
    {
     "data": {
      "text/plain": [
       "110.0"
      ]
     },
     "execution_count": 48,
     "metadata": {},
     "output_type": "execute_result"
    }
   ],
   "source": [
    "median_calories = np.median(calorie_stats)\n",
    "median_calories"
   ]
  },
  {
   "cell_type": "markdown",
   "id": "a63ab72f",
   "metadata": {},
   "source": [
    "# <span style=\"color: orange\">5. В то время как медиана показывает, что по крайней мере половина наших значений составляет более 100 калорий, было бы более впечатляюще показать, что значительная часть конкурентов имеет более высокое количество калорий, чем CrunchieMunchies.</span>\n",
    "\n",
    "Рассчитайте различные процентили и распечатайте их, пока не найдете наименьший процентиль, превышающий 60 калорий. Сохраните это значение в переменной nth_percentile."
   ]
  },
  {
   "cell_type": "code",
   "execution_count": 49,
   "id": "fe80ce03",
   "metadata": {},
   "outputs": [
    {
     "name": "stdout",
     "output_type": "stream",
     "text": [
      "1% значений меньше 50.0\n",
      "2% значений меньше 50.0\n",
      "3% значений меньше 55.6\n",
      "4% значений меньше 70.0\n",
      "5% значений меньше 70.0\n",
      "6% значений меньше 75.6\n",
      "7% значений меньше 83.2\n",
      "8% значений меньше 90.0\n",
      "9% значений меньше 90.0\n",
      "10% значений меньше 90.0\n",
      "11% значений меньше 90.0\n",
      "12% значений меньше 90.0\n",
      "13% значений меньше 90.0\n",
      "14% значений меньше 90.0\n",
      "15% значений меньше 90.0\n",
      "16% значений меньше 91.6\n",
      "17% значений меньше 99.2\n",
      "18% значений меньше 100.0\n",
      "19% значений меньше 100.0\n",
      "20% значений меньше 100.0\n",
      "21% значений меньше 100.0\n",
      "22% значений меньше 100.0\n",
      "23% значений меньше 100.0\n",
      "24% значений меньше 100.0\n",
      "25% значений меньше 100.0\n",
      "26% значений меньше 100.0\n",
      "27% значений меньше 100.0\n",
      "28% значений меньше 100.0\n",
      "29% значений меньше 100.0\n",
      "30% значений меньше 100.0\n",
      "31% значений меньше 100.0\n",
      "32% значений меньше 100.0\n",
      "33% значений меньше 100.0\n",
      "34% значений меньше 100.0\n",
      "35% значений меньше 100.0\n",
      "36% значений меньше 100.0\n",
      "37% значений меньше 100.0\n",
      "38% значений меньше 100.0\n",
      "39% значений меньше 106.4\n",
      "40% значений меньше 110.0\n",
      "41% значений меньше 110.0\n",
      "42% значений меньше 110.0\n",
      "43% значений меньше 110.0\n",
      "44% значений меньше 110.0\n",
      "45% значений меньше 110.0\n",
      "46% значений меньше 110.0\n",
      "47% значений меньше 110.0\n",
      "48% значений меньше 110.0\n",
      "49% значений меньше 110.0\n",
      "50% значений меньше 110.0\n",
      "51% значений меньше 110.0\n",
      "52% значений меньше 110.0\n",
      "53% значений меньше 110.0\n",
      "54% значений меньше 110.0\n",
      "55% значений меньше 110.0\n",
      "56% значений меньше 110.0\n",
      "57% значений меньше 110.0\n",
      "58% значений меньше 110.0\n",
      "59% значений меньше 110.0\n",
      "60% значений меньше 110.0\n",
      "61% значений меньше 110.0\n",
      "62% значений меньше 110.0\n",
      "63% значений меньше 110.0\n",
      "64% значений меньше 110.0\n",
      "65% значений меньше 110.0\n",
      "66% значений меньше 110.0\n",
      "67% значений меньше 110.0\n",
      "68% значений меньше 110.0\n",
      "69% значений меньше 110.0\n",
      "70% значений меньше 110.0\n",
      "71% значений меньше 110.0\n",
      "72% значений меньше 110.0\n",
      "73% значений меньше 110.0\n",
      "74% значений меньше 110.0\n",
      "75% значений меньше 110.0\n",
      "76% значений меньше 110.0\n",
      "77% значений меньше 115.2\n",
      "78% значений меньше 120.0\n",
      "79% значений меньше 120.0\n",
      "80% значений меньше 120.0\n",
      "81% значений меньше 120.0\n",
      "82% значений меньше 120.0\n",
      "83% значений меньше 120.0\n",
      "84% значений меньше 120.0\n",
      "85% значений меньше 120.0\n",
      "86% значений меньше 120.0\n",
      "87% значений меньше 120.0\n",
      "88% значений меньше 120.0\n",
      "89% значений меньше 120.0\n",
      "90% значений меньше 124.0\n",
      "91% значений меньше 130.0\n",
      "92% значений меньше 130.0\n",
      "93% значений меньше 136.8\n",
      "94% значений меньше 140.0\n",
      "95% значений меньше 140.0\n",
      "96% значений меньше 140.0\n",
      "97% значений меньше 147.2\n",
      "98% значений меньше 150.0\n",
      "99% значений меньше 152.4\n"
     ]
    }
   ],
   "source": [
    "for percent in range(1, 100):\n",
    "    print(f'{percent}% значений меньше {np.percentile(a=calorie_stats, q=percent):.1f}')"
   ]
  },
  {
   "cell_type": "code",
   "execution_count": 50,
   "id": "1db1e77c",
   "metadata": {},
   "outputs": [
    {
     "data": {
      "text/plain": [
       "70.0"
      ]
     },
     "execution_count": 50,
     "metadata": {},
     "output_type": "execute_result"
    }
   ],
   "source": [
    "# Начиная с 4-го процентиля все значения больше 60.\n",
    "# Другими словами более 97% конкурентов имеею больше калорий чем в нашем продукти\n",
    "nth_percentile = np.percentile(a=calorie_stats, q=4)\n",
    "nth_percentile"
   ]
  },
  {
   "cell_type": "markdown",
   "id": "a2a3c5aa",
   "metadata": {},
   "source": [
    "# <span style=\"color: orange\">6. Хотя процентиль показывает нам, что у большинства конкурентов количество калорий намного выше, это неудобная концепция для использования в маркетинговых материалах.</span>\n",
    "\n",
    "Вместо этого давайте подсчитаем процент хлопьев, в которых содержится более 60 калорий на порцию. Сохраните свой ответ в переменной more_calories и распечатайте его"
   ]
  },
  {
   "cell_type": "code",
   "execution_count": 51,
   "id": "ade0f6ea",
   "metadata": {},
   "outputs": [
    {
     "data": {
      "text/plain": [
       "96.1"
      ]
     },
     "execution_count": 51,
     "metadata": {},
     "output_type": "execute_result"
    }
   ],
   "source": [
    "# получим, что 96.1% фирм производят товар имеющий более 60 калорий (74 из 77 конкурентов)\n",
    "more_calories = np.round(calorie_stats[calorie_stats > 60].shape[0] / calorie_stats.shape[0] * 100, 2)\n",
    "more_calories"
   ]
  },
  {
   "cell_type": "markdown",
   "id": "1735d65b",
   "metadata": {},
   "source": [
    "# <span style=\"color: orange\">7. Это действительно высокий процент. Это будет очень полезно, когда мы будем продвигать CrunchieMunchies. Но один вопрос заключается в том, насколько велики различия в наборе данных? Можем ли мы сделать обобщение, что в большинстве злаков содержится около 100 калорий или разброс еще больше?</span>\n",
    "\n",
    "Рассчитайте величину отклонения, найдя стандартное отклонение, Сохраните свой ответ в calorie_std и распечатайте на терминале. Как мы можем включить эту ценность в наш анализ?"
   ]
  },
  {
   "cell_type": "code",
   "execution_count": 52,
   "id": "85c8df1f",
   "metadata": {},
   "outputs": [
    {
     "data": {
      "text/plain": [
       "19.357"
      ]
     },
     "execution_count": 52,
     "metadata": {},
     "output_type": "execute_result"
    }
   ],
   "source": [
    "# найдем стандартное отклонение\n",
    "calorie_std = np.round(np.std(calorie_stats), 3)\n",
    "calorie_std"
   ]
  },
  {
   "cell_type": "markdown",
   "id": "0daff77e",
   "metadata": {},
   "source": [
    "## Разброс значений колорий от среднего соответстует +/- 19 колорий. Около 68.2% всех фирм имеют значение колорий от 87.5 до 126 калорий (+/- 1 стандартное отклонение от среднего)"
   ]
  },
  {
   "cell_type": "code",
   "execution_count": 53,
   "id": "816cce52",
   "metadata": {},
   "outputs": [
    {
     "data": {
      "text/plain": [
       "2.422"
      ]
     },
     "execution_count": 53,
     "metadata": {},
     "output_type": "execute_result"
    }
   ],
   "source": [
    "np.round((average_calories - 60) / calorie_std, 3)"
   ]
  },
  {
   "cell_type": "markdown",
   "id": "717bd85b",
   "metadata": {},
   "source": [
    "## Наш продукт имеет колорий на 2.4 стандартных отклонений меньше чем в среднем"
   ]
  },
  {
   "cell_type": "markdown",
   "id": "037455c5",
   "metadata": {},
   "source": [
    "# <span style=\"color: orange\">8. Напишите короткий абзац, в котором кратко изложите свои выводы и то, как, по вашему мнению, эти данные могут быть использованы в интересах Mycrunch при маркетинге CrunchieMunchies.</span>"
   ]
  },
  {
   "cell_type": "markdown",
   "id": "a27625fe",
   "metadata": {},
   "source": [
    "## Наш продукт содержит всего 60 калорий, что является значительно меньшим значением, чем у 96% конкурентов. Среднее значение калорий у конкурентов составляет 106, а стандартное отклонение равно 19, что говорит о большом разбросе значений. "
   ]
  }
 ],
 "metadata": {
  "kernelspec": {
   "display_name": "Python 3 (ipykernel)",
   "language": "python",
   "name": "python3"
  },
  "language_info": {
   "codemirror_mode": {
    "name": "ipython",
    "version": 3
   },
   "file_extension": ".py",
   "mimetype": "text/x-python",
   "name": "python",
   "nbconvert_exporter": "python",
   "pygments_lexer": "ipython3",
   "version": "3.9.13"
  }
 },
 "nbformat": 4,
 "nbformat_minor": 5
}
