{
 "cells": [
  {
   "cell_type": "code",
   "execution_count": 1,
   "id": "bbcb6a39",
   "metadata": {},
   "outputs": [],
   "source": [
    "# Set settings to work with Spark\n",
    "import findspark\n",
    "findspark.init()"
   ]
  },
  {
   "cell_type": "code",
   "execution_count": 2,
   "id": "f26d61d6",
   "metadata": {},
   "outputs": [],
   "source": [
    "# Create Spark Session\n",
    "import pyspark\n",
    "from pyspark.sql import SparkSession\n",
    "\n",
    "spark = SparkSession.builder.appName('Simple').getOrCreate()"
   ]
  },
  {
   "cell_type": "code",
   "execution_count": 3,
   "id": "fb396926",
   "metadata": {},
   "outputs": [
    {
     "data": {
      "text/plain": [
       "DataFrame[_c0: string, _c1: string, _c2: string, _c3: string, _c4: string, _c5: string, _c6: string, _c7: string, _c8: string, _c9: string, _c10: string, _c11: string, _c12: string]"
      ]
     },
     "execution_count": 3,
     "metadata": {},
     "output_type": "execute_result"
    }
   ],
   "source": [
    "# Load data\n",
    "df = spark.read.csv(path='stocks_price_final.csv')\n",
    "df"
   ]
  },
  {
   "cell_type": "code",
   "execution_count": 4,
   "id": "c8b86610",
   "metadata": {},
   "outputs": [
    {
     "name": "stdout",
     "output_type": "stream",
     "text": [
      "root\n",
      " |-- _c0: string (nullable = true)\n",
      " |-- _c1: string (nullable = true)\n",
      " |-- _c2: string (nullable = true)\n",
      " |-- _c3: string (nullable = true)\n",
      " |-- _c4: string (nullable = true)\n",
      " |-- _c5: string (nullable = true)\n",
      " |-- _c6: string (nullable = true)\n",
      " |-- _c7: string (nullable = true)\n",
      " |-- _c8: string (nullable = true)\n",
      " |-- _c9: string (nullable = true)\n",
      " |-- _c10: string (nullable = true)\n",
      " |-- _c11: string (nullable = true)\n",
      " |-- _c12: string (nullable = true)\n",
      "\n"
     ]
    }
   ],
   "source": [
    "# Show default schema (type = string)\n",
    "df.printSchema()"
   ]
  },
  {
   "cell_type": "code",
   "execution_count": 5,
   "id": "e0007ab5",
   "metadata": {},
   "outputs": [
    {
     "name": "stdout",
     "output_type": "stream",
     "text": [
      "root\n",
      " |-- _c0: integer (nullable = true)\n",
      " |-- symbol: string (nullable = true)\n",
      " |-- date: date (nullable = true)\n",
      " |-- open: double (nullable = true)\n",
      " |-- high: double (nullable = true)\n",
      " |-- low: double (nullable = true)\n",
      " |-- close: double (nullable = true)\n",
      " |-- volume: integer (nullable = true)\n",
      " |-- adjusted: double (nullable = true)\n",
      " |-- market.cap: string (nullable = true)\n",
      " |-- sector: string (nullable = true)\n",
      " |-- industry: string (nullable = true)\n",
      " |-- exchange: string (nullable = true)\n",
      "\n"
     ]
    }
   ],
   "source": [
    "# Set right schema\n",
    "from pyspark.sql.types import *\n",
    "\n",
    "data_schema = StructType([\n",
    "    StructField('_c0', IntegerType(), True),\n",
    "    StructField('symbol', StringType(), True),\n",
    "    StructField('date', DateType(), True),\n",
    "    StructField('open', DoubleType(), True),\n",
    "    StructField('high', DoubleType(), True),\n",
    "    StructField('low', DoubleType(), True),\n",
    "    StructField('close', DoubleType(), True),\n",
    "    StructField('volume', IntegerType(), True),\n",
    "    StructField('adjusted', DoubleType(), True),\n",
    "    StructField('market.cap', StringType(), True),\n",
    "    StructField('sector', StringType(), True),\n",
    "    StructField('industry', StringType(), True),\n",
    "    StructField('exchange', StringType(), True)\n",
    "])\n",
    "\n",
    "data = spark.read.csv(path='stocks_price_final.csv',\n",
    "                      header=True,\n",
    "                      schema=data_schema)\n",
    "data.printSchema()"
   ]
  },
  {
   "cell_type": "code",
   "execution_count": 6,
   "id": "2b061e01",
   "metadata": {},
   "outputs": [
    {
     "data": {
      "text/plain": [
       "StructType(List(StructField(_c0,IntegerType,true),StructField(symbol,StringType,true),StructField(date,DateType,true),StructField(open,DoubleType,true),StructField(high,DoubleType,true),StructField(low,DoubleType,true),StructField(close,DoubleType,true),StructField(volume,IntegerType,true),StructField(adjusted,DoubleType,true),StructField(market.cap,StringType,true),StructField(sector,StringType,true),StructField(industry,StringType,true),StructField(exchange,StringType,true)))"
      ]
     },
     "execution_count": 6,
     "metadata": {},
     "output_type": "execute_result"
    }
   ],
   "source": [
    "# Attribute schema\n",
    "data.schema"
   ]
  },
  {
   "cell_type": "code",
   "execution_count": 7,
   "id": "9d4aa33a",
   "metadata": {},
   "outputs": [
    {
     "data": {
      "text/plain": [
       "[('_c0', 'int'),\n",
       " ('symbol', 'string'),\n",
       " ('date', 'date'),\n",
       " ('open', 'double'),\n",
       " ('high', 'double'),\n",
       " ('low', 'double'),\n",
       " ('close', 'double'),\n",
       " ('volume', 'int'),\n",
       " ('adjusted', 'double'),\n",
       " ('market.cap', 'string'),\n",
       " ('sector', 'string'),\n",
       " ('industry', 'string'),\n",
       " ('exchange', 'string')]"
      ]
     },
     "execution_count": 7,
     "metadata": {},
     "output_type": "execute_result"
    }
   ],
   "source": [
    "# Attribute dtypes returns list of tuples with column names and data types\n",
    "data.dtypes"
   ]
  },
  {
   "cell_type": "code",
   "execution_count": 8,
   "id": "04951854",
   "metadata": {},
   "outputs": [
    {
     "name": "stdout",
     "output_type": "stream",
     "text": [
      "+---+------+----------+---------+---------+---------+---------+-------+---------+----------+-------------+--------------------+--------+\n",
      "|_c0|symbol|      date|     open|     high|      low|    close| volume| adjusted|market.cap|       sector|            industry|exchange|\n",
      "+---+------+----------+---------+---------+---------+---------+-------+---------+----------+-------------+--------------------+--------+\n",
      "|  1|   TXG|2019-09-12|     54.0|     58.0|     51.0|    52.75|7326300|    52.75|    $9.31B|Capital Goods|Biotechnology: La...|  NASDAQ|\n",
      "|  2|   TXG|2019-09-13|    52.75|   54.355|49.150002|    52.27|1025200|    52.27|    $9.31B|Capital Goods|Biotechnology: La...|  NASDAQ|\n",
      "|  3|   TXG|2019-09-16|52.450001|     56.0|52.009998|55.200001| 269900|55.200001|    $9.31B|Capital Goods|Biotechnology: La...|  NASDAQ|\n",
      "|  4|   TXG|2019-09-17|56.209999|60.900002|   55.423|56.779999| 602800|56.779999|    $9.31B|Capital Goods|Biotechnology: La...|  NASDAQ|\n",
      "|  5|   TXG|2019-09-18|56.849998|    62.27|55.650002|     62.0|1589600|     62.0|    $9.31B|Capital Goods|Biotechnology: La...|  NASDAQ|\n",
      "+---+------+----------+---------+---------+---------+---------+-------+---------+----------+-------------+--------------------+--------+\n",
      "only showing top 5 rows\n",
      "\n"
     ]
    }
   ],
   "source": [
    "# Method show by default displays the first 20 rows and also takes a number \n",
    "# as a parameter to select how many of them\n",
    "data.show(5)"
   ]
  },
  {
   "cell_type": "code",
   "execution_count": 9,
   "id": "faf4dc9a",
   "metadata": {},
   "outputs": [
    {
     "name": "stdout",
     "output_type": "stream",
     "text": [
      "-RECORD 0--------------------------\n",
      " _c0        | 1                    \n",
      " symbol     | TXG                  \n",
      " date       | 2019-09-12           \n",
      " open       | 54.0                 \n",
      " high       | 58.0                 \n",
      " low        | 51.0                 \n",
      " close      | 52.75                \n",
      " volume     | 7326300              \n",
      " adjusted   | 52.75                \n",
      " market.cap | $9.31B               \n",
      " sector     | Capital Goods        \n",
      " industry   | Biotechnology: La... \n",
      " exchange   | NASDAQ               \n",
      "-RECORD 1--------------------------\n",
      " _c0        | 2                    \n",
      " symbol     | TXG                  \n",
      " date       | 2019-09-13           \n",
      " open       | 52.75                \n",
      " high       | 54.355               \n",
      " low        | 49.150002            \n",
      " close      | 52.27                \n",
      " volume     | 1025200              \n",
      " adjusted   | 52.27                \n",
      " market.cap | $9.31B               \n",
      " sector     | Capital Goods        \n",
      " industry   | Biotechnology: La... \n",
      " exchange   | NASDAQ               \n",
      "only showing top 2 rows\n",
      "\n"
     ]
    }
   ],
   "source": [
    "# Let's use vertical parameter\n",
    "data.show(n=2, vertical=True)"
   ]
  },
  {
   "cell_type": "code",
   "execution_count": 10,
   "id": "a91f49c6",
   "metadata": {},
   "outputs": [
    {
     "data": {
      "text/html": [
       "<div>\n",
       "<style scoped>\n",
       "    .dataframe tbody tr th:only-of-type {\n",
       "        vertical-align: middle;\n",
       "    }\n",
       "\n",
       "    .dataframe tbody tr th {\n",
       "        vertical-align: top;\n",
       "    }\n",
       "\n",
       "    .dataframe thead th {\n",
       "        text-align: right;\n",
       "    }\n",
       "</style>\n",
       "<table border=\"1\" class=\"dataframe\">\n",
       "  <thead>\n",
       "    <tr style=\"text-align: right;\">\n",
       "      <th></th>\n",
       "      <th>_c0</th>\n",
       "      <th>symbol</th>\n",
       "      <th>date</th>\n",
       "      <th>open</th>\n",
       "      <th>high</th>\n",
       "      <th>low</th>\n",
       "      <th>close</th>\n",
       "      <th>volume</th>\n",
       "      <th>adjusted</th>\n",
       "      <th>market.cap</th>\n",
       "      <th>sector</th>\n",
       "      <th>industry</th>\n",
       "      <th>exchange</th>\n",
       "    </tr>\n",
       "  </thead>\n",
       "  <tbody>\n",
       "    <tr>\n",
       "      <th>0</th>\n",
       "      <td>1</td>\n",
       "      <td>TXG</td>\n",
       "      <td>2019-09-12</td>\n",
       "      <td>54.000000</td>\n",
       "      <td>58.000000</td>\n",
       "      <td>51.000000</td>\n",
       "      <td>52.750000</td>\n",
       "      <td>7326300.0</td>\n",
       "      <td>52.750000</td>\n",
       "      <td>$9.31B</td>\n",
       "      <td>Capital Goods</td>\n",
       "      <td>Biotechnology: Laboratory Analytical Instruments</td>\n",
       "      <td>NASDAQ</td>\n",
       "    </tr>\n",
       "    <tr>\n",
       "      <th>1</th>\n",
       "      <td>2</td>\n",
       "      <td>TXG</td>\n",
       "      <td>2019-09-13</td>\n",
       "      <td>52.750000</td>\n",
       "      <td>54.355000</td>\n",
       "      <td>49.150002</td>\n",
       "      <td>52.270000</td>\n",
       "      <td>1025200.0</td>\n",
       "      <td>52.270000</td>\n",
       "      <td>$9.31B</td>\n",
       "      <td>Capital Goods</td>\n",
       "      <td>Biotechnology: Laboratory Analytical Instruments</td>\n",
       "      <td>NASDAQ</td>\n",
       "    </tr>\n",
       "    <tr>\n",
       "      <th>2</th>\n",
       "      <td>3</td>\n",
       "      <td>TXG</td>\n",
       "      <td>2019-09-16</td>\n",
       "      <td>52.450001</td>\n",
       "      <td>56.000000</td>\n",
       "      <td>52.009998</td>\n",
       "      <td>55.200001</td>\n",
       "      <td>269900.0</td>\n",
       "      <td>55.200001</td>\n",
       "      <td>$9.31B</td>\n",
       "      <td>Capital Goods</td>\n",
       "      <td>Biotechnology: Laboratory Analytical Instruments</td>\n",
       "      <td>NASDAQ</td>\n",
       "    </tr>\n",
       "    <tr>\n",
       "      <th>3</th>\n",
       "      <td>4</td>\n",
       "      <td>TXG</td>\n",
       "      <td>2019-09-17</td>\n",
       "      <td>56.209999</td>\n",
       "      <td>60.900002</td>\n",
       "      <td>55.423000</td>\n",
       "      <td>56.779999</td>\n",
       "      <td>602800.0</td>\n",
       "      <td>56.779999</td>\n",
       "      <td>$9.31B</td>\n",
       "      <td>Capital Goods</td>\n",
       "      <td>Biotechnology: Laboratory Analytical Instruments</td>\n",
       "      <td>NASDAQ</td>\n",
       "    </tr>\n",
       "    <tr>\n",
       "      <th>4</th>\n",
       "      <td>5</td>\n",
       "      <td>TXG</td>\n",
       "      <td>2019-09-18</td>\n",
       "      <td>56.849998</td>\n",
       "      <td>62.270000</td>\n",
       "      <td>55.650002</td>\n",
       "      <td>62.000000</td>\n",
       "      <td>1589600.0</td>\n",
       "      <td>62.000000</td>\n",
       "      <td>$9.31B</td>\n",
       "      <td>Capital Goods</td>\n",
       "      <td>Biotechnology: Laboratory Analytical Instruments</td>\n",
       "      <td>NASDAQ</td>\n",
       "    </tr>\n",
       "    <tr>\n",
       "      <th>...</th>\n",
       "      <td>...</td>\n",
       "      <td>...</td>\n",
       "      <td>...</td>\n",
       "      <td>...</td>\n",
       "      <td>...</td>\n",
       "      <td>...</td>\n",
       "      <td>...</td>\n",
       "      <td>...</td>\n",
       "      <td>...</td>\n",
       "      <td>...</td>\n",
       "      <td>...</td>\n",
       "      <td>...</td>\n",
       "      <td>...</td>\n",
       "    </tr>\n",
       "    <tr>\n",
       "      <th>1729029</th>\n",
       "      <td>1729030</td>\n",
       "      <td>ZYME</td>\n",
       "      <td>2020-07-16</td>\n",
       "      <td>30.570000</td>\n",
       "      <td>31.670000</td>\n",
       "      <td>30.299999</td>\n",
       "      <td>31.150000</td>\n",
       "      <td>467900.0</td>\n",
       "      <td>31.150000</td>\n",
       "      <td>$1.44B</td>\n",
       "      <td>Health Care</td>\n",
       "      <td>Major Pharmaceuticals</td>\n",
       "      <td>NYSE</td>\n",
       "    </tr>\n",
       "    <tr>\n",
       "      <th>1729030</th>\n",
       "      <td>1729031</td>\n",
       "      <td>ZYME</td>\n",
       "      <td>2020-07-17</td>\n",
       "      <td>31.200001</td>\n",
       "      <td>33.080002</td>\n",
       "      <td>31.000000</td>\n",
       "      <td>33.029999</td>\n",
       "      <td>600800.0</td>\n",
       "      <td>33.029999</td>\n",
       "      <td>$1.44B</td>\n",
       "      <td>Health Care</td>\n",
       "      <td>Major Pharmaceuticals</td>\n",
       "      <td>NYSE</td>\n",
       "    </tr>\n",
       "    <tr>\n",
       "      <th>1729031</th>\n",
       "      <td>1729032</td>\n",
       "      <td>ZYME</td>\n",
       "      <td>2020-07-20</td>\n",
       "      <td>33.320000</td>\n",
       "      <td>33.320000</td>\n",
       "      <td>31.589001</td>\n",
       "      <td>32.110001</td>\n",
       "      <td>303500.0</td>\n",
       "      <td>32.110001</td>\n",
       "      <td>$1.44B</td>\n",
       "      <td>Health Care</td>\n",
       "      <td>Major Pharmaceuticals</td>\n",
       "      <td>NYSE</td>\n",
       "    </tr>\n",
       "    <tr>\n",
       "      <th>1729032</th>\n",
       "      <td>1729033</td>\n",
       "      <td>ZYME</td>\n",
       "      <td>2020-07-21</td>\n",
       "      <td>32.369999</td>\n",
       "      <td>32.490002</td>\n",
       "      <td>30.340000</td>\n",
       "      <td>30.650000</td>\n",
       "      <td>337900.0</td>\n",
       "      <td>30.650000</td>\n",
       "      <td>$1.44B</td>\n",
       "      <td>Health Care</td>\n",
       "      <td>Major Pharmaceuticals</td>\n",
       "      <td>NYSE</td>\n",
       "    </tr>\n",
       "    <tr>\n",
       "      <th>1729033</th>\n",
       "      <td>1729034</td>\n",
       "      <td>ZYME</td>\n",
       "      <td>2020-07-22</td>\n",
       "      <td>30.799999</td>\n",
       "      <td>32.119999</td>\n",
       "      <td>30.520000</td>\n",
       "      <td>31.700001</td>\n",
       "      <td>369900.0</td>\n",
       "      <td>31.700001</td>\n",
       "      <td>$1.44B</td>\n",
       "      <td>Health Care</td>\n",
       "      <td>Major Pharmaceuticals</td>\n",
       "      <td>NYSE</td>\n",
       "    </tr>\n",
       "  </tbody>\n",
       "</table>\n",
       "<p>1729034 rows × 13 columns</p>\n",
       "</div>"
      ],
      "text/plain": [
       "             _c0 symbol        date       open       high        low  \\\n",
       "0              1    TXG  2019-09-12  54.000000  58.000000  51.000000   \n",
       "1              2    TXG  2019-09-13  52.750000  54.355000  49.150002   \n",
       "2              3    TXG  2019-09-16  52.450001  56.000000  52.009998   \n",
       "3              4    TXG  2019-09-17  56.209999  60.900002  55.423000   \n",
       "4              5    TXG  2019-09-18  56.849998  62.270000  55.650002   \n",
       "...          ...    ...         ...        ...        ...        ...   \n",
       "1729029  1729030   ZYME  2020-07-16  30.570000  31.670000  30.299999   \n",
       "1729030  1729031   ZYME  2020-07-17  31.200001  33.080002  31.000000   \n",
       "1729031  1729032   ZYME  2020-07-20  33.320000  33.320000  31.589001   \n",
       "1729032  1729033   ZYME  2020-07-21  32.369999  32.490002  30.340000   \n",
       "1729033  1729034   ZYME  2020-07-22  30.799999  32.119999  30.520000   \n",
       "\n",
       "             close     volume   adjusted market.cap         sector  \\\n",
       "0        52.750000  7326300.0  52.750000     $9.31B  Capital Goods   \n",
       "1        52.270000  1025200.0  52.270000     $9.31B  Capital Goods   \n",
       "2        55.200001   269900.0  55.200001     $9.31B  Capital Goods   \n",
       "3        56.779999   602800.0  56.779999     $9.31B  Capital Goods   \n",
       "4        62.000000  1589600.0  62.000000     $9.31B  Capital Goods   \n",
       "...            ...        ...        ...        ...            ...   \n",
       "1729029  31.150000   467900.0  31.150000     $1.44B    Health Care   \n",
       "1729030  33.029999   600800.0  33.029999     $1.44B    Health Care   \n",
       "1729031  32.110001   303500.0  32.110001     $1.44B    Health Care   \n",
       "1729032  30.650000   337900.0  30.650000     $1.44B    Health Care   \n",
       "1729033  31.700001   369900.0  31.700001     $1.44B    Health Care   \n",
       "\n",
       "                                                 industry exchange  \n",
       "0        Biotechnology: Laboratory Analytical Instruments   NASDAQ  \n",
       "1        Biotechnology: Laboratory Analytical Instruments   NASDAQ  \n",
       "2        Biotechnology: Laboratory Analytical Instruments   NASDAQ  \n",
       "3        Biotechnology: Laboratory Analytical Instruments   NASDAQ  \n",
       "4        Biotechnology: Laboratory Analytical Instruments   NASDAQ  \n",
       "...                                                   ...      ...  \n",
       "1729029                             Major Pharmaceuticals     NYSE  \n",
       "1729030                             Major Pharmaceuticals     NYSE  \n",
       "1729031                             Major Pharmaceuticals     NYSE  \n",
       "1729032                             Major Pharmaceuticals     NYSE  \n",
       "1729033                             Major Pharmaceuticals     NYSE  \n",
       "\n",
       "[1729034 rows x 13 columns]"
      ]
     },
     "metadata": {},
     "output_type": "display_data"
    }
   ],
   "source": [
    "# Let's display like dataframe\n",
    "import pandas as pd\n",
    "\n",
    "display(data.toPandas())"
   ]
  },
  {
   "cell_type": "code",
   "execution_count": 11,
   "id": "3b2e514a",
   "metadata": {},
   "outputs": [
    {
     "data": {
      "text/plain": [
       "[Row(_c0=1, symbol='TXG', date=datetime.date(2019, 9, 12), open=54.0, high=58.0, low=51.0, close=52.75, volume=7326300, adjusted=52.75, market.cap='$9.31B', sector='Capital Goods', industry='Biotechnology: Laboratory Analytical Instruments', exchange='NASDAQ'),\n",
       " Row(_c0=2, symbol='TXG', date=datetime.date(2019, 9, 13), open=52.75, high=54.355, low=49.150002, close=52.27, volume=1025200, adjusted=52.27, market.cap='$9.31B', sector='Capital Goods', industry='Biotechnology: Laboratory Analytical Instruments', exchange='NASDAQ'),\n",
       " Row(_c0=3, symbol='TXG', date=datetime.date(2019, 9, 16), open=52.450001, high=56.0, low=52.009998, close=55.200001, volume=269900, adjusted=55.200001, market.cap='$9.31B', sector='Capital Goods', industry='Biotechnology: Laboratory Analytical Instruments', exchange='NASDAQ'),\n",
       " Row(_c0=4, symbol='TXG', date=datetime.date(2019, 9, 17), open=56.209999, high=60.900002, low=55.423, close=56.779999, volume=602800, adjusted=56.779999, market.cap='$9.31B', sector='Capital Goods', industry='Biotechnology: Laboratory Analytical Instruments', exchange='NASDAQ'),\n",
       " Row(_c0=5, symbol='TXG', date=datetime.date(2019, 9, 18), open=56.849998, high=62.27, low=55.650002, close=62.0, volume=1589600, adjusted=62.0, market.cap='$9.31B', sector='Capital Goods', industry='Biotechnology: Laboratory Analytical Instruments', exchange='NASDAQ')]"
      ]
     },
     "execution_count": 11,
     "metadata": {},
     "output_type": "execute_result"
    }
   ],
   "source": [
    "# Method head() displays n rows in list\n",
    "data.head(5)"
   ]
  },
  {
   "cell_type": "code",
   "execution_count": 12,
   "id": "752d7dcb",
   "metadata": {},
   "outputs": [
    {
     "data": {
      "text/plain": [
       "Row(_c0=1, symbol='TXG', date=datetime.date(2019, 9, 12), open=54.0, high=58.0, low=51.0, close=52.75, volume=7326300, adjusted=52.75, market.cap='$9.31B', sector='Capital Goods', industry='Biotechnology: Laboratory Analytical Instruments', exchange='NASDAQ')"
      ]
     },
     "execution_count": 12,
     "metadata": {},
     "output_type": "execute_result"
    }
   ],
   "source": [
    "# Method first() displays first row of data\n",
    "data.first()"
   ]
  },
  {
   "cell_type": "code",
   "execution_count": 13,
   "id": "fce4cda0",
   "metadata": {},
   "outputs": [
    {
     "data": {
      "text/plain": [
       "[Row(_c0=1, symbol='TXG', date=datetime.date(2019, 9, 12), open=54.0, high=58.0, low=51.0, close=52.75, volume=7326300, adjusted=52.75, market.cap='$9.31B', sector='Capital Goods', industry='Biotechnology: Laboratory Analytical Instruments', exchange='NASDAQ'),\n",
       " Row(_c0=2, symbol='TXG', date=datetime.date(2019, 9, 13), open=52.75, high=54.355, low=49.150002, close=52.27, volume=1025200, adjusted=52.27, market.cap='$9.31B', sector='Capital Goods', industry='Biotechnology: Laboratory Analytical Instruments', exchange='NASDAQ'),\n",
       " Row(_c0=3, symbol='TXG', date=datetime.date(2019, 9, 16), open=52.450001, high=56.0, low=52.009998, close=55.200001, volume=269900, adjusted=55.200001, market.cap='$9.31B', sector='Capital Goods', industry='Biotechnology: Laboratory Analytical Instruments', exchange='NASDAQ'),\n",
       " Row(_c0=4, symbol='TXG', date=datetime.date(2019, 9, 17), open=56.209999, high=60.900002, low=55.423, close=56.779999, volume=602800, adjusted=56.779999, market.cap='$9.31B', sector='Capital Goods', industry='Biotechnology: Laboratory Analytical Instruments', exchange='NASDAQ'),\n",
       " Row(_c0=5, symbol='TXG', date=datetime.date(2019, 9, 18), open=56.849998, high=62.27, low=55.650002, close=62.0, volume=1589600, adjusted=62.0, market.cap='$9.31B', sector='Capital Goods', industry='Biotechnology: Laboratory Analytical Instruments', exchange='NASDAQ')]"
      ]
     },
     "execution_count": 13,
     "metadata": {},
     "output_type": "execute_result"
    }
   ],
   "source": [
    "# Method take() dispays first n rows\n",
    "data.take(5)"
   ]
  },
  {
   "cell_type": "markdown",
   "id": "04aaedca",
   "metadata": {},
   "source": [
    "### Method take() display first n elements from RDD or Dataframe, but head() available only for Dataframe"
   ]
  },
  {
   "cell_type": "code",
   "execution_count": 14,
   "id": "3f97aa49",
   "metadata": {},
   "outputs": [
    {
     "name": "stdout",
     "output_type": "stream",
     "text": [
      "-RECORD 0--------------------------\n",
      " summary    | count                \n",
      " _c0        | 1729034              \n",
      " symbol     | 1729034              \n",
      " open       | 1726301              \n",
      " high       | 1726301              \n",
      " low        | 1726301              \n",
      " close      | 1726301              \n",
      " volume     | 1725207              \n",
      " adjusted   | 1726301              \n",
      " market.cap | 1729034              \n",
      " sector     | 1729034              \n",
      " industry   | 1729034              \n",
      " exchange   | 1729034              \n",
      "-RECORD 1--------------------------\n",
      " summary    | mean                 \n",
      " _c0        | 864517.5             \n",
      " symbol     | null                 \n",
      " open       | 15070.071703341047   \n",
      " high       | 15555.067268137087   \n",
      " low        | 14557.808227578987   \n",
      " close      | 15032.71485433071    \n",
      " volume     | 1397692.1627885813   \n",
      " adjusted   | 14926.109688795501   \n",
      " market.cap | null                 \n",
      " sector     | null                 \n",
      " industry   | null                 \n",
      " exchange   | null                 \n",
      "-RECORD 2--------------------------\n",
      " summary    | stddev               \n",
      " _c0        | 499129.2670065541    \n",
      " symbol     | null                 \n",
      " open       | 1111821.8002863121   \n",
      " high       | 1148247.1953514938   \n",
      " low        | 1072968.155843422    \n",
      " close      | 1109755.9294000654   \n",
      " volume     | 5187522.9081691075   \n",
      " adjusted   | 1101877.6328940047   \n",
      " market.cap | null                 \n",
      " sector     | null                 \n",
      " industry   | null                 \n",
      " exchange   | null                 \n",
      "-RECORD 3--------------------------\n",
      " summary    | min                  \n",
      " _c0        | 1                    \n",
      " symbol     | A                    \n",
      " open       | 0.072                \n",
      " high       | 0.078                \n",
      " low        | 0.052                \n",
      " close      | 0.071                \n",
      " volume     | 0                    \n",
      " adjusted   | -1.230099            \n",
      " market.cap | $1.01B               \n",
      " sector     | Basic Industries     \n",
      " industry   | Accident &Health ... \n",
      " exchange   | NASDAQ               \n",
      "-RECORD 4--------------------------\n",
      " summary    | max                  \n",
      " _c0        | 1729034              \n",
      " symbol     | ZYXI                 \n",
      " open       | 1.60168176E8         \n",
      " high       | 1.61601456E8         \n",
      " low        | 1.55151728E8         \n",
      " close      | 1.58376592E8         \n",
      " volume     | 656504200            \n",
      " adjusted   | 1.57249392E8         \n",
      " market.cap | $9B                  \n",
      " sector     | Transportation       \n",
      " industry   | Wholesale Distrib... \n",
      " exchange   | NYSE                 \n",
      "\n"
     ]
    }
   ],
   "source": [
    "# Method describe() displays some descriptive statistics\n",
    "data.describe().show(vertical=True)"
   ]
  },
  {
   "cell_type": "code",
   "execution_count": 15,
   "id": "886362cc",
   "metadata": {},
   "outputs": [
    {
     "data": {
      "text/plain": [
       "['_c0',\n",
       " 'symbol',\n",
       " 'date',\n",
       " 'open',\n",
       " 'high',\n",
       " 'low',\n",
       " 'close',\n",
       " 'volume',\n",
       " 'adjusted',\n",
       " 'market.cap',\n",
       " 'sector',\n",
       " 'industry',\n",
       " 'exchange']"
      ]
     },
     "execution_count": 15,
     "metadata": {},
     "output_type": "execute_result"
    }
   ],
   "source": [
    "# Attribute columns returns list with columns\n",
    "data.columns"
   ]
  },
  {
   "cell_type": "code",
   "execution_count": 16,
   "id": "76f7c21e",
   "metadata": {},
   "outputs": [
    {
     "data": {
      "text/plain": [
       "1729034"
      ]
     },
     "execution_count": 16,
     "metadata": {},
     "output_type": "execute_result"
    }
   ],
   "source": [
    "# Method count() returns total number of rows\n",
    "data.count()"
   ]
  },
  {
   "cell_type": "code",
   "execution_count": 17,
   "id": "55db93b3",
   "metadata": {},
   "outputs": [
    {
     "name": "stdout",
     "output_type": "stream",
     "text": [
      "-RECORD 0--------------------------\n",
      " _c0        | 76                   \n",
      " symbol     | TXG                  \n",
      " date       | 2019-12-30           \n",
      " open       | 78.150002            \n",
      " high       | 79.160004            \n",
      " low        | 74.540001            \n",
      " close      | 76.129997            \n",
      " volume     | 149600               \n",
      " adjusted   | 76.129997            \n",
      " market.cap | $9.31B               \n",
      " sector     | Capital Goods        \n",
      " industry   | Biotechnology: La... \n",
      " exchange   | NASDAQ               \n",
      "-RECORD 1--------------------------\n",
      " _c0        | 96                   \n",
      " symbol     | TXG                  \n",
      " date       | 2020-01-29           \n",
      " open       | 107.779999           \n",
      " high       | 108.359001           \n",
      " low        | 98.029999            \n",
      " close      | 99.290001            \n",
      " volume     | 284800               \n",
      " adjusted   | 99.290001            \n",
      " market.cap | $9.31B               \n",
      " sector     | Capital Goods        \n",
      " industry   | Biotechnology: La... \n",
      " exchange   | NASDAQ               \n",
      "-RECORD 2--------------------------\n",
      " _c0        | 358                  \n",
      " symbol     | YI                   \n",
      " date       | 2019-07-24           \n",
      " open       | 4.07                 \n",
      " high       | 4.07                 \n",
      " low        | 3.99                 \n",
      " close      | 4.05                 \n",
      " volume     | 17700                \n",
      " adjusted   | 4.05                 \n",
      " market.cap | $560.04M             \n",
      " sector     | Health Care          \n",
      " industry   | Medical/Nursing S... \n",
      " exchange   | NASDAQ               \n",
      "only showing top 3 rows\n",
      "\n"
     ]
    }
   ],
   "source": [
    "# Method distinct() returns distinct rows from data\n",
    "data.distinct().show(n=3, vertical=True)"
   ]
  },
  {
   "cell_type": "code",
   "execution_count": 18,
   "id": "364bce6d",
   "metadata": {},
   "outputs": [
    {
     "data": {
      "text/plain": [
       "1729034"
      ]
     },
     "execution_count": 18,
     "metadata": {},
     "output_type": "execute_result"
    }
   ],
   "source": [
    "# Let's display count of unique rows\n",
    "data.distinct().count()"
   ]
  },
  {
   "cell_type": "markdown",
   "id": "87ccc27c",
   "metadata": {},
   "source": [
    "# Task 1\n",
    "1. Read the dataset already familiar to us **stocks_price_final**;\n",
    "2. Create a new column **new_volume** at the end with the data from the **volum** column;\n",
    "3. Get rid of the following columns: **symbol, close, volume, adjusted, market.cap, exchange**;\n",
    "4. Swap the names of the columns **high** and **low**;\n",
    "5. Move the **date** column to the end;\n",
    "6. Output the first line copy it completely and paste it into the answer;"
   ]
  },
  {
   "cell_type": "code",
   "execution_count": 19,
   "id": "b79bbc45",
   "metadata": {},
   "outputs": [
    {
     "name": "stdout",
     "output_type": "stream",
     "text": [
      "root\n",
      " |-- _c0: integer (nullable = true)\n",
      " |-- symbol: string (nullable = true)\n",
      " |-- date: date (nullable = true)\n",
      " |-- open: double (nullable = true)\n",
      " |-- high: double (nullable = true)\n",
      " |-- low: double (nullable = true)\n",
      " |-- close: double (nullable = true)\n",
      " |-- volume: integer (nullable = true)\n",
      " |-- adjusted: double (nullable = true)\n",
      " |-- market.cap: string (nullable = true)\n",
      " |-- sector: string (nullable = true)\n",
      " |-- industry: string (nullable = true)\n",
      " |-- exchange: string (nullable = true)\n",
      "\n"
     ]
    }
   ],
   "source": [
    "import pyspark\n",
    "from pyspark.sql import SparkSession\n",
    "from pyspark.sql.types import *\n",
    "\n",
    "spark = SparkSession.builder.appName('Task 1').getOrCreate()\n",
    "\n",
    "data_schema = StructType([\n",
    "    StructField('_c0', IntegerType(), nullable=True),\n",
    "    StructField('symbol', StringType(), nullable=True),\n",
    "    StructField('date', DateType(), True),\n",
    "    StructField('open', DoubleType(), True),\n",
    "    StructField('high', DoubleType(), True),\n",
    "    StructField('low', DoubleType(), True),\n",
    "    StructField('close', DoubleType(), True),\n",
    "    StructField('volume', IntegerType(), True),\n",
    "    StructField('adjusted', DoubleType(), True),\n",
    "    StructField('market.cap', StringType(), True),\n",
    "    StructField('sector', StringType(), True),\n",
    "    StructField('industry', StringType(), True),\n",
    "    StructField('exchange', StringType(), True)\n",
    "])\n",
    "\n",
    "# 1. Read dataset\n",
    "data = spark.read.csv(path='stocks_price_final.csv', header=True, schema=data_schema)\n",
    "data.printSchema()"
   ]
  },
  {
   "cell_type": "code",
   "execution_count": 20,
   "id": "fa3b3d19",
   "metadata": {},
   "outputs": [
    {
     "data": {
      "text/plain": [
       "['_c0',\n",
       " 'symbol',\n",
       " 'date',\n",
       " 'open',\n",
       " 'high',\n",
       " 'low',\n",
       " 'close',\n",
       " 'volume',\n",
       " 'adjusted',\n",
       " 'market.cap',\n",
       " 'sector',\n",
       " 'industry',\n",
       " 'exchange',\n",
       " 'new_volume']"
      ]
     },
     "execution_count": 20,
     "metadata": {},
     "output_type": "execute_result"
    }
   ],
   "source": [
    "# 2. Create new column\n",
    "data = data.withColumn('new_volume', data['volume'])\n",
    "data.columns"
   ]
  },
  {
   "cell_type": "code",
   "execution_count": 21,
   "id": "667a59cf",
   "metadata": {},
   "outputs": [
    {
     "data": {
      "text/plain": [
       "['_c0', 'date', 'open', 'high', 'low', 'sector', 'industry', 'new_volume']"
      ]
     },
     "execution_count": 21,
     "metadata": {},
     "output_type": "execute_result"
    }
   ],
   "source": [
    "# 3. Drop some columns\n",
    "data = data.drop('symbol', 'close', 'volume', 'adjusted', 'market.cap', 'exchange')\n",
    "data.columns"
   ]
  },
  {
   "cell_type": "markdown",
   "id": "b0c57fbb",
   "metadata": {},
   "source": [
    "# [PySpark – Drop One or Multiple Columns From DataFrame](https://sparkbyexamples.com/pyspark/pyspark-drop-column-from-dataframe/)"
   ]
  },
  {
   "cell_type": "code",
   "execution_count": 22,
   "id": "596422b6",
   "metadata": {},
   "outputs": [
    {
     "data": {
      "text/plain": [
       "['_c0', 'date', 'open', 'low', 'high', 'sector', 'industry', 'new_volume']"
      ]
     },
     "execution_count": 22,
     "metadata": {},
     "output_type": "execute_result"
    }
   ],
   "source": [
    "# 4. Rename Columns' names\n",
    "data = data.withColumnRenamed('high', 'intermediate') \\\n",
    "    .withColumnRenamed('low', 'high') \\\n",
    "    .withColumnRenamed('intermediate', 'low')\n",
    "data.columns"
   ]
  },
  {
   "cell_type": "code",
   "execution_count": 23,
   "id": "c61e025a",
   "metadata": {},
   "outputs": [
    {
     "data": {
      "text/plain": [
       "['_c0', 'open', 'low', 'high', 'sector', 'industry', 'new_volume', 'date']"
      ]
     },
     "execution_count": 23,
     "metadata": {},
     "output_type": "execute_result"
    }
   ],
   "source": [
    "# 5. Move 'data' column in the end of columns\n",
    "data = data.withColumn('new_date', data['date']) \\\n",
    "    .drop('date') \\\n",
    "    .withColumnRenamed('new_date', 'date')\n",
    "data.columns"
   ]
  },
  {
   "cell_type": "code",
   "execution_count": 24,
   "id": "dd2b82b2",
   "metadata": {},
   "outputs": [
    {
     "name": "stdout",
     "output_type": "stream",
     "text": [
      "+---+----+----+----+-------------+--------------------+----------+----------+\n",
      "|_c0|open| low|high|       sector|            industry|new_volume|      date|\n",
      "+---+----+----+----+-------------+--------------------+----------+----------+\n",
      "|  1|54.0|58.0|51.0|Capital Goods|Biotechnology: La...|   7326300|2019-09-12|\n",
      "+---+----+----+----+-------------+--------------------+----------+----------+\n",
      "only showing top 1 row\n",
      "\n"
     ]
    }
   ],
   "source": [
    "# 6. Display first row\n",
    "data.show(1)"
   ]
  },
  {
   "cell_type": "markdown",
   "id": "9658fd18",
   "metadata": {},
   "source": [
    "### Answer is:\n",
    "\n",
    "|  1|54.0|58.0|51.0|Capital Goods|Biotechnology: La...|   7326300|2019-09-12|"
   ]
  },
  {
   "cell_type": "markdown",
   "id": "d6c55edf",
   "metadata": {},
   "source": [
    "# How to work with NaN values\n",
    "\n",
    "```Python\n",
    "from pyspark.sql import functions\n",
    "\n",
    "# Remove lines with nan values:\n",
    "data.na.drop()\n",
    "\n",
    "# Replase nan values:\n",
    "data.na.fill(data.select(functions.mean(data['open'])).collect()[0][0])\n",
    "\n",
    "# Replace nan values using other values:\n",
    "data.na.replace(old_value, new_value)\n",
    "```"
   ]
  },
  {
   "attachments": {
    "image.png": {
     "image/png": "[encoded data removed]"
    }
   },
   "cell_type": "markdown",
   "id": "76031015",
   "metadata": {},
   "source": [
    "![image.png](attachment:image.png)"
   ]
  },
  {
   "cell_type": "markdown",
   "id": "cb16b6f2",
   "metadata": {},
   "source": [
    "# Task 2\n",
    "1. Read the dataset already familiar to us **stocks_price_final**;\n",
    "2. Calculate the difference between the original number of rows in the dataset and the number of rows after removing missing values."
   ]
  },
  {
   "cell_type": "code",
   "execution_count": 25,
   "id": "5f80aaa9",
   "metadata": {},
   "outputs": [],
   "source": [
    "# This code was given by author\n",
    "data_schema = [\n",
    "               StructField('_c0', IntegerType(), nullable=True),\n",
    "               StructField('symbol', StringType(), True),\n",
    "               StructField('date', DateType(), True),\n",
    "               StructField('open', DoubleType(), True),\n",
    "               StructField('high', DoubleType(), True),\n",
    "               StructField('low', DoubleType(), True),\n",
    "               StructField('close', DoubleType(), True),\n",
    "               StructField('volume', IntegerType(), True),\n",
    "               StructField('adjusted', DoubleType(), True),\n",
    "               StructField('market.cap', StringType(), True),\n",
    "               StructField('sector', StringType(), True),\n",
    "               StructField('industry', StringType(), True),\n",
    "               StructField('exchange', StringType(), True),\n",
    "            ]\n",
    "\n",
    "final_struc = StructType(fields = data_schema)\n",
    "\n",
    "data = spark.read.csv('stocks_price_final.csv', sep=',', header=True, schema=final_struc).withColumnRenamed('market.cap','market_cap')"
   ]
  },
  {
   "cell_type": "code",
   "execution_count": 26,
   "id": "5cf9db25",
   "metadata": {},
   "outputs": [
    {
     "name": "stdout",
     "output_type": "stream",
     "text": [
      "3827\n"
     ]
    }
   ],
   "source": [
    "before = data.count()\n",
    "after = data.na.drop().count()\n",
    "print(before - after)"
   ]
  },
  {
   "cell_type": "code",
   "execution_count": 27,
   "id": "c1677952",
   "metadata": {},
   "outputs": [
    {
     "name": "stdout",
     "output_type": "stream",
     "text": [
      "+-------------+\n",
      "|       sector|\n",
      "+-------------+\n",
      "|Capital Goods|\n",
      "|Capital Goods|\n",
      "|Capital Goods|\n",
      "|Capital Goods|\n",
      "|Capital Goods|\n",
      "+-------------+\n",
      "only showing top 5 rows\n",
      "\n",
      "+---------+---------+---------+\n",
      "|     open|    close| adjusted|\n",
      "+---------+---------+---------+\n",
      "|     54.0|    52.75|    52.75|\n",
      "|    52.75|    52.27|    52.27|\n",
      "|52.450001|55.200001|55.200001|\n",
      "|56.209999|56.779999|56.779999|\n",
      "|56.849998|     62.0|     62.0|\n",
      "+---------+---------+---------+\n",
      "only showing top 5 rows\n",
      "\n"
     ]
    }
   ],
   "source": [
    "# Select data from one or several columns\n",
    "data.select('sector').show(5)\n",
    "data.select(['open', 'close', 'adjusted']).show(5)"
   ]
  },
  {
   "cell_type": "code",
   "execution_count": 28,
   "id": "bd7271e0",
   "metadata": {},
   "outputs": [
    {
     "name": "stdout",
     "output_type": "stream",
     "text": [
      "+---+------+----------+---------+---------+---------+---------+------+---------+----------+-------------+--------------------+--------+\n",
      "|_c0|symbol|      date|     open|     high|      low|    close|volume| adjusted|market_cap|       sector|            industry|exchange|\n",
      "+---+------+----------+---------+---------+---------+---------+------+---------+----------+-------------+--------------------+--------+\n",
      "| 78|   TXG|2020-01-02|76.910004|77.989998|71.480003|72.830002|220200|72.830002|    $9.31B|Capital Goods|Biotechnology: La...|  NASDAQ|\n",
      "| 79|   TXG|2020-01-03|71.519997|76.188004|70.580002|75.559998|288300|75.559998|    $9.31B|Capital Goods|Biotechnology: La...|  NASDAQ|\n",
      "| 80|   TXG|2020-01-06|75.269997|77.349998|73.559998|75.550003|220600|75.550003|    $9.31B|Capital Goods|Biotechnology: La...|  NASDAQ|\n",
      "| 81|   TXG|2020-01-07|     76.0|77.279999|    75.32|75.980003|182400|75.980003|    $9.31B|Capital Goods|Biotechnology: La...|  NASDAQ|\n",
      "| 82|   TXG|2020-01-08|76.089996|76.949997|72.739998|74.839996|172100|74.839996|    $9.31B|Capital Goods|Biotechnology: La...|  NASDAQ|\n",
      "+---+------+----------+---------+---------+---------+---------+------+---------+----------+-------------+--------------------+--------+\n",
      "only showing top 5 rows\n",
      "\n"
     ]
    }
   ],
   "source": [
    "# Filter\n",
    "from pyspark.sql.functions import col, lit\n",
    "\n",
    "data.filter(\n",
    "    (col('date') >= lit('2020-01-01')) & \\\n",
    "    (col('date') <= lit('2020-01-31'))\n",
    ").show(5)"
   ]
  },
  {
   "attachments": {
    "image.png": {
     "image/png": "[encoded data removed]"
    }
   },
   "cell_type": "markdown",
   "id": "be19bd1e",
   "metadata": {},
   "source": [
    "![image.png](attachment:image.png)"
   ]
  },
  {
   "cell_type": "code",
   "execution_count": 29,
   "id": "e9f8a3a9",
   "metadata": {},
   "outputs": [
    {
     "name": "stdout",
     "output_type": "stream",
     "text": [
      "+---+------+----------+---------+-----+---------+----------+------+----------+----------+-------------+--------------------+--------+\n",
      "|_c0|symbol|      date|     open| high|      low|     close|volume|  adjusted|market_cap|       sector|            industry|exchange|\n",
      "+---+------+----------+---------+-----+---------+----------+------+----------+----------+-------------+--------------------+--------+\n",
      "| 93|   TXG|2020-01-24|95.459999|101.0|94.157997|100.790001|328100|100.790001|    $9.31B|Capital Goods|Biotechnology: La...|  NASDAQ|\n",
      "+---+------+----------+---------+-----+---------+----------+------+----------+----------+-------------+--------------------+--------+\n",
      "only showing top 1 row\n",
      "\n"
     ]
    }
   ],
   "source": [
    "# Between. This method returns True if the value being checked belongs to the specified range, otherwise False\n",
    "data.filter(data.adjusted.between(100.0, 500.0)).show(1)"
   ]
  },
  {
   "cell_type": "code",
   "execution_count": 30,
   "id": "a8577ff2",
   "metadata": {},
   "outputs": [
    {
     "name": "stdout",
     "output_type": "stream",
     "text": [
      "+---------+---------+----+\n",
      "|     open|    close|case|\n",
      "+---------+---------+----+\n",
      "|     54.0|    52.75|   0|\n",
      "|    52.75|    52.27|   0|\n",
      "|52.450001|55.200001|   0|\n",
      "|56.209999|56.779999|   0|\n",
      "|56.849998|     62.0|   0|\n",
      "+---------+---------+----+\n",
      "only showing top 5 rows\n",
      "\n"
     ]
    }
   ],
   "source": [
    "# When\n",
    "from pyspark.sql.functions import when\n",
    "\n",
    "data.select('open', 'close',\n",
    "            when(data.adjusted >= 200.0, 1).otherwise(0).alias('case')\n",
    ").show(5)"
   ]
  },
  {
   "cell_type": "markdown",
   "id": "aa516a32",
   "metadata": {},
   "source": [
    "It returns 0 or 1 depending on the given condition. The example below shows how to select open and close prices where the adjusted price was greater than or equal to 200."
   ]
  },
  {
   "cell_type": "code",
   "execution_count": 31,
   "id": "2230ab57",
   "metadata": {},
   "outputs": [
    {
     "name": "stdout",
     "output_type": "stream",
     "text": [
      "+--------------------+------------------+\n",
      "|              sector|Begins from B or C|\n",
      "+--------------------+------------------+\n",
      "|         Health Care|             false|\n",
      "|       Capital Goods|              true|\n",
      "|Consumer Non-Dura...|              true|\n",
      "|    Public Utilities|             false|\n",
      "|   Consumer Durables|              true|\n",
      "|             Finance|             false|\n",
      "|      Transportation|             false|\n",
      "|       Miscellaneous|             false|\n",
      "|   Consumer Services|              true|\n",
      "|              Energy|             false|\n",
      "|    Basic Industries|              true|\n",
      "|          Technology|             false|\n",
      "+--------------------+------------------+\n",
      "\n"
     ]
    }
   ],
   "source": [
    "# Like (^[B,C] - regex begins from B or C)\n",
    "data.select('sector',\n",
    "           data.sector.rlike('^[B,C]').alias('Begins from B or C')\n",
    ").distinct().show()"
   ]
  },
  {
   "cell_type": "code",
   "execution_count": 32,
   "id": "e5e4d681",
   "metadata": {},
   "outputs": [
    {
     "name": "stdout",
     "output_type": "stream",
     "text": [
      "+--------------------+-----------------+-----------------+-----------------+\n",
      "|            industry|        avg(open)|       avg(close)|    avg(adjusted)|\n",
      "+--------------------+-----------------+-----------------+-----------------+\n",
      "|Finance/Investors...|5.134401785714288|5.136630739795919|4.991354066964286|\n",
      "+--------------------+-----------------+-----------------+-----------------+\n",
      "only showing top 1 row\n",
      "\n"
     ]
    }
   ],
   "source": [
    "# GroupBy (parentheses are used to avoid '\\' in the end of each line)\n",
    "(data.select(['industry', 'open', 'close', 'adjusted'])\n",
    "    .groupBy('industry')\n",
    "    .mean()\n",
    "    .show(1)\n",
    ")"
   ]
  },
  {
   "cell_type": "code",
   "execution_count": 33,
   "id": "7c148d53",
   "metadata": {},
   "outputs": [
    {
     "name": "stdout",
     "output_type": "stream",
     "text": [
      "+---------------------+---------------+---------------+------------------+\n",
      "|sector               |min close price|max close price|avg close price   |\n",
      "+---------------------+---------------+---------------+------------------+\n",
      "|Miscellaneous        |0.1361         |1035.829956    |52.063628549509616|\n",
      "|Health Care          |0.071          |187000.0       |119.07806125419022|\n",
      "|Public Utilities     |0.325          |282.220001     |35.58528245861939 |\n",
      "|Energy               |0.09           |901.039978     |24.427350302157947|\n",
      "|Consumer Non-Durables|0.12           |664.130005     |43.33038601364589 |\n",
      "+---------------------+---------------+---------------+------------------+\n",
      "only showing top 5 rows\n",
      "\n"
     ]
    }
   ],
   "source": [
    "# Aggregation\n",
    "from pyspark.sql.functions import min, max, avg\n",
    "\n",
    "(data.groupBy('sector')\n",
    "    .agg(\n",
    "        min('close').alias('min close price'),\n",
    "        max('close').alias('max close price'),\n",
    "        avg('close').alias('avg close price')\n",
    "    ).show(n=5, truncate=False)\n",
    ")"
   ]
  },
  {
   "cell_type": "markdown",
   "id": "263e95a7",
   "metadata": {},
   "source": [
    "# Task 3\n",
    "Print the first 5 lines by copying the output and pasting it into the response;\n",
    "\n",
    "The resulting table should contain the following columns:\n",
    "```Python\n",
    "+---+-----+\n",
    "|age|count|\n",
    "+---+-----+\n",
    "```"
   ]
  },
  {
   "cell_type": "code",
   "execution_count": 34,
   "id": "a75e59b8",
   "metadata": {},
   "outputs": [],
   "source": [
    "# Open data for tasks 3-6\n",
    "pyspark = spark.read.csv(path='bank.csv', sep=';', header=True)"
   ]
  },
  {
   "cell_type": "code",
   "execution_count": 35,
   "id": "7f31d8ef",
   "metadata": {},
   "outputs": [
    {
     "data": {
      "text/html": [
       "<div>\n",
       "<style scoped>\n",
       "    .dataframe tbody tr th:only-of-type {\n",
       "        vertical-align: middle;\n",
       "    }\n",
       "\n",
       "    .dataframe tbody tr th {\n",
       "        vertical-align: top;\n",
       "    }\n",
       "\n",
       "    .dataframe thead th {\n",
       "        text-align: right;\n",
       "    }\n",
       "</style>\n",
       "<table border=\"1\" class=\"dataframe\">\n",
       "  <thead>\n",
       "    <tr style=\"text-align: right;\">\n",
       "      <th></th>\n",
       "      <th>age</th>\n",
       "      <th>job</th>\n",
       "      <th>marital</th>\n",
       "      <th>education</th>\n",
       "      <th>default</th>\n",
       "      <th>balance</th>\n",
       "      <th>housing</th>\n",
       "      <th>loan</th>\n",
       "      <th>contact</th>\n",
       "      <th>day</th>\n",
       "      <th>month</th>\n",
       "      <th>duration</th>\n",
       "      <th>campaign</th>\n",
       "      <th>pdays</th>\n",
       "      <th>previous</th>\n",
       "      <th>poutcome</th>\n",
       "      <th>y</th>\n",
       "    </tr>\n",
       "  </thead>\n",
       "  <tbody>\n",
       "    <tr>\n",
       "      <th>0</th>\n",
       "      <td>30</td>\n",
       "      <td>unemployed</td>\n",
       "      <td>married</td>\n",
       "      <td>primary</td>\n",
       "      <td>no</td>\n",
       "      <td>1787</td>\n",
       "      <td>no</td>\n",
       "      <td>no</td>\n",
       "      <td>cellular</td>\n",
       "      <td>19</td>\n",
       "      <td>oct</td>\n",
       "      <td>79</td>\n",
       "      <td>1</td>\n",
       "      <td>-1</td>\n",
       "      <td>0</td>\n",
       "      <td>unknown</td>\n",
       "      <td>no</td>\n",
       "    </tr>\n",
       "    <tr>\n",
       "      <th>1</th>\n",
       "      <td>33</td>\n",
       "      <td>services</td>\n",
       "      <td>married</td>\n",
       "      <td>secondary</td>\n",
       "      <td>no</td>\n",
       "      <td>4789</td>\n",
       "      <td>yes</td>\n",
       "      <td>yes</td>\n",
       "      <td>cellular</td>\n",
       "      <td>11</td>\n",
       "      <td>may</td>\n",
       "      <td>220</td>\n",
       "      <td>1</td>\n",
       "      <td>339</td>\n",
       "      <td>4</td>\n",
       "      <td>failure</td>\n",
       "      <td>no</td>\n",
       "    </tr>\n",
       "    <tr>\n",
       "      <th>2</th>\n",
       "      <td>35</td>\n",
       "      <td>management</td>\n",
       "      <td>single</td>\n",
       "      <td>tertiary</td>\n",
       "      <td>no</td>\n",
       "      <td>1350</td>\n",
       "      <td>yes</td>\n",
       "      <td>no</td>\n",
       "      <td>cellular</td>\n",
       "      <td>16</td>\n",
       "      <td>apr</td>\n",
       "      <td>185</td>\n",
       "      <td>1</td>\n",
       "      <td>330</td>\n",
       "      <td>1</td>\n",
       "      <td>failure</td>\n",
       "      <td>no</td>\n",
       "    </tr>\n",
       "    <tr>\n",
       "      <th>3</th>\n",
       "      <td>30</td>\n",
       "      <td>management</td>\n",
       "      <td>married</td>\n",
       "      <td>tertiary</td>\n",
       "      <td>no</td>\n",
       "      <td>1476</td>\n",
       "      <td>yes</td>\n",
       "      <td>yes</td>\n",
       "      <td>unknown</td>\n",
       "      <td>3</td>\n",
       "      <td>jun</td>\n",
       "      <td>199</td>\n",
       "      <td>4</td>\n",
       "      <td>-1</td>\n",
       "      <td>0</td>\n",
       "      <td>unknown</td>\n",
       "      <td>no</td>\n",
       "    </tr>\n",
       "    <tr>\n",
       "      <th>4</th>\n",
       "      <td>59</td>\n",
       "      <td>blue-collar</td>\n",
       "      <td>married</td>\n",
       "      <td>secondary</td>\n",
       "      <td>no</td>\n",
       "      <td>0</td>\n",
       "      <td>yes</td>\n",
       "      <td>no</td>\n",
       "      <td>unknown</td>\n",
       "      <td>5</td>\n",
       "      <td>may</td>\n",
       "      <td>226</td>\n",
       "      <td>1</td>\n",
       "      <td>-1</td>\n",
       "      <td>0</td>\n",
       "      <td>unknown</td>\n",
       "      <td>no</td>\n",
       "    </tr>\n",
       "    <tr>\n",
       "      <th>...</th>\n",
       "      <td>...</td>\n",
       "      <td>...</td>\n",
       "      <td>...</td>\n",
       "      <td>...</td>\n",
       "      <td>...</td>\n",
       "      <td>...</td>\n",
       "      <td>...</td>\n",
       "      <td>...</td>\n",
       "      <td>...</td>\n",
       "      <td>...</td>\n",
       "      <td>...</td>\n",
       "      <td>...</td>\n",
       "      <td>...</td>\n",
       "      <td>...</td>\n",
       "      <td>...</td>\n",
       "      <td>...</td>\n",
       "      <td>...</td>\n",
       "    </tr>\n",
       "    <tr>\n",
       "      <th>4516</th>\n",
       "      <td>33</td>\n",
       "      <td>services</td>\n",
       "      <td>married</td>\n",
       "      <td>secondary</td>\n",
       "      <td>no</td>\n",
       "      <td>-333</td>\n",
       "      <td>yes</td>\n",
       "      <td>no</td>\n",
       "      <td>cellular</td>\n",
       "      <td>30</td>\n",
       "      <td>jul</td>\n",
       "      <td>329</td>\n",
       "      <td>5</td>\n",
       "      <td>-1</td>\n",
       "      <td>0</td>\n",
       "      <td>unknown</td>\n",
       "      <td>no</td>\n",
       "    </tr>\n",
       "    <tr>\n",
       "      <th>4517</th>\n",
       "      <td>57</td>\n",
       "      <td>self-employed</td>\n",
       "      <td>married</td>\n",
       "      <td>tertiary</td>\n",
       "      <td>yes</td>\n",
       "      <td>-3313</td>\n",
       "      <td>yes</td>\n",
       "      <td>yes</td>\n",
       "      <td>unknown</td>\n",
       "      <td>9</td>\n",
       "      <td>may</td>\n",
       "      <td>153</td>\n",
       "      <td>1</td>\n",
       "      <td>-1</td>\n",
       "      <td>0</td>\n",
       "      <td>unknown</td>\n",
       "      <td>no</td>\n",
       "    </tr>\n",
       "    <tr>\n",
       "      <th>4518</th>\n",
       "      <td>57</td>\n",
       "      <td>technician</td>\n",
       "      <td>married</td>\n",
       "      <td>secondary</td>\n",
       "      <td>no</td>\n",
       "      <td>295</td>\n",
       "      <td>no</td>\n",
       "      <td>no</td>\n",
       "      <td>cellular</td>\n",
       "      <td>19</td>\n",
       "      <td>aug</td>\n",
       "      <td>151</td>\n",
       "      <td>11</td>\n",
       "      <td>-1</td>\n",
       "      <td>0</td>\n",
       "      <td>unknown</td>\n",
       "      <td>no</td>\n",
       "    </tr>\n",
       "    <tr>\n",
       "      <th>4519</th>\n",
       "      <td>28</td>\n",
       "      <td>blue-collar</td>\n",
       "      <td>married</td>\n",
       "      <td>secondary</td>\n",
       "      <td>no</td>\n",
       "      <td>1137</td>\n",
       "      <td>no</td>\n",
       "      <td>no</td>\n",
       "      <td>cellular</td>\n",
       "      <td>6</td>\n",
       "      <td>feb</td>\n",
       "      <td>129</td>\n",
       "      <td>4</td>\n",
       "      <td>211</td>\n",
       "      <td>3</td>\n",
       "      <td>other</td>\n",
       "      <td>no</td>\n",
       "    </tr>\n",
       "    <tr>\n",
       "      <th>4520</th>\n",
       "      <td>44</td>\n",
       "      <td>entrepreneur</td>\n",
       "      <td>single</td>\n",
       "      <td>tertiary</td>\n",
       "      <td>no</td>\n",
       "      <td>1136</td>\n",
       "      <td>yes</td>\n",
       "      <td>yes</td>\n",
       "      <td>cellular</td>\n",
       "      <td>3</td>\n",
       "      <td>apr</td>\n",
       "      <td>345</td>\n",
       "      <td>2</td>\n",
       "      <td>249</td>\n",
       "      <td>7</td>\n",
       "      <td>other</td>\n",
       "      <td>no</td>\n",
       "    </tr>\n",
       "  </tbody>\n",
       "</table>\n",
       "<p>4521 rows × 17 columns</p>\n",
       "</div>"
      ],
      "text/plain": [
       "     age            job  marital  education default balance housing loan  \\\n",
       "0     30     unemployed  married    primary      no    1787      no   no   \n",
       "1     33       services  married  secondary      no    4789     yes  yes   \n",
       "2     35     management   single   tertiary      no    1350     yes   no   \n",
       "3     30     management  married   tertiary      no    1476     yes  yes   \n",
       "4     59    blue-collar  married  secondary      no       0     yes   no   \n",
       "...   ..            ...      ...        ...     ...     ...     ...  ...   \n",
       "4516  33       services  married  secondary      no    -333     yes   no   \n",
       "4517  57  self-employed  married   tertiary     yes   -3313     yes  yes   \n",
       "4518  57     technician  married  secondary      no     295      no   no   \n",
       "4519  28    blue-collar  married  secondary      no    1137      no   no   \n",
       "4520  44   entrepreneur   single   tertiary      no    1136     yes  yes   \n",
       "\n",
       "       contact day month duration campaign pdays previous poutcome   y  \n",
       "0     cellular  19   oct       79        1    -1        0  unknown  no  \n",
       "1     cellular  11   may      220        1   339        4  failure  no  \n",
       "2     cellular  16   apr      185        1   330        1  failure  no  \n",
       "3      unknown   3   jun      199        4    -1        0  unknown  no  \n",
       "4      unknown   5   may      226        1    -1        0  unknown  no  \n",
       "...        ...  ..   ...      ...      ...   ...      ...      ...  ..  \n",
       "4516  cellular  30   jul      329        5    -1        0  unknown  no  \n",
       "4517   unknown   9   may      153        1    -1        0  unknown  no  \n",
       "4518  cellular  19   aug      151       11    -1        0  unknown  no  \n",
       "4519  cellular   6   feb      129        4   211        3    other  no  \n",
       "4520  cellular   3   apr      345        2   249        7    other  no  \n",
       "\n",
       "[4521 rows x 17 columns]"
      ]
     },
     "metadata": {},
     "output_type": "display_data"
    }
   ],
   "source": [
    "display(pyspark.toPandas())"
   ]
  },
  {
   "cell_type": "code",
   "execution_count": 36,
   "id": "d757c9d5",
   "metadata": {},
   "outputs": [
    {
     "name": "stdout",
     "output_type": "stream",
     "text": [
      "+---+-----+\n",
      "|age|count|\n",
      "+---+-----+\n",
      "| 51|   91|\n",
      "| 54|   71|\n",
      "| 29|   97|\n",
      "| 69|    6|\n",
      "| 42|  141|\n",
      "+---+-----+\n",
      "only showing top 5 rows\n",
      "\n"
     ]
    }
   ],
   "source": [
    "from pyspark.sql.functions import count\n",
    "\n",
    "(pyspark.select('age')\n",
    "                .groupBy('age')\n",
    "                .agg(\n",
    "                    count('age').alias('count')\n",
    "                ).show(n=5)\n",
    ")"
   ]
  },
  {
   "cell_type": "markdown",
   "id": "50018ea8",
   "metadata": {},
   "source": [
    "# Task 4\n",
    "\n",
    "Find out the employees with what age work in the bank most often.\n",
    "\n",
    "**Note**\n",
    "\n",
    "Output the first 5 rows, copy the output and paste it into the response (include \"only showing top 5 rows\" in the response);\n",
    "\n",
    "The resulting table should contain the following columns:\n",
    "```Python\n",
    "+---+-----+\n",
    "|age|count|\n",
    "+---+-----+\n",
    "```"
   ]
  },
  {
   "cell_type": "code",
   "execution_count": 37,
   "id": "82e3d3dc",
   "metadata": {},
   "outputs": [
    {
     "name": "stdout",
     "output_type": "stream",
     "text": [
      "+---+-----+\n",
      "|age|count|\n",
      "+---+-----+\n",
      "| 34|  231|\n",
      "| 32|  224|\n",
      "| 31|  199|\n",
      "| 36|  188|\n",
      "| 33|  186|\n",
      "+---+-----+\n",
      "only showing top 5 rows\n",
      "\n"
     ]
    }
   ],
   "source": [
    "(pyspark.select('age')\n",
    "                .groupBy('age')\n",
    "                .agg(\n",
    "                    count('age').alias('count'))\n",
    "                .orderBy(col('count').desc())\n",
    "                .show(n=5)\n",
    ")"
   ]
  },
  {
   "cell_type": "markdown",
   "id": "ec75f8b3",
   "metadata": {},
   "source": [
    "# Task 5\n",
    "\n",
    "It is necessary to find the age and number of the youngest bank employees\n",
    "\n",
    "**Note**\n",
    "\n",
    "Output the first 5 rows, copy the output and paste it into the response (include \"only showing top 5 rows\" in the response);\n",
    "\n",
    "The resulting table should contain the following columns:\n",
    "```Python\n",
    "+---+-----+\n",
    "|age|count|\n",
    "+---+-----+\n",
    "```"
   ]
  },
  {
   "cell_type": "code",
   "execution_count": 38,
   "id": "4c62eff3",
   "metadata": {},
   "outputs": [
    {
     "name": "stdout",
     "output_type": "stream",
     "text": [
      "+---+-----+\n",
      "|age|count|\n",
      "+---+-----+\n",
      "| 19|    4|\n",
      "| 20|    3|\n",
      "| 21|    7|\n",
      "| 22|    9|\n",
      "| 23|   20|\n",
      "+---+-----+\n",
      "only showing top 5 rows\n",
      "\n"
     ]
    }
   ],
   "source": [
    "(pyspark.select('age')\n",
    "                .groupBy('age')\n",
    "                .agg(\n",
    "                    count('age').alias('count'))\n",
    "                .orderBy(col('age').asc())\n",
    "                .show(n=5)\n",
    ")"
   ]
  },
  {
   "cell_type": "markdown",
   "id": "213ab549",
   "metadata": {},
   "source": [
    "# Task 6\n",
    "\n",
    "It is necessary to display the age and number of employees who are over 30 years old. Sort the resulting table by the age column in ascending order.\n",
    "\n",
    "Note\n",
    "\n",
    "Output the first 5 rows, copy the output and paste it into the response (include \"only showing top 5 rows\" in the response);\n",
    "\n",
    "The resulting table should contain the following columns:\n",
    "```Python\n",
    "+---+-----+\n",
    "|age|count|\n",
    "+---+-----+\n",
    "```"
   ]
  },
  {
   "cell_type": "code",
   "execution_count": 39,
   "id": "331d52c8",
   "metadata": {},
   "outputs": [
    {
     "name": "stdout",
     "output_type": "stream",
     "text": [
      "+---+-----+\n",
      "|age|count|\n",
      "+---+-----+\n",
      "| 31|  199|\n",
      "| 32|  224|\n",
      "| 33|  186|\n",
      "| 34|  231|\n",
      "| 35|  180|\n",
      "+---+-----+\n",
      "only showing top 5 rows\n",
      "\n"
     ]
    }
   ],
   "source": [
    "# Solution\n",
    "(pyspark\n",
    "    .filter(pyspark.age > 30)\n",
    "    .select('age')\n",
    "    .groupBy('age')\n",
    "    .agg(\n",
    "        count('age').alias('count'))\n",
    "    .orderBy(\n",
    "        col('age').asc())\n",
    "    .show(n=5)\n",
    ")"
   ]
  },
  {
   "cell_type": "markdown",
   "id": "d15a22fd",
   "metadata": {},
   "source": [
    "# Task 7\n",
    "\n",
    "Find the number of works published since 1951, whose authors include \"Sergei Rachmaninoff\".\n",
    "\n",
    "**Note**\n",
    "\n",
    "The column about the time of release of works, use the one that contains more complete data.\n",
    "\n",
    "Code to initialize DataFrame:\n",
    "```Python\n",
    "schema = StructType(\n",
    "    [\n",
    "        StructField(\"id\", StringType(), nullable=True),\n",
    "        StructField(\"name\", StringType(), True),\n",
    "        StructField(\"artists\", StringType(), True),\n",
    "        StructField(\"duration_ms\", DoubleType(), True),\n",
    "        StructField(\"release_date\", DateType(), True),\n",
    "        StructField(\"year\", IntegerType(), True),\n",
    "        StructField(\"acousticness\", StringType(), True),\n",
    "        StructField(\"danceability\", StringType(), True),\n",
    "        StructField(\"energy\", StringType(), True),\n",
    "        StructField(\"instrumentalness\", StringType(), True),\n",
    "        StructField(\"liveness\", StringType(), True),\n",
    "        StructField(\"loudness\", StringType(), True),\n",
    "        StructField(\"speechiness\", StringType(), True),\n",
    "        StructField(\"tempo\", StringType(), True),\n",
    "        StructField(\"valence\", StringType(), True),\n",
    "        StructField(\"mode\", StringType(), True),\n",
    "        StructField(\"key\", StringType(), True),\n",
    "        StructField(\"popularity\", DoubleType(), True),\n",
    "        StructField(\"explicit\", StringType(), True),\n",
    "    ]\n",
    ")\n",
    "\n",
    "spotify = (\n",
    "    spark.read.option(\"delimiter\", \",\")\n",
    "    .option(\"header\", True)\n",
    "    .option(\"escape\", '\"')\n",
    "    .schema(schema)\n",
    "    .csv(\"data.csv\")\n",
    ")\n",
    "```"
   ]
  },
  {
   "cell_type": "code",
   "execution_count": 40,
   "id": "06a498e1",
   "metadata": {},
   "outputs": [],
   "source": [
    "# Code to initialize DataFrame:\n",
    "schema = StructType(\n",
    "    [\n",
    "        StructField(\"id\", StringType(), nullable=True),\n",
    "        StructField(\"name\", StringType(), True),\n",
    "        StructField(\"artists\", StringType(), True),\n",
    "        StructField(\"duration_ms\", DoubleType(), True),\n",
    "        StructField(\"release_date\", DateType(), True),\n",
    "        StructField(\"year\", IntegerType(), True),\n",
    "        StructField(\"acousticness\", StringType(), True),\n",
    "        StructField(\"danceability\", StringType(), True),\n",
    "        StructField(\"energy\", StringType(), True),\n",
    "        StructField(\"instrumentalness\", StringType(), True),\n",
    "        StructField(\"liveness\", StringType(), True),\n",
    "        StructField(\"loudness\", StringType(), True),\n",
    "        StructField(\"speechiness\", StringType(), True),\n",
    "        StructField(\"tempo\", StringType(), True),\n",
    "        StructField(\"valence\", StringType(), True),\n",
    "        StructField(\"mode\", StringType(), True),\n",
    "        StructField(\"key\", StringType(), True),\n",
    "        StructField(\"popularity\", DoubleType(), True),\n",
    "        StructField(\"explicit\", StringType(), True),\n",
    "    ]\n",
    ")\n",
    "\n",
    "spotify = (\n",
    "    spark.read.option(\"delimiter\", \",\")\n",
    "    .option(\"header\", True)\n",
    "    .option(\"escape\", '\"')\n",
    "    .schema(schema)\n",
    "    .csv(\"data.csv\")\n",
    ")"
   ]
  },
  {
   "cell_type": "code",
   "execution_count": 41,
   "id": "f601a18c",
   "metadata": {},
   "outputs": [
    {
     "data": {
      "text/plain": [
       "46"
      ]
     },
     "execution_count": 41,
     "metadata": {},
     "output_type": "execute_result"
    }
   ],
   "source": [
    "# Solution\n",
    "(spotify\n",
    "    .filter(spotify.year >= 1951)\n",
    "    .filter(col('artists')\n",
    "           .like('%Sergei Rachmaninoff%'))\n",
    "    .count()\n",
    ")    "
   ]
  }
 ],
 "metadata": {
  "kernelspec": {
   "display_name": "Python 3 (ipykernel)",
   "language": "python",
   "name": "python3"
  },
  "language_info": {
   "codemirror_mode": {
    "name": "ipython",
    "version": 3
   },
   "file_extension": ".py",
   "mimetype": "text/x-python",
   "name": "python",
   "nbconvert_exporter": "python",
   "pygments_lexer": "ipython3",
   "version": "3.11.4"
  }
 },
 "nbformat": 4,
 "nbformat_minor": 5
}
