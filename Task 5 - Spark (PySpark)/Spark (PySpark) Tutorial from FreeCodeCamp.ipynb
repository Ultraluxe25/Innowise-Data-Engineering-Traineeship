{
 "cells": [
  {
   "cell_type": "code",
   "execution_count": 1,
   "id": "9e49979a",
   "metadata": {},
   "outputs": [],
   "source": [
    "# To use PySpark from Jupyter Notebook\n",
    "import findspark\n",
    "findspark.init()"
   ]
  },
  {
   "cell_type": "markdown",
   "id": "d84d69e6",
   "metadata": {},
   "source": [
    "![](https://i.ytimg.com/vi/_C8kWso4ne4/hqdefault.jpg?sqp=-oaymwEjCNACELwBSFryq4qpAxUIARUAAAAAGAElAADIQj0AgKJDeAE=&rs=AOn4CLCddYd_I3xvvPYM4k98MjdyMdVDUw)"
   ]
  },
  {
   "cell_type": "markdown",
   "id": "9b00bb40",
   "metadata": {},
   "source": [
    "# <span style='color: orange'>PySpark</span> is inteface (API) for Apache Spark in python"
   ]
  },
  {
   "cell_type": "code",
   "execution_count": 2,
   "id": "8380fbb7",
   "metadata": {},
   "outputs": [],
   "source": [
    "import pyspark\n",
    "import pandas as pd"
   ]
  },
  {
   "cell_type": "code",
   "execution_count": 3,
   "id": "5ef4305e",
   "metadata": {},
   "outputs": [
    {
     "data": {
      "text/html": [
       "<div>\n",
       "<style scoped>\n",
       "    .dataframe tbody tr th:only-of-type {\n",
       "        vertical-align: middle;\n",
       "    }\n",
       "\n",
       "    .dataframe tbody tr th {\n",
       "        vertical-align: top;\n",
       "    }\n",
       "\n",
       "    .dataframe thead th {\n",
       "        text-align: right;\n",
       "    }\n",
       "</style>\n",
       "<table border=\"1\" class=\"dataframe\">\n",
       "  <thead>\n",
       "    <tr style=\"text-align: right;\">\n",
       "      <th></th>\n",
       "      <th>Unnamed: 0</th>\n",
       "      <th>work_year</th>\n",
       "      <th>experience_level</th>\n",
       "      <th>employment_type</th>\n",
       "      <th>job_title</th>\n",
       "      <th>salary</th>\n",
       "      <th>salary_currency</th>\n",
       "      <th>salary_in_usd</th>\n",
       "      <th>employee_residence</th>\n",
       "      <th>remote_ratio</th>\n",
       "      <th>company_location</th>\n",
       "      <th>company_size</th>\n",
       "    </tr>\n",
       "  </thead>\n",
       "  <tbody>\n",
       "    <tr>\n",
       "      <th>0</th>\n",
       "      <td>0</td>\n",
       "      <td>2020</td>\n",
       "      <td>MI</td>\n",
       "      <td>FT</td>\n",
       "      <td>Data Scientist</td>\n",
       "      <td>70000</td>\n",
       "      <td>EUR</td>\n",
       "      <td>79833</td>\n",
       "      <td>DE</td>\n",
       "      <td>0</td>\n",
       "      <td>DE</td>\n",
       "      <td>L</td>\n",
       "    </tr>\n",
       "    <tr>\n",
       "      <th>1</th>\n",
       "      <td>1</td>\n",
       "      <td>2020</td>\n",
       "      <td>SE</td>\n",
       "      <td>FT</td>\n",
       "      <td>Machine Learning Scientist</td>\n",
       "      <td>260000</td>\n",
       "      <td>USD</td>\n",
       "      <td>260000</td>\n",
       "      <td>JP</td>\n",
       "      <td>0</td>\n",
       "      <td>JP</td>\n",
       "      <td>S</td>\n",
       "    </tr>\n",
       "    <tr>\n",
       "      <th>2</th>\n",
       "      <td>2</td>\n",
       "      <td>2020</td>\n",
       "      <td>SE</td>\n",
       "      <td>FT</td>\n",
       "      <td>Big Data Engineer</td>\n",
       "      <td>85000</td>\n",
       "      <td>GBP</td>\n",
       "      <td>109024</td>\n",
       "      <td>GB</td>\n",
       "      <td>50</td>\n",
       "      <td>GB</td>\n",
       "      <td>M</td>\n",
       "    </tr>\n",
       "    <tr>\n",
       "      <th>3</th>\n",
       "      <td>3</td>\n",
       "      <td>2020</td>\n",
       "      <td>MI</td>\n",
       "      <td>FT</td>\n",
       "      <td>Product Data Analyst</td>\n",
       "      <td>20000</td>\n",
       "      <td>USD</td>\n",
       "      <td>20000</td>\n",
       "      <td>HN</td>\n",
       "      <td>0</td>\n",
       "      <td>HN</td>\n",
       "      <td>S</td>\n",
       "    </tr>\n",
       "    <tr>\n",
       "      <th>4</th>\n",
       "      <td>4</td>\n",
       "      <td>2020</td>\n",
       "      <td>SE</td>\n",
       "      <td>FT</td>\n",
       "      <td>Machine Learning Engineer</td>\n",
       "      <td>150000</td>\n",
       "      <td>USD</td>\n",
       "      <td>150000</td>\n",
       "      <td>US</td>\n",
       "      <td>50</td>\n",
       "      <td>US</td>\n",
       "      <td>L</td>\n",
       "    </tr>\n",
       "  </tbody>\n",
       "</table>\n",
       "</div>"
      ],
      "text/plain": [
       "   Unnamed: 0  work_year experience_level employment_type  \\\n",
       "0           0       2020               MI              FT   \n",
       "1           1       2020               SE              FT   \n",
       "2           2       2020               SE              FT   \n",
       "3           3       2020               MI              FT   \n",
       "4           4       2020               SE              FT   \n",
       "\n",
       "                    job_title  salary salary_currency  salary_in_usd  \\\n",
       "0              Data Scientist   70000             EUR          79833   \n",
       "1  Machine Learning Scientist  260000             USD         260000   \n",
       "2           Big Data Engineer   85000             GBP         109024   \n",
       "3        Product Data Analyst   20000             USD          20000   \n",
       "4   Machine Learning Engineer  150000             USD         150000   \n",
       "\n",
       "  employee_residence  remote_ratio company_location company_size  \n",
       "0                 DE             0               DE            L  \n",
       "1                 JP             0               JP            S  \n",
       "2                 GB            50               GB            M  \n",
       "3                 HN             0               HN            S  \n",
       "4                 US            50               US            L  "
      ]
     },
     "execution_count": 3,
     "metadata": {},
     "output_type": "execute_result"
    }
   ],
   "source": [
    "data = pd.read_csv('ds_salaries.csv')\n",
    "data.head()"
   ]
  },
  {
   "cell_type": "code",
   "execution_count": 4,
   "id": "033d8841",
   "metadata": {},
   "outputs": [
    {
     "data": {
      "text/html": [
       "\n",
       "            <div>\n",
       "                <p><b>SparkSession - in-memory</b></p>\n",
       "                \n",
       "        <div>\n",
       "            <p><b>SparkContext</b></p>\n",
       "\n",
       "            <p><a href=\"http://DESKTOP-F02EC7O:4040\">Spark UI</a></p>\n",
       "\n",
       "            <dl>\n",
       "              <dt>Version</dt>\n",
       "                <dd><code>v3.1.3</code></dd>\n",
       "              <dt>Master</dt>\n",
       "                <dd><code>local[*]</code></dd>\n",
       "              <dt>AppName</dt>\n",
       "                <dd><code>Practise</code></dd>\n",
       "            </dl>\n",
       "        </div>\n",
       "        \n",
       "            </div>\n",
       "        "
      ],
      "text/plain": [
       "<pyspark.sql.session.SparkSession at 0x2c511342c10>"
      ]
     },
     "execution_count": 4,
     "metadata": {},
     "output_type": "execute_result"
    }
   ],
   "source": [
    "# Create PySpark session\n",
    "from pyspark.sql import SparkSession\n",
    "\n",
    "# getOrCreate() returns an already existing SparkSession; if it doesn't exist, a new SparkSession is created.\n",
    "spark = SparkSession.builder.appName('Practise').getOrCreate()\n",
    "spark"
   ]
  },
  {
   "cell_type": "markdown",
   "id": "aec592aa",
   "metadata": {},
   "source": [
    "# [pyspark.sql.SparkSession](https://spark.apache.org/docs/2.4.0/api/python/pyspark.sql.html#pyspark.sql.SparkSession)"
   ]
  },
  {
   "cell_type": "code",
   "execution_count": 5,
   "id": "897bb529",
   "metadata": {},
   "outputs": [
    {
     "data": {
      "text/plain": [
       "DataFrame[_c0: string, _c1: string, _c2: string, _c3: string, _c4: string, _c5: string, _c6: string, _c7: string, _c8: string, _c9: string, _c10: string, _c11: string]"
      ]
     },
     "execution_count": 5,
     "metadata": {},
     "output_type": "execute_result"
    }
   ],
   "source": [
    "# Read dataset\n",
    "data = spark.read.csv('ds_salaries.csv')\n",
    "data"
   ]
  },
  {
   "cell_type": "code",
   "execution_count": 6,
   "id": "d8e4527b",
   "metadata": {},
   "outputs": [
    {
     "name": "stdout",
     "output_type": "stream",
     "text": [
      "+---+---------+----------------+---------------+--------------------+--------+---------------+-------------+------------------+------------+----------------+------------+\n",
      "|_c0|work_year|experience_level|employment_type|           job_title|  salary|salary_currency|salary_in_usd|employee_residence|remote_ratio|company_location|company_size|\n",
      "+---+---------+----------------+---------------+--------------------+--------+---------------+-------------+------------------+------------+----------------+------------+\n",
      "|  0|     2020|              MI|             FT|      Data Scientist|   70000|            EUR|        79833|                DE|           0|              DE|           L|\n",
      "|  1|     2020|              SE|             FT|Machine Learning ...|  260000|            USD|       260000|                JP|           0|              JP|           S|\n",
      "|  2|     2020|              SE|             FT|   Big Data Engineer|   85000|            GBP|       109024|                GB|          50|              GB|           M|\n",
      "|  3|     2020|              MI|             FT|Product Data Analyst|   20000|            USD|        20000|                HN|           0|              HN|           S|\n",
      "|  4|     2020|              SE|             FT|Machine Learning ...|  150000|            USD|       150000|                US|          50|              US|           L|\n",
      "|  5|     2020|              EN|             FT|        Data Analyst|   72000|            USD|        72000|                US|         100|              US|           L|\n",
      "|  6|     2020|              SE|             FT| Lead Data Scientist|  190000|            USD|       190000|                US|         100|              US|           S|\n",
      "|  7|     2020|              MI|             FT|      Data Scientist|11000000|            HUF|        35735|                HU|          50|              HU|           L|\n",
      "|  8|     2020|              MI|             FT|Business Data Ana...|  135000|            USD|       135000|                US|         100|              US|           L|\n",
      "|  9|     2020|              SE|             FT|  Lead Data Engineer|  125000|            USD|       125000|                NZ|          50|              NZ|           S|\n",
      "| 10|     2020|              EN|             FT|      Data Scientist|   45000|            EUR|        51321|                FR|           0|              FR|           S|\n",
      "| 11|     2020|              MI|             FT|      Data Scientist| 3000000|            INR|        40481|                IN|           0|              IN|           L|\n",
      "| 12|     2020|              EN|             FT|      Data Scientist|   35000|            EUR|        39916|                FR|           0|              FR|           M|\n",
      "| 13|     2020|              MI|             FT|   Lead Data Analyst|   87000|            USD|        87000|                US|         100|              US|           L|\n",
      "| 14|     2020|              MI|             FT|        Data Analyst|   85000|            USD|        85000|                US|         100|              US|           L|\n",
      "| 15|     2020|              MI|             FT|        Data Analyst|    8000|            USD|         8000|                PK|          50|              PK|           L|\n",
      "| 16|     2020|              EN|             FT|       Data Engineer| 4450000|            JPY|        41689|                JP|         100|              JP|           S|\n",
      "| 17|     2020|              SE|             FT|   Big Data Engineer|  100000|            EUR|       114047|                PL|         100|              GB|           S|\n",
      "| 18|     2020|              EN|             FT|Data Science Cons...|  423000|            INR|         5707|                IN|          50|              IN|           M|\n",
      "| 19|     2020|              MI|             FT|  Lead Data Engineer|   56000|            USD|        56000|                PT|         100|              US|           M|\n",
      "+---+---------+----------------+---------------+--------------------+--------+---------------+-------------+------------------+------------+----------------+------------+\n",
      "only showing top 20 rows\n",
      "\n"
     ]
    }
   ],
   "source": [
    "# Let's set correct header\n",
    "data = spark.read.option('header', 'true').csv('ds_salaries.csv')\n",
    "data.show()"
   ]
  },
  {
   "cell_type": "code",
   "execution_count": 7,
   "id": "dcb50454",
   "metadata": {},
   "outputs": [
    {
     "data": {
      "text/plain": [
       "pyspark.sql.dataframe.DataFrame"
      ]
     },
     "execution_count": 7,
     "metadata": {},
     "output_type": "execute_result"
    }
   ],
   "source": [
    "type(data)"
   ]
  },
  {
   "cell_type": "code",
   "execution_count": 8,
   "id": "e36f8b66",
   "metadata": {},
   "outputs": [
    {
     "data": {
      "text/plain": [
       "[Row(_c0='0', work_year='2020', experience_level='MI', employment_type='FT', job_title='Data Scientist', salary='70000', salary_currency='EUR', salary_in_usd='79833', employee_residence='DE', remote_ratio='0', company_location='DE', company_size='L')]"
      ]
     },
     "execution_count": 8,
     "metadata": {},
     "output_type": "execute_result"
    }
   ],
   "source": [
    "# First observation\n",
    "data.head(1)"
   ]
  },
  {
   "cell_type": "code",
   "execution_count": 9,
   "id": "4ab05631",
   "metadata": {},
   "outputs": [
    {
     "name": "stdout",
     "output_type": "stream",
     "text": [
      "root\n",
      " |-- _c0: string (nullable = true)\n",
      " |-- work_year: string (nullable = true)\n",
      " |-- experience_level: string (nullable = true)\n",
      " |-- employment_type: string (nullable = true)\n",
      " |-- job_title: string (nullable = true)\n",
      " |-- salary: string (nullable = true)\n",
      " |-- salary_currency: string (nullable = true)\n",
      " |-- salary_in_usd: string (nullable = true)\n",
      " |-- employee_residence: string (nullable = true)\n",
      " |-- remote_ratio: string (nullable = true)\n",
      " |-- company_location: string (nullable = true)\n",
      " |-- company_size: string (nullable = true)\n",
      "\n"
     ]
    }
   ],
   "source": [
    "# Prints out the schema in the tree format\n",
    "data.printSchema()"
   ]
  },
  {
   "cell_type": "markdown",
   "id": "a5ce6ea4",
   "metadata": {},
   "source": [
    "# Part 2"
   ]
  },
  {
   "cell_type": "code",
   "execution_count": 10,
   "id": "60e7b534",
   "metadata": {},
   "outputs": [
    {
     "data": {
      "text/html": [
       "<div>\n",
       "<style scoped>\n",
       "    .dataframe tbody tr th:only-of-type {\n",
       "        vertical-align: middle;\n",
       "    }\n",
       "\n",
       "    .dataframe tbody tr th {\n",
       "        vertical-align: top;\n",
       "    }\n",
       "\n",
       "    .dataframe thead th {\n",
       "        text-align: right;\n",
       "    }\n",
       "</style>\n",
       "<table border=\"1\" class=\"dataframe\">\n",
       "  <thead>\n",
       "    <tr style=\"text-align: right;\">\n",
       "      <th></th>\n",
       "      <th>Name</th>\n",
       "      <th>age</th>\n",
       "      <th>Experience</th>\n",
       "    </tr>\n",
       "  </thead>\n",
       "  <tbody>\n",
       "    <tr>\n",
       "      <th>0</th>\n",
       "      <td>Krish</td>\n",
       "      <td>31</td>\n",
       "      <td>10</td>\n",
       "    </tr>\n",
       "    <tr>\n",
       "      <th>1</th>\n",
       "      <td>Sudhanshu</td>\n",
       "      <td>30</td>\n",
       "      <td>8</td>\n",
       "    </tr>\n",
       "    <tr>\n",
       "      <th>2</th>\n",
       "      <td>Sunny</td>\n",
       "      <td>29</td>\n",
       "      <td>4</td>\n",
       "    </tr>\n",
       "  </tbody>\n",
       "</table>\n",
       "</div>"
      ],
      "text/plain": [
       "        Name  age  Experience\n",
       "0      Krish   31          10\n",
       "1  Sudhanshu   30           8\n",
       "2      Sunny   29           4"
      ]
     },
     "execution_count": 10,
     "metadata": {},
     "output_type": "execute_result"
    }
   ],
   "source": [
    "# Creating test dataframe\n",
    "df = pd.DataFrame({\n",
    "    'Name': ['Krish', 'Sudhanshu', 'Sunny'],\n",
    "    'age': [31, 30, 29],\n",
    "    'Experience': [10, 8, 4]\n",
    "})\n",
    "df"
   ]
  },
  {
   "cell_type": "code",
   "execution_count": 11,
   "id": "62c3c892",
   "metadata": {},
   "outputs": [],
   "source": [
    "from pyspark.sql import SparkSession"
   ]
  },
  {
   "cell_type": "code",
   "execution_count": 12,
   "id": "b52d5923",
   "metadata": {},
   "outputs": [
    {
     "data": {
      "text/html": [
       "\n",
       "            <div>\n",
       "                <p><b>SparkSession - in-memory</b></p>\n",
       "                \n",
       "        <div>\n",
       "            <p><b>SparkContext</b></p>\n",
       "\n",
       "            <p><a href=\"http://DESKTOP-F02EC7O:4040\">Spark UI</a></p>\n",
       "\n",
       "            <dl>\n",
       "              <dt>Version</dt>\n",
       "                <dd><code>v3.1.3</code></dd>\n",
       "              <dt>Master</dt>\n",
       "                <dd><code>local[*]</code></dd>\n",
       "              <dt>AppName</dt>\n",
       "                <dd><code>Practise</code></dd>\n",
       "            </dl>\n",
       "        </div>\n",
       "        \n",
       "            </div>\n",
       "        "
      ],
      "text/plain": [
       "<pyspark.sql.session.SparkSession at 0x2c511342c10>"
      ]
     },
     "execution_count": 12,
     "metadata": {},
     "output_type": "execute_result"
    }
   ],
   "source": [
    "# Start session\n",
    "spark = SparkSession.builder.appName('Dataframe').getOrCreate()\n",
    "spark  # We got one master node (local computer)"
   ]
  },
  {
   "cell_type": "code",
   "execution_count": 13,
   "id": "99d27d4a",
   "metadata": {},
   "outputs": [
    {
     "name": "stdout",
     "output_type": "stream",
     "text": [
      "+---+---------+---+----------+\n",
      "|_c0|     Name|age|Experience|\n",
      "+---+---------+---+----------+\n",
      "|  0|    Krish| 31|        10|\n",
      "|  1|Sudhanshu| 30|         8|\n",
      "|  2|    Sunny| 29|         4|\n",
      "+---+---------+---+----------+\n",
      "\n"
     ]
    }
   ],
   "source": [
    "# Save our dataframe and read it using PySpark\n",
    "df.to_csv('df.csv')\n",
    "\n",
    "df_pyspark = spark.read.option('header', 'true').csv('df.csv')\n",
    "df_pyspark.show()"
   ]
  },
  {
   "cell_type": "code",
   "execution_count": 14,
   "id": "798f9ed0",
   "metadata": {},
   "outputs": [
    {
     "name": "stdout",
     "output_type": "stream",
     "text": [
      "root\n",
      " |-- _c0: string (nullable = true)\n",
      " |-- Name: string (nullable = true)\n",
      " |-- age: string (nullable = true)\n",
      " |-- Experience: string (nullable = true)\n",
      "\n"
     ]
    }
   ],
   "source": [
    "# Print Schema\n",
    "df_pyspark.printSchema()"
   ]
  },
  {
   "cell_type": "markdown",
   "id": "b2efcd70",
   "metadata": {},
   "source": [
    "By default type of values is string"
   ]
  },
  {
   "cell_type": "code",
   "execution_count": 15,
   "id": "dd449ad6",
   "metadata": {},
   "outputs": [
    {
     "name": "stdout",
     "output_type": "stream",
     "text": [
      "root\n",
      " |-- _c0: integer (nullable = true)\n",
      " |-- Name: string (nullable = true)\n",
      " |-- age: integer (nullable = true)\n",
      " |-- Experience: integer (nullable = true)\n",
      "\n"
     ]
    }
   ],
   "source": [
    "# Let's get right types (inferSchema=True)\n",
    "pyspark = spark.read.option('header', 'true').csv('df.csv',\n",
    "                                                 inferSchema=True)\n",
    "pyspark.printSchema()"
   ]
  },
  {
   "cell_type": "code",
   "execution_count": 16,
   "id": "c8dbf9f7",
   "metadata": {},
   "outputs": [
    {
     "data": {
      "text/plain": [
       "['_c0', 'Name', 'age', 'Experience']"
      ]
     },
     "execution_count": 16,
     "metadata": {},
     "output_type": "execute_result"
    }
   ],
   "source": [
    "pyspark.columns"
   ]
  },
  {
   "cell_type": "code",
   "execution_count": 17,
   "id": "338baf85",
   "metadata": {},
   "outputs": [
    {
     "data": {
      "text/plain": [
       "[Row(_c0=0, Name='Krish', age=31, Experience=10),\n",
       " Row(_c0=1, Name='Sudhanshu', age=30, Experience=8),\n",
       " Row(_c0=2, Name='Sunny', age=29, Experience=4)]"
      ]
     },
     "execution_count": 17,
     "metadata": {},
     "output_type": "execute_result"
    }
   ],
   "source": [
    "pyspark.head(3)"
   ]
  },
  {
   "cell_type": "markdown",
   "id": "45d1ffcb",
   "metadata": {},
   "source": [
    "Let's get data from column 'Name'"
   ]
  },
  {
   "cell_type": "code",
   "execution_count": 18,
   "id": "c71d54f1",
   "metadata": {},
   "outputs": [
    {
     "data": {
      "text/plain": [
       "DataFrame[Name: string]"
      ]
     },
     "execution_count": 18,
     "metadata": {},
     "output_type": "execute_result"
    }
   ],
   "source": [
    "pyspark.select('Name')"
   ]
  },
  {
   "cell_type": "code",
   "execution_count": 19,
   "id": "9a0e065a",
   "metadata": {},
   "outputs": [
    {
     "name": "stdout",
     "output_type": "stream",
     "text": [
      "+---------+\n",
      "|     Name|\n",
      "+---------+\n",
      "|    Krish|\n",
      "|Sudhanshu|\n",
      "|    Sunny|\n",
      "+---------+\n",
      "\n"
     ]
    }
   ],
   "source": [
    "# To see entire column\n",
    "pyspark.select('Name').show()  # type: pyspark.sql.dataframe.DataFrame"
   ]
  },
  {
   "cell_type": "code",
   "execution_count": 20,
   "id": "b967beb6",
   "metadata": {},
   "outputs": [
    {
     "name": "stdout",
     "output_type": "stream",
     "text": [
      "+---------+---+\n",
      "|     Name|age|\n",
      "+---------+---+\n",
      "|    Krish| 31|\n",
      "|Sudhanshu| 30|\n",
      "|    Sunny| 29|\n",
      "+---------+---+\n",
      "\n"
     ]
    }
   ],
   "source": [
    "# To see multiple columns\n",
    "pyspark.select(['Name', 'age']).show()  # slices aren't working here"
   ]
  },
  {
   "cell_type": "code",
   "execution_count": 21,
   "id": "ff0d6b78",
   "metadata": {},
   "outputs": [
    {
     "data": {
      "text/plain": [
       "Column<'Name'>"
      ]
     },
     "execution_count": 21,
     "metadata": {},
     "output_type": "execute_result"
    }
   ],
   "source": [
    "# Without select we can't obtain data\n",
    "pyspark.Name"
   ]
  },
  {
   "cell_type": "code",
   "execution_count": 22,
   "id": "6da7eb60",
   "metadata": {},
   "outputs": [
    {
     "data": {
      "text/plain": [
       "[('_c0', 'int'), ('Name', 'string'), ('age', 'int'), ('Experience', 'int')]"
      ]
     },
     "execution_count": 22,
     "metadata": {},
     "output_type": "execute_result"
    }
   ],
   "source": [
    "# Let's see data types\n",
    "pyspark.dtypes"
   ]
  },
  {
   "cell_type": "code",
   "execution_count": 23,
   "id": "250b46bf",
   "metadata": {},
   "outputs": [
    {
     "name": "stdout",
     "output_type": "stream",
     "text": [
      "+-------+---+-----+----+-----------------+\n",
      "|summary|_c0| Name| age|       Experience|\n",
      "+-------+---+-----+----+-----------------+\n",
      "|  count|  3|    3|   3|                3|\n",
      "|   mean|1.0| null|30.0|7.333333333333333|\n",
      "| stddev|1.0| null| 1.0|3.055050463303893|\n",
      "|    min|  0|Krish|  29|                4|\n",
      "|    max|  2|Sunny|  31|               10|\n",
      "+-------+---+-----+----+-----------------+\n",
      "\n"
     ]
    }
   ],
   "source": [
    "# Describe attribute (like in Pandas)\n",
    "pyspark.describe().show()"
   ]
  },
  {
   "cell_type": "code",
   "execution_count": 24,
   "id": "247214e4",
   "metadata": {},
   "outputs": [
    {
     "name": "stdout",
     "output_type": "stream",
     "text": [
      "+---+---------+---+----------+------------------------+\n",
      "|_c0|     Name|age|Experience|Experience After 2 years|\n",
      "+---+---------+---+----------+------------------------+\n",
      "|  0|    Krish| 31|        10|                      12|\n",
      "|  1|Sudhanshu| 30|         8|                      10|\n",
      "|  2|    Sunny| 29|         4|                       6|\n",
      "+---+---------+---+----------+------------------------+\n",
      "\n"
     ]
    }
   ],
   "source": [
    "# Add column in PySpark dataframe\n",
    "pyspark = pyspark.withColumn('Experience After 2 years', \n",
    "                   pyspark['Experience'] + 2)\n",
    "pyspark.show()"
   ]
  },
  {
   "cell_type": "markdown",
   "id": "260affc6",
   "metadata": {},
   "source": [
    "# [pyspark.sql.DataFrame.withColumn](https://spark.apache.org/docs/3.1.3/api/python/reference/api/pyspark.sql.DataFrame.withColumn.html)"
   ]
  },
  {
   "cell_type": "code",
   "execution_count": 25,
   "id": "6f55511c",
   "metadata": {},
   "outputs": [
    {
     "name": "stdout",
     "output_type": "stream",
     "text": [
      "+---+---------+---+----------+\n",
      "|_c0|     Name|age|Experience|\n",
      "+---+---------+---+----------+\n",
      "|  0|    Krish| 31|        10|\n",
      "|  1|Sudhanshu| 30|         8|\n",
      "|  2|    Sunny| 29|         4|\n",
      "+---+---------+---+----------+\n",
      "\n"
     ]
    }
   ],
   "source": [
    "# Drop column in PySpark\n",
    "pyspark = pyspark.drop('Experience After 2 years')\n",
    "pyspark.show()"
   ]
  },
  {
   "cell_type": "code",
   "execution_count": 26,
   "id": "4a7d1d3e",
   "metadata": {},
   "outputs": [
    {
     "name": "stdout",
     "output_type": "stream",
     "text": [
      "+---+---------+---+----------+\n",
      "|_c0| New name|age|Experience|\n",
      "+---+---------+---+----------+\n",
      "|  0|    Krish| 31|        10|\n",
      "|  1|Sudhanshu| 30|         8|\n",
      "|  2|    Sunny| 29|         4|\n",
      "+---+---------+---+----------+\n",
      "\n"
     ]
    }
   ],
   "source": [
    "# Rename column in PySpark (without save it)\n",
    "pyspark.withColumnRenamed('Name', 'New name').show()"
   ]
  },
  {
   "cell_type": "markdown",
   "id": "135448ac",
   "metadata": {},
   "source": [
    "# Part 3"
   ]
  },
  {
   "cell_type": "code",
   "execution_count": 48,
   "id": "3c6f93ba",
   "metadata": {},
   "outputs": [],
   "source": [
    "from pyspark.sql import SparkSession\n",
    "pyspark = SparkSession.builder.appName('FCC').getOrCreate()"
   ]
  },
  {
   "cell_type": "code",
   "execution_count": 77,
   "id": "8abeec3b",
   "metadata": {},
   "outputs": [],
   "source": [
    "# Created dataframe with some nan values\n",
    "import numpy as np\n",
    "\n",
    "job = pd.DataFrame({\n",
    "    'Name': ['Krish', 'Sudhanshi', 'Sunny', 'Paul', 'Harsha', 'Shubham', 'Mahesh', '', ''],\n",
    "    'Age': [31, 30, 29, 24, 21, 23, '', 34, 36],\n",
    "    'Experience': [10, 8, 4, 3, 1, 2, '', 10, ''],\n",
    "    'Salary': [30000, 25000, 20000, 20000, 15000, 18000, 40000, 38000, '']\n",
    "})\n",
    "job.replace('', np.nan, inplace=True)"
   ]
  },
  {
   "cell_type": "code",
   "execution_count": 78,
   "id": "dad84a04",
   "metadata": {},
   "outputs": [
    {
     "data": {
      "text/html": [
       "<div>\n",
       "<style scoped>\n",
       "    .dataframe tbody tr th:only-of-type {\n",
       "        vertical-align: middle;\n",
       "    }\n",
       "\n",
       "    .dataframe tbody tr th {\n",
       "        vertical-align: top;\n",
       "    }\n",
       "\n",
       "    .dataframe thead th {\n",
       "        text-align: right;\n",
       "    }\n",
       "</style>\n",
       "<table border=\"1\" class=\"dataframe\">\n",
       "  <thead>\n",
       "    <tr style=\"text-align: right;\">\n",
       "      <th></th>\n",
       "      <th>Name</th>\n",
       "      <th>Age</th>\n",
       "      <th>Experience</th>\n",
       "      <th>Salary</th>\n",
       "    </tr>\n",
       "  </thead>\n",
       "  <tbody>\n",
       "    <tr>\n",
       "      <th>0</th>\n",
       "      <td>Krish</td>\n",
       "      <td>31.0</td>\n",
       "      <td>10.0</td>\n",
       "      <td>30000.0</td>\n",
       "    </tr>\n",
       "    <tr>\n",
       "      <th>1</th>\n",
       "      <td>Sudhanshi</td>\n",
       "      <td>30.0</td>\n",
       "      <td>8.0</td>\n",
       "      <td>25000.0</td>\n",
       "    </tr>\n",
       "    <tr>\n",
       "      <th>2</th>\n",
       "      <td>Sunny</td>\n",
       "      <td>29.0</td>\n",
       "      <td>4.0</td>\n",
       "      <td>20000.0</td>\n",
       "    </tr>\n",
       "    <tr>\n",
       "      <th>3</th>\n",
       "      <td>Paul</td>\n",
       "      <td>24.0</td>\n",
       "      <td>3.0</td>\n",
       "      <td>20000.0</td>\n",
       "    </tr>\n",
       "    <tr>\n",
       "      <th>4</th>\n",
       "      <td>Harsha</td>\n",
       "      <td>21.0</td>\n",
       "      <td>1.0</td>\n",
       "      <td>15000.0</td>\n",
       "    </tr>\n",
       "    <tr>\n",
       "      <th>5</th>\n",
       "      <td>Shubham</td>\n",
       "      <td>23.0</td>\n",
       "      <td>2.0</td>\n",
       "      <td>18000.0</td>\n",
       "    </tr>\n",
       "    <tr>\n",
       "      <th>6</th>\n",
       "      <td>Mahesh</td>\n",
       "      <td>NaN</td>\n",
       "      <td>NaN</td>\n",
       "      <td>40000.0</td>\n",
       "    </tr>\n",
       "    <tr>\n",
       "      <th>7</th>\n",
       "      <td>NaN</td>\n",
       "      <td>34.0</td>\n",
       "      <td>10.0</td>\n",
       "      <td>38000.0</td>\n",
       "    </tr>\n",
       "    <tr>\n",
       "      <th>8</th>\n",
       "      <td>NaN</td>\n",
       "      <td>36.0</td>\n",
       "      <td>NaN</td>\n",
       "      <td>NaN</td>\n",
       "    </tr>\n",
       "  </tbody>\n",
       "</table>\n",
       "</div>"
      ],
      "text/plain": [
       "        Name   Age  Experience   Salary\n",
       "0      Krish  31.0        10.0  30000.0\n",
       "1  Sudhanshi  30.0         8.0  25000.0\n",
       "2      Sunny  29.0         4.0  20000.0\n",
       "3       Paul  24.0         3.0  20000.0\n",
       "4     Harsha  21.0         1.0  15000.0\n",
       "5    Shubham  23.0         2.0  18000.0\n",
       "6     Mahesh   NaN         NaN  40000.0\n",
       "7        NaN  34.0        10.0  38000.0\n",
       "8        NaN  36.0         NaN      NaN"
      ]
     },
     "execution_count": 78,
     "metadata": {},
     "output_type": "execute_result"
    }
   ],
   "source": [
    "# let's see dataframe\n",
    "job"
   ]
  },
  {
   "cell_type": "code",
   "execution_count": 79,
   "id": "13bf2c54",
   "metadata": {},
   "outputs": [],
   "source": [
    "# Save to csv\n",
    "job.to_csv('Job salary.csv')"
   ]
  },
  {
   "cell_type": "markdown",
   "id": "5fed1d9c",
   "metadata": {},
   "source": [
    "# 34:00"
   ]
  },
  {
   "cell_type": "code",
   "execution_count": 80,
   "id": "666fdc8d",
   "metadata": {},
   "outputs": [
    {
     "name": "stdout",
     "output_type": "stream",
     "text": [
      "+---+---------+----+----------+-------+\n",
      "|_c0|     Name| Age|Experience| Salary|\n",
      "+---+---------+----+----------+-------+\n",
      "|  0|    Krish|31.0|      10.0|30000.0|\n",
      "|  1|Sudhanshi|30.0|       8.0|25000.0|\n",
      "|  2|    Sunny|29.0|       4.0|20000.0|\n",
      "|  3|     Paul|24.0|       3.0|20000.0|\n",
      "|  4|   Harsha|21.0|       1.0|15000.0|\n",
      "|  5|  Shubham|23.0|       2.0|18000.0|\n",
      "|  6|   Mahesh|null|      null|40000.0|\n",
      "|  7|      NaN|34.0|      10.0|38000.0|\n",
      "|  8|     null|36.0|      null|   null|\n",
      "+---+---------+----+----------+-------+\n",
      "\n"
     ]
    }
   ],
   "source": [
    "job_spark = pyspark.read.option('header', 'true').csv('Job salary.csv', inferSchema=True)\n",
    "job_spark.show()"
   ]
  },
  {
   "cell_type": "code",
   "execution_count": 55,
   "id": "8924a74e",
   "metadata": {},
   "outputs": [
    {
     "name": "stdout",
     "output_type": "stream",
     "text": [
      "root\n",
      " |-- _c0: integer (nullable = true)\n",
      " |-- Name: string (nullable = true)\n",
      " |-- Age: double (nullable = true)\n",
      " |-- Experience: double (nullable = true)\n",
      " |-- Salary: double (nullable = true)\n",
      "\n"
     ]
    }
   ],
   "source": [
    "job_spark.printSchema()"
   ]
  },
  {
   "cell_type": "code",
   "execution_count": 56,
   "id": "430fc469",
   "metadata": {},
   "outputs": [
    {
     "name": "stdout",
     "output_type": "stream",
     "text": [
      "+---+----+----------+-------+\n",
      "|_c0| Age|Experience| Salary|\n",
      "+---+----+----------+-------+\n",
      "|  0|31.0|      10.0|30000.0|\n",
      "|  1|30.0|       8.0|25000.0|\n",
      "|  2|29.0|       4.0|20000.0|\n",
      "|  3|24.0|       3.0|20000.0|\n",
      "|  4|21.0|       1.0|15000.0|\n",
      "|  5|23.0|       2.0|18000.0|\n",
      "|  6|null|      null|40000.0|\n",
      "|  7|34.0|      10.0|38000.0|\n",
      "|  8|36.0|      null|   null|\n",
      "+---+----+----------+-------+\n",
      "\n"
     ]
    }
   ],
   "source": [
    "# Drop the columns\n",
    "job_spark.drop('Name').show()"
   ]
  },
  {
   "cell_type": "code",
   "execution_count": 57,
   "id": "3846deb1",
   "metadata": {},
   "outputs": [
    {
     "name": "stdout",
     "output_type": "stream",
     "text": [
      "+---+---------+----+----------+-------+\n",
      "|_c0|     Name| Age|Experience| Salary|\n",
      "+---+---------+----+----------+-------+\n",
      "|  0|    Krish|31.0|      10.0|30000.0|\n",
      "|  1|Sudhanshi|30.0|       8.0|25000.0|\n",
      "|  2|    Sunny|29.0|       4.0|20000.0|\n",
      "|  3|     Paul|24.0|       3.0|20000.0|\n",
      "|  4|   Harsha|21.0|       1.0|15000.0|\n",
      "|  5|  Shubham|23.0|       2.0|18000.0|\n",
      "|  7|      NaN|34.0|      10.0|38000.0|\n",
      "+---+---------+----+----------+-------+\n",
      "\n"
     ]
    }
   ],
   "source": [
    "# Drop rows with null values\n",
    "job_spark.na.drop().show()"
   ]
  },
  {
   "cell_type": "markdown",
   "id": "b91bf463",
   "metadata": {},
   "source": [
    "# [pyspark.sql.DataFrame.dropna](https://spark.apache.org/docs/3.1.2/api/python/reference/api/pyspark.sql.DataFrame.dropna.html)"
   ]
  },
  {
   "cell_type": "code",
   "execution_count": 68,
   "id": "5ede3fb0",
   "metadata": {},
   "outputs": [
    {
     "name": "stdout",
     "output_type": "stream",
     "text": [
      "+---+---------+----+----------+-------+\n",
      "|_c0|     Name| Age|Experience| Salary|\n",
      "+---+---------+----+----------+-------+\n",
      "|  0|    Krish|31.0|      10.0|30000.0|\n",
      "|  1|Sudhanshi|30.0|       8.0|25000.0|\n",
      "|  2|    Sunny|29.0|       4.0|20000.0|\n",
      "|  3|     Paul|24.0|       3.0|20000.0|\n",
      "|  4|   Harsha|21.0|       1.0|15000.0|\n",
      "|  5|  Shubham|23.0|       2.0|18000.0|\n",
      "|  6|   Mahesh|null|      null|40000.0|\n",
      "|  7|      NaN|34.0|      10.0|38000.0|\n",
      "+---+---------+----+----------+-------+\n",
      "\n"
     ]
    }
   ],
   "source": [
    "job_spark.na.drop(thresh=3).show()"
   ]
  },
  {
   "attachments": {
    "image.png": {
     "image/png": "[encoded data removed]"
    }
   },
   "cell_type": "markdown",
   "id": "ed1e815c",
   "metadata": {},
   "source": [
    "![image.png](attachment:image.png)"
   ]
  },
  {
   "cell_type": "code",
   "execution_count": 71,
   "id": "8d3d0ee3",
   "metadata": {},
   "outputs": [
    {
     "name": "stdout",
     "output_type": "stream",
     "text": [
      "+---+---------+----+----------+-------+\n",
      "|_c0|     Name| Age|Experience| Salary|\n",
      "+---+---------+----+----------+-------+\n",
      "|  0|    Krish|31.0|      10.0|30000.0|\n",
      "|  1|Sudhanshi|30.0|       8.0|25000.0|\n",
      "|  2|    Sunny|29.0|       4.0|20000.0|\n",
      "|  3|     Paul|24.0|       3.0|20000.0|\n",
      "|  4|   Harsha|21.0|       1.0|15000.0|\n",
      "|  5|  Shubham|23.0|       2.0|18000.0|\n",
      "|  7|      NaN|34.0|      10.0|38000.0|\n",
      "+---+---------+----+----------+-------+\n",
      "\n"
     ]
    }
   ],
   "source": [
    "job_spark.dropna(subset=['Experience']).show()"
   ]
  },
  {
   "cell_type": "code",
   "execution_count": 81,
   "id": "10dc3290",
   "metadata": {},
   "outputs": [
    {
     "name": "stdout",
     "output_type": "stream",
     "text": [
      "+---+---------+----+----------+-------+\n",
      "|_c0|     Name| Age|Experience| Salary|\n",
      "+---+---------+----+----------+-------+\n",
      "|  0|    Krish|31.0|      10.0|30000.0|\n",
      "|  1|Sudhanshi|30.0|       8.0|25000.0|\n",
      "|  2|    Sunny|29.0|       4.0|20000.0|\n",
      "|  3|     Paul|24.0|       3.0|20000.0|\n",
      "|  4|   Harsha|21.0|       1.0|15000.0|\n",
      "|  5|  Shubham|23.0|       2.0|18000.0|\n",
      "|  6|   Mahesh|null|      null|40000.0|\n",
      "|  7|      NaN|34.0|      10.0|38000.0|\n",
      "|  8|    Empty|36.0|      null|   null|\n",
      "+---+---------+----+----------+-------+\n",
      "\n"
     ]
    }
   ],
   "source": [
    "job_spark.na.fill(value='Empty').show()"
   ]
  },
  {
   "cell_type": "markdown",
   "id": "62f43ba5",
   "metadata": {},
   "source": [
    "# [pyspark.ml.feature.Imputer](https://spark.apache.org/docs/latest/api/python/reference/api/pyspark.ml.feature.Imputer.html#pyspark.ml.feature.Imputer.outputCols)"
   ]
  },
  {
   "cell_type": "code",
   "execution_count": 82,
   "id": "18879a3d",
   "metadata": {},
   "outputs": [],
   "source": [
    "salaries = pd.DataFrame({\n",
    "    'Name': ['Krish', 'Sudhanshi', 'Sunny', 'Paul', 'Harsha', 'Shubham'],\n",
    "    'Age': [31, 30, 29, 24, 21, 23],\n",
    "    'Experience': [10, 8, 4, 3, 1, 2],\n",
    "    'Salary': [30000, 25000, 20000, 20000, 15000, 18000]\n",
    "})\n",
    "salaries.to_csv('salaries.csv')"
   ]
  },
  {
   "cell_type": "code",
   "execution_count": 86,
   "id": "2c00f7f0",
   "metadata": {},
   "outputs": [
    {
     "name": "stdout",
     "output_type": "stream",
     "text": [
      "+---+---------+---+----------+------+\n",
      "|_c0|     Name|Age|Experience|Salary|\n",
      "+---+---------+---+----------+------+\n",
      "|  0|    Krish| 31|        10| 30000|\n",
      "|  1|Sudhanshi| 30|         8| 25000|\n",
      "|  2|    Sunny| 29|         4| 20000|\n",
      "|  3|     Paul| 24|         3| 20000|\n",
      "|  4|   Harsha| 21|         1| 15000|\n",
      "|  5|  Shubham| 23|         2| 18000|\n",
      "+---+---------+---+----------+------+\n",
      "\n"
     ]
    }
   ],
   "source": [
    "spark = pyspark.read.csv('salaries.csv', header=True, inferSchema=True)\n",
    "spark.show()"
   ]
  },
  {
   "cell_type": "code",
   "execution_count": 91,
   "id": "9aabee54",
   "metadata": {},
   "outputs": [
    {
     "name": "stdout",
     "output_type": "stream",
     "text": [
      "+---+-------+---+----------+------+\n",
      "|_c0|   Name|Age|Experience|Salary|\n",
      "+---+-------+---+----------+------+\n",
      "|  2|  Sunny| 29|         4| 20000|\n",
      "|  3|   Paul| 24|         3| 20000|\n",
      "|  4| Harsha| 21|         1| 15000|\n",
      "|  5|Shubham| 23|         2| 18000|\n",
      "+---+-------+---+----------+------+\n",
      "\n"
     ]
    }
   ],
   "source": [
    "# Salary equal or less than 20 000\n",
    "spark.filter('Salary <= 20000').show()"
   ]
  },
  {
   "cell_type": "code",
   "execution_count": 93,
   "id": "bf27a566",
   "metadata": {},
   "outputs": [
    {
     "name": "stdout",
     "output_type": "stream",
     "text": [
      "+-------+---+\n",
      "|   Name|Age|\n",
      "+-------+---+\n",
      "|  Sunny| 29|\n",
      "|   Paul| 24|\n",
      "| Harsha| 21|\n",
      "|Shubham| 23|\n",
      "+-------+---+\n",
      "\n"
     ]
    }
   ],
   "source": [
    "(\n",
    "    spark.filter('Salary <= 20000')\n",
    "    .select(['Name', 'Age'])\n",
    "    .show()\n",
    ")"
   ]
  },
  {
   "cell_type": "code",
   "execution_count": 96,
   "id": "c3a8092e",
   "metadata": {},
   "outputs": [
    {
     "name": "stdout",
     "output_type": "stream",
     "text": [
      "+---+-------+---+----------+------+\n",
      "|_c0|   Name|Age|Experience|Salary|\n",
      "+---+-------+---+----------+------+\n",
      "|  2|  Sunny| 29|         4| 20000|\n",
      "|  3|   Paul| 24|         3| 20000|\n",
      "|  5|Shubham| 23|         2| 18000|\n",
      "+---+-------+---+----------+------+\n",
      "\n"
     ]
    }
   ],
   "source": [
    "(\n",
    "    spark.filter(spark['Salary'] <= 20_000)\n",
    "    .filter('Salary >= 17000')\n",
    "    .show()\n",
    ")"
   ]
  },
  {
   "cell_type": "code",
   "execution_count": 98,
   "id": "8c7e61a1",
   "metadata": {},
   "outputs": [
    {
     "name": "stdout",
     "output_type": "stream",
     "text": [
      "+---+---------+---+----------+------+\n",
      "|_c0|     Name|Age|Experience|Salary|\n",
      "+---+---------+---+----------+------+\n",
      "|  0|    Krish| 31|        10| 30000|\n",
      "|  1|Sudhanshi| 30|         8| 25000|\n",
      "+---+---------+---+----------+------+\n",
      "\n"
     ]
    }
   ],
   "source": [
    "# ~ operator\n",
    "spark.filter(~(spark['Salary'] <= 20_000)).show()"
   ]
  },
  {
   "cell_type": "code",
   "execution_count": 105,
   "id": "727ab328",
   "metadata": {},
   "outputs": [],
   "source": [
    "dataset = pd.DataFrame({\n",
    "    'Name': ['Krish', 'Krish', 'Mahesh', 'Krish', 'Mahesh', 'Sudhanshu', 'Sudhanshu', 'Sudhanshu', 'Sunny', 'Sunny'],\n",
    "    'Departments': ['Data Science', 'IOT', 'Big Data', 'Big Data', 'Data Science', 'Data Science', 'IOT', 'Big Data', 'Data Science', 'Big Data'],\n",
    "    'Salary': [10000, 5000, 4000, 4000, 3000, 20000, 10000, 5000, 10000, 2000]\n",
    "})\n",
    "dataset.to_csv('Data.csv')"
   ]
  },
  {
   "cell_type": "code",
   "execution_count": 106,
   "id": "fcb0aef7",
   "metadata": {},
   "outputs": [
    {
     "name": "stdout",
     "output_type": "stream",
     "text": [
      "root\n",
      " |-- _c0: integer (nullable = true)\n",
      " |-- Name: string (nullable = true)\n",
      " |-- Departments: string (nullable = true)\n",
      " |-- Salary: integer (nullable = true)\n",
      "\n"
     ]
    }
   ],
   "source": [
    "from pyspark.sql import SparkSession\n",
    "\n",
    "spark = SparkSession.builder.appName('tutorial').getOrCreate()\n",
    "pyspark = spark.read.csv('Data.csv', header=True, inferSchema=True)\n",
    "pyspark.printSchema()"
   ]
  },
  {
   "cell_type": "code",
   "execution_count": 107,
   "id": "94627b17",
   "metadata": {},
   "outputs": [
    {
     "name": "stdout",
     "output_type": "stream",
     "text": [
      "+---+---------+------------+------+\n",
      "|_c0|     Name| Departments|Salary|\n",
      "+---+---------+------------+------+\n",
      "|  0|    Krish|Data Science| 10000|\n",
      "|  1|    Krish|         IOT|  5000|\n",
      "|  2|   Mahesh|    Big Data|  4000|\n",
      "|  3|    Krish|    Big Data|  4000|\n",
      "|  4|   Mahesh|Data Science|  3000|\n",
      "|  5|Sudhanshu|Data Science| 20000|\n",
      "|  6|Sudhanshu|         IOT| 10000|\n",
      "|  7|Sudhanshu|    Big Data|  5000|\n",
      "|  8|    Sunny|Data Science| 10000|\n",
      "|  9|    Sunny|    Big Data|  2000|\n",
      "+---+---------+------------+------+\n",
      "\n"
     ]
    }
   ],
   "source": [
    "pyspark.show()"
   ]
  },
  {
   "cell_type": "markdown",
   "id": "3fffa5ab",
   "metadata": {},
   "source": [
    "## Group by operations"
   ]
  },
  {
   "cell_type": "code",
   "execution_count": 112,
   "id": "89aa3719",
   "metadata": {},
   "outputs": [
    {
     "name": "stdout",
     "output_type": "stream",
     "text": [
      "+---------+-----------+\n",
      "|     Name|sum(Salary)|\n",
      "+---------+-----------+\n",
      "|Sudhanshu|      35000|\n",
      "|    Sunny|      12000|\n",
      "|    Krish|      19000|\n",
      "|   Mahesh|       7000|\n",
      "+---------+-----------+\n",
      "\n"
     ]
    }
   ],
   "source": [
    "# Total salary\n",
    "pyspark = pyspark.drop('_c0')\n",
    "pyspark.groupBy('Name').sum().show()"
   ]
  },
  {
   "cell_type": "code",
   "execution_count": 113,
   "id": "8ce06686",
   "metadata": {},
   "outputs": [
    {
     "name": "stdout",
     "output_type": "stream",
     "text": [
      "+------------+-----------+\n",
      "| Departments|sum(Salary)|\n",
      "+------------+-----------+\n",
      "|         IOT|      15000|\n",
      "|    Big Data|      15000|\n",
      "|Data Science|      43000|\n",
      "+------------+-----------+\n",
      "\n"
     ]
    }
   ],
   "source": [
    "pyspark.groupBy('Departments').sum().show()"
   ]
  },
  {
   "cell_type": "code",
   "execution_count": 114,
   "id": "c13e310e",
   "metadata": {},
   "outputs": [
    {
     "name": "stdout",
     "output_type": "stream",
     "text": [
      "+------------+-----------+\n",
      "| Departments|avg(Salary)|\n",
      "+------------+-----------+\n",
      "|         IOT|     7500.0|\n",
      "|    Big Data|     3750.0|\n",
      "|Data Science|    10750.0|\n",
      "+------------+-----------+\n",
      "\n"
     ]
    }
   ],
   "source": [
    "# Mean salary per department\n",
    "pyspark.groupBy('Departments').mean().show()"
   ]
  },
  {
   "cell_type": "code",
   "execution_count": 115,
   "id": "56024e41",
   "metadata": {},
   "outputs": [
    {
     "name": "stdout",
     "output_type": "stream",
     "text": [
      "+------------+-----+\n",
      "| Departments|count|\n",
      "+------------+-----+\n",
      "|         IOT|    2|\n",
      "|    Big Data|    4|\n",
      "|Data Science|    4|\n",
      "+------------+-----+\n",
      "\n"
     ]
    }
   ],
   "source": [
    "# Team members\n",
    "pyspark.groupBy('Departments').count().show()"
   ]
  },
  {
   "cell_type": "code",
   "execution_count": 116,
   "id": "ecae1491",
   "metadata": {},
   "outputs": [
    {
     "name": "stdout",
     "output_type": "stream",
     "text": [
      "+-----------+\n",
      "|sum(Salary)|\n",
      "+-----------+\n",
      "|      73000|\n",
      "+-----------+\n",
      "\n"
     ]
    }
   ],
   "source": [
    "# Total salary for team\n",
    "pyspark.agg({'Salary': 'sum'}).show()"
   ]
  },
  {
   "cell_type": "markdown",
   "id": "1e805c01",
   "metadata": {},
   "source": [
    "# next: MLlib"
   ]
  }
 ],
 "metadata": {
  "kernelspec": {
   "display_name": "Python 3 (ipykernel)",
   "language": "python",
   "name": "python3"
  },
  "language_info": {
   "codemirror_mode": {
    "name": "ipython",
    "version": 3
   },
   "file_extension": ".py",
   "mimetype": "text/x-python",
   "name": "python",
   "nbconvert_exporter": "python",
   "pygments_lexer": "ipython3",
   "version": "3.11.4"
  }
 },
 "nbformat": 4,
 "nbformat_minor": 5
}
