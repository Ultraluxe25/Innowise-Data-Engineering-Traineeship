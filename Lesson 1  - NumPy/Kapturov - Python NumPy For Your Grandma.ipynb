{
 "cells": [
  {
   "cell_type": "markdown",
   "id": "0eb2a8b3",
   "metadata": {},
   "source": [
    "![](https://img-c.udemycdn.com/course/480x270/2685312_9958_3.jpg)"
   ]
  },
  {
   "cell_type": "code",
   "execution_count": 1,
   "id": "2ae8f842",
   "metadata": {},
   "outputs": [
    {
     "name": "stdout",
     "output_type": "stream",
     "text": [
      "Requirement already satisfied: numpy in c:\\users\\ultra\\appdata\\roaming\\python\\python39\\site-packages (1.21.4)\n"
     ]
    }
   ],
   "source": [
    "# установим NumPy\n",
    "!pip install numpy"
   ]
  },
  {
   "cell_type": "code",
   "execution_count": 2,
   "id": "521348e0",
   "metadata": {},
   "outputs": [],
   "source": [
    "# импортируем NumPy\n",
    "import numpy as np"
   ]
  },
  {
   "cell_type": "markdown",
   "id": "289b7b82",
   "metadata": {},
   "source": [
    "![](https://numpy.org/doc/stable/_static/numpylogo.svg)"
   ]
  },
  {
   "cell_type": "markdown",
   "id": "9b4af10a",
   "metadata": {},
   "source": [
    "Numpy использует фиксированную длину каждого элемента, что позволяет ему быстрее искать элемент (4 битное представление). Каждый массив имеет один тип данных и одинаковый размер памяти. То же касается и вложенных массивов."
   ]
  },
  {
   "cell_type": "code",
   "execution_count": 3,
   "id": "675af9f4",
   "metadata": {},
   "outputs": [],
   "source": [
    "arr1 = np.array([10, 20, 30, 40, 50])"
   ]
  },
  {
   "cell_type": "code",
   "execution_count": 4,
   "id": "cd8ef235",
   "metadata": {},
   "outputs": [
    {
     "name": "stdout",
     "output_type": "stream",
     "text": [
      "1\n",
      "(5,)\n"
     ]
    }
   ],
   "source": [
    "# посмотрим на размерность и форму массива\n",
    "print(arr1.ndim)\n",
    "print(arr1.shape)"
   ]
  },
  {
   "cell_type": "code",
   "execution_count": 5,
   "id": "347bee98",
   "metadata": {},
   "outputs": [
    {
     "data": {
      "text/plain": [
       "array([[ 10,  20,  30,  40,  50],\n",
       "       [100, 200, 300, 400, 500]])"
      ]
     },
     "execution_count": 5,
     "metadata": {},
     "output_type": "execute_result"
    }
   ],
   "source": [
    "# создадим двумерный список\n",
    "arr_2d = np.array([\n",
    "    [10, 20, 30, 40, 50],\n",
    "    [100, 200, 300, 400, 500]\n",
    "])\n",
    "\n",
    "arr_2d"
   ]
  },
  {
   "cell_type": "code",
   "execution_count": 6,
   "id": "911647a4",
   "metadata": {},
   "outputs": [
    {
     "data": {
      "text/plain": [
       "10"
      ]
     },
     "execution_count": 6,
     "metadata": {},
     "output_type": "execute_result"
    }
   ],
   "source": [
    "# количество всех вложенных элементов\n",
    "arr_2d.size"
   ]
  },
  {
   "cell_type": "code",
   "execution_count": 7,
   "id": "e8b02f41",
   "metadata": {},
   "outputs": [
    {
     "data": {
      "text/plain": [
       "dtype('int32')"
      ]
     },
     "execution_count": 7,
     "metadata": {},
     "output_type": "execute_result"
    }
   ],
   "source": [
    "# посмотрим тип элементов массива\n",
    "arr_2d.dtype"
   ]
  },
  {
   "cell_type": "code",
   "execution_count": 8,
   "id": "b55679a4",
   "metadata": {},
   "outputs": [],
   "source": [
    "# посмотрим на тип массива Uniode Strings (U-количесто символов)\n",
    "a = np.array([1, 'hello', 2])"
   ]
  },
  {
   "cell_type": "code",
   "execution_count": 9,
   "id": "53f4e861",
   "metadata": {},
   "outputs": [
    {
     "name": "stdout",
     "output_type": "stream",
     "text": [
      "['loooooooong' 'hello' '2']\n",
      "['loooooooong' 'hello' '2']\n"
     ]
    }
   ],
   "source": [
    "# изменение существующих массивов через новые\n",
    "foo = a\n",
    "foo[0] = 'loooooooong string'\n",
    "print(foo)\n",
    "print(a)"
   ]
  },
  {
   "cell_type": "code",
   "execution_count": 10,
   "id": "0f5873e0",
   "metadata": {},
   "outputs": [
    {
     "data": {
      "text/plain": [
       "dtype('float64')"
      ]
     },
     "execution_count": 10,
     "metadata": {},
     "output_type": "execute_result"
    }
   ],
   "source": [
    "b = np.array([\n",
    "    [1, 2, 3, 4],\n",
    "    [1.1, 1.2, 1.3, 1.4]\n",
    "])\n",
    "    \n",
    "b.dtype"
   ]
  },
  {
   "cell_type": "code",
   "execution_count": 11,
   "id": "9718a7b9",
   "metadata": {},
   "outputs": [
    {
     "name": "stderr",
     "output_type": "stream",
     "text": [
      "C:\\Users\\ultra\\AppData\\Local\\Temp/ipykernel_11028/1451755915.py:2: VisibleDeprecationWarning: Creating an ndarray from ragged nested sequences (which is a list-or-tuple of lists-or-tuples-or ndarrays with different lengths or shapes) is deprecated. If you meant to do this, you must specify 'dtype=object' when creating the ndarray.\n",
      "  np.array([\n"
     ]
    },
    {
     "data": {
      "text/plain": [
       "array([list([1, 2, 3]), list([4, 5])], dtype=object)"
      ]
     },
     "execution_count": 11,
     "metadata": {},
     "output_type": "execute_result"
    }
   ],
   "source": [
    "# создадим массив с вложенными массивами, различной длиной\n",
    "np.array([\n",
    "    [1, 2, 3],\n",
    "    [4, 5]\n",
    "])"
   ]
  },
  {
   "cell_type": "code",
   "execution_count": 12,
   "id": "f102cbfa",
   "metadata": {},
   "outputs": [
    {
     "data": {
      "text/plain": [
       "array([['a', 'b'],\n",
       "       ['c', 'd'],\n",
       "       ['e', 'f']], dtype='<U1')"
      ]
     },
     "execution_count": 12,
     "metadata": {},
     "output_type": "execute_result"
    }
   ],
   "source": [
    "# list of three nestd sublists\n",
    "np.array([['a', 'b'], ['c', 'd'], ['e', 'f']])"
   ]
  },
  {
   "cell_type": "code",
   "execution_count": 13,
   "id": "42f16635",
   "metadata": {},
   "outputs": [
    {
     "name": "stdout",
     "output_type": "stream",
     "text": [
      "[0. 0. 0.]\n"
     ]
    },
    {
     "data": {
      "text/plain": [
       "array([[0., 0., 0., 0., 0.],\n",
       "       [0., 0., 0., 0., 0.],\n",
       "       [0., 0., 0., 0., 0.]])"
      ]
     },
     "execution_count": 13,
     "metadata": {},
     "output_type": "execute_result"
    }
   ],
   "source": [
    "# zero-matrix\n",
    "print(np.zeros(shape=3))\n",
    "np.zeros(shape=(3, 5))"
   ]
  },
  {
   "cell_type": "code",
   "execution_count": 14,
   "id": "1da79a71",
   "metadata": {},
   "outputs": [
    {
     "data": {
      "text/plain": [
       "array([['cat', 'cat', 'cat', 'cat', 'cat'],\n",
       "       ['cat', 'cat', 'cat', 'cat', 'cat'],\n",
       "       ['cat', 'cat', 'cat', 'cat', 'cat']], dtype='<U3')"
      ]
     },
     "execution_count": 14,
     "metadata": {},
     "output_type": "execute_result"
    }
   ],
   "source": [
    "# matrix filled by number\n",
    "np.full(shape=(3, 5), fill_value='cat')"
   ]
  },
  {
   "cell_type": "markdown",
   "id": "9b6f123e",
   "metadata": {},
   "source": [
    "# [numpy.full](https://numpy.org/doc/stable/reference/generated/numpy.full.html)"
   ]
  },
  {
   "cell_type": "code",
   "execution_count": 15,
   "id": "79255360",
   "metadata": {},
   "outputs": [
    {
     "data": {
      "text/plain": [
       "array([1, 2, 3, 4])"
      ]
     },
     "execution_count": 15,
     "metadata": {},
     "output_type": "execute_result"
    }
   ],
   "source": [
    "# arange is a sequance array\n",
    "np.arange(start=1, stop=5, step=1)"
   ]
  },
  {
   "cell_type": "code",
   "execution_count": 16,
   "id": "6d8b51ca",
   "metadata": {},
   "outputs": [
    {
     "data": {
      "text/plain": [
       "array([[4, 3, 6],\n",
       "       [4, 1, 6]])"
      ]
     },
     "execution_count": 16,
     "metadata": {},
     "output_type": "execute_result"
    }
   ],
   "source": [
    "# numpy random\n",
    "np.random.randint(low=1, high=7, size=(2, 3))"
   ]
  },
  {
   "cell_type": "code",
   "execution_count": 17,
   "id": "3a5aaee3",
   "metadata": {},
   "outputs": [
    {
     "name": "stdout",
     "output_type": "stream",
     "text": [
      "[10 20 50]\n",
      "[10 20 10 20]\n"
     ]
    }
   ],
   "source": [
    "foo = np.array([10, 20, 30, 40, 50])\n",
    "print(foo[[0, 1, 4]])\n",
    "print(foo[[0, 1, 0, 1]])"
   ]
  },
  {
   "cell_type": "code",
   "execution_count": 18,
   "id": "6ce7c367",
   "metadata": {},
   "outputs": [
    {
     "data": {
      "text/plain": [
       "array([10, 10, 10])"
      ]
     },
     "execution_count": 18,
     "metadata": {},
     "output_type": "execute_result"
    }
   ],
   "source": [
    "# zeros parameter 'dtype'\n",
    "foo[np.zeros(shape=3, dtype='int64')]"
   ]
  },
  {
   "cell_type": "code",
   "execution_count": 19,
   "id": "fe1e9487",
   "metadata": {},
   "outputs": [
    {
     "data": {
      "text/plain": [
       "array([100, 200,  30,  40, 400])"
      ]
     },
     "execution_count": 19,
     "metadata": {},
     "output_type": "execute_result"
    }
   ],
   "source": [
    "# foo updated\n",
    "foo[[0, 1, 4]] = [100, 200, 400]\n",
    "foo"
   ]
  },
  {
   "cell_type": "code",
   "execution_count": 20,
   "id": "9805f0f8",
   "metadata": {},
   "outputs": [
    {
     "data": {
      "text/plain": [
       "array([ 1,  1, 30, 40,  1])"
      ]
     },
     "execution_count": 20,
     "metadata": {},
     "output_type": "execute_result"
    }
   ],
   "source": [
    "# some values equals to one number\n",
    "foo[[0, 1, 4]] = 1\n",
    "foo"
   ]
  },
  {
   "cell_type": "code",
   "execution_count": 21,
   "id": "8610b347",
   "metadata": {},
   "outputs": [
    {
     "data": {
      "text/plain": [
       "array([[ 5, 10, 15, 20],\n",
       "       [25, 30, 35, 40],\n",
       "       [45, 50, 55, 60]])"
      ]
     },
     "execution_count": 21,
     "metadata": {},
     "output_type": "execute_result"
    }
   ],
   "source": [
    "bar = np.arange(5, 61, 5).reshape(3, 4)\n",
    "bar"
   ]
  },
  {
   "cell_type": "code",
   "execution_count": 22,
   "id": "fba27016",
   "metadata": {},
   "outputs": [
    {
     "data": {
      "text/plain": [
       "array([[35, 40],\n",
       "       [55, 60]])"
      ]
     },
     "execution_count": 22,
     "metadata": {},
     "output_type": "execute_result"
    }
   ],
   "source": [
    "bar[1:, [-2, -1]]"
   ]
  },
  {
   "cell_type": "code",
   "execution_count": 23,
   "id": "3aae60c0",
   "metadata": {},
   "outputs": [
    {
     "data": {
      "text/plain": [
       "array([[-1, 10, 15, 20],\n",
       "       [25, 30, 35, 40],\n",
       "       [45, 50, 55, 60]])"
      ]
     },
     "execution_count": 23,
     "metadata": {},
     "output_type": "execute_result"
    }
   ],
   "source": [
    "bar[0, 0] = -1\n",
    "bar"
   ]
  },
  {
   "cell_type": "code",
   "execution_count": 24,
   "id": "723be792",
   "metadata": {},
   "outputs": [
    {
     "data": {
      "text/plain": [
       "array([[-1, 10, 15, 20],\n",
       "       [45, 50, 55, 60],\n",
       "       [45, 50, 55, 60]])"
      ]
     },
     "execution_count": 24,
     "metadata": {},
     "output_type": "execute_result"
    }
   ],
   "source": [
    "bar[1] = bar[2]\n",
    "bar"
   ]
  },
  {
   "cell_type": "code",
   "execution_count": 25,
   "id": "5b0b9c6c",
   "metadata": {},
   "outputs": [
    {
     "data": {
      "text/plain": [
       "array([[ 0, 10, 15, 20],\n",
       "       [45,  0, 55, 60],\n",
       "       [45, 50,  0, 60]])"
      ]
     },
     "execution_count": 25,
     "metadata": {},
     "output_type": "execute_result"
    }
   ],
   "source": [
    "# diagional zeros\n",
    "bar[[0, 1, 2], [0, 1, 2]] = [0, 0, 0]\n",
    "bar"
   ]
  },
  {
   "cell_type": "code",
   "execution_count": 26,
   "id": "075ccc41",
   "metadata": {},
   "outputs": [
    {
     "data": {
      "text/plain": [
       "array([[[ 0, 10],\n",
       "        [15, 20],\n",
       "        [45,  0]],\n",
       "\n",
       "       [[55, 60],\n",
       "        [45, 50],\n",
       "        [ 0, 60]]])"
      ]
     },
     "execution_count": 26,
     "metadata": {},
     "output_type": "execute_result"
    }
   ],
   "source": [
    "zoo = bar.reshape(2, 3, 2)\n",
    "zoo"
   ]
  },
  {
   "cell_type": "code",
   "execution_count": 27,
   "id": "da04920a",
   "metadata": {},
   "outputs": [
    {
     "data": {
      "text/plain": [
       "array([[[ 0,  5],\n",
       "        [15,  5],\n",
       "        [45,  5]],\n",
       "\n",
       "       [[55, 60],\n",
       "        [45, 50],\n",
       "        [ 0, 60]]])"
      ]
     },
     "execution_count": 27,
     "metadata": {},
     "output_type": "execute_result"
    }
   ],
   "source": [
    "# 0 - first 2D matrix, : - all rows, 1 - second column\n",
    "zoo[0, :, 1] = 5\n",
    "zoo"
   ]
  },
  {
   "cell_type": "code",
   "execution_count": 28,
   "id": "c9df9197",
   "metadata": {},
   "outputs": [
    {
     "data": {
      "text/plain": [
       "array([[19, 22],\n",
       "       [43, 50]])"
      ]
     },
     "execution_count": 28,
     "metadata": {},
     "output_type": "execute_result"
    }
   ],
   "source": [
    "# other version of np.dot (syntax sugar)\n",
    "x = np.array([[1, 2], [3, 4]])\n",
    "y = np.array([[5, 6], [7, 8]])\n",
    "\n",
    "x @ y"
   ]
  },
  {
   "cell_type": "code",
   "execution_count": 29,
   "id": "f15f0708",
   "metadata": {},
   "outputs": [
    {
     "data": {
      "text/plain": [
       "array([[6, 7],\n",
       "       [8, 9]])"
      ]
     },
     "execution_count": 29,
     "metadata": {},
     "output_type": "execute_result"
    }
   ],
   "source": [
    "# broadcasting addition\n",
    "x + 5"
   ]
  },
  {
   "cell_type": "code",
   "execution_count": 30,
   "id": "cf151ed2",
   "metadata": {},
   "outputs": [
    {
     "data": {
      "text/plain": [
       "array([[10, 11],\n",
       "       [12, 13]])"
      ]
     },
     "execution_count": 30,
     "metadata": {},
     "output_type": "execute_result"
    }
   ],
   "source": [
    "y + np.full(shape=(2, 2), fill_value=5)"
   ]
  },
  {
   "cell_type": "markdown",
   "id": "c2c6cd3a",
   "metadata": {},
   "source": [
    "# problem 1\n",
    "\n",
    "With your high school reunion fast approaching, you decide to get in shape and lose some weight . You record your weight every day for five weeks starting on a Monday."
   ]
  },
  {
   "cell_type": "code",
   "execution_count": 31,
   "id": "fb2bffd3",
   "metadata": {},
   "outputs": [
    {
     "data": {
      "text/plain": [
       "array([185. , 184.8, 184.6, 184.4, 184.2, 184. , 183.8, 183.6, 183.4,\n",
       "       183.2, 183. , 182.8, 182.6, 182.4, 182.2, 182. , 181.8, 181.6,\n",
       "       181.4, 181.2, 181. , 180.8, 180.6, 180.4, 180.2, 180. , 179.8,\n",
       "       179.6, 179.4, 179.2, 179. , 178.8, 178.6, 178.4, 178.2])"
      ]
     },
     "execution_count": 31,
     "metadata": {},
     "output_type": "execute_result"
    }
   ],
   "source": [
    "dailywts = 185 - np.arange(5 * 7) / 5\n",
    "dailywts"
   ]
  },
  {
   "cell_type": "code",
   "execution_count": 32,
   "id": "01230c03",
   "metadata": {},
   "outputs": [
    {
     "data": {
      "text/plain": [
       "array([184.4, 183. , 181.6, 180.2, 178.8])"
      ]
     },
     "execution_count": 32,
     "metadata": {},
     "output_type": "execute_result"
    }
   ],
   "source": [
    "np.mean(dailywts.reshape(5, 7), axis=1)"
   ]
  },
  {
   "cell_type": "markdown",
   "id": "3b3b9d97",
   "metadata": {},
   "source": [
    "# problem 2\n",
    "\n",
    "After binge watching the discovery channel, you ditch your job as a trial lawyer to become a gold miner  . You decide to prospect five locations underneath a 7x7 grid of land. How much gold do you uncover at each location?"
   ]
  },
  {
   "cell_type": "code",
   "execution_count": 33,
   "id": "a8aa54c2",
   "metadata": {},
   "outputs": [
    {
     "name": "stdout",
     "output_type": "stream",
     "text": [
      "[[2 3 0 5 2 0 3]\n",
      " [8 8 0 7 1 5 3]\n",
      " [0 1 6 2 1 4 5]\n",
      " [4 0 8 9 9 8 7]\n",
      " [4 2 7 0 7 2 1]\n",
      " [9 8 9 2 5 0 8]\n",
      " [1 9 8 2 6 4 3]]\n"
     ]
    }
   ],
   "source": [
    "np.random.seed(5555)\n",
    "gold = np.random.randint(low=0, high=10, size=(7, 7))\n",
    "print(gold)"
   ]
  },
  {
   "cell_type": "code",
   "execution_count": 34,
   "id": "1ac2fa25",
   "metadata": {},
   "outputs": [
    {
     "data": {
      "text/plain": [
       "array([[0, 4],\n",
       "       [2, 2],\n",
       "       [2, 3],\n",
       "       [5, 1],\n",
       "       [6, 3]])"
      ]
     },
     "execution_count": 34,
     "metadata": {},
     "output_type": "execute_result"
    }
   ],
   "source": [
    "locs = np.array([\n",
    "    [0, 4],\n",
    "    [2, 2], \n",
    "    [2, 3],\n",
    "    [5, 1],\n",
    "    [6, 3]\n",
    "])\n",
    "locs"
   ]
  },
  {
   "cell_type": "code",
   "execution_count": 35,
   "id": "2e3ea2f3",
   "metadata": {},
   "outputs": [],
   "source": [
    "# solution (x and y are 1D-array is taken from locs)\n",
    "gold_taken = gold[locs[:, 0], locs[:, 1]]"
   ]
  },
  {
   "cell_type": "code",
   "execution_count": 36,
   "id": "bb7c21af",
   "metadata": {},
   "outputs": [
    {
     "data": {
      "text/plain": [
       "20"
      ]
     },
     "execution_count": 36,
     "metadata": {},
     "output_type": "execute_result"
    }
   ],
   "source": [
    "np.sum(gold_taken)"
   ]
  },
  {
   "cell_type": "markdown",
   "id": "fbb3dda3",
   "metadata": {},
   "source": [
    "# problem 3\n",
    "\n",
    "You decide to invest in a series of billboards along interstate 10 to advertise your stylish new chicken restaurant, Chic-fil-A 🐔.\n",
    "\n",
    "You buy three billboards evenly spaced starting from mile marker 17 and ending on mile marker 28.\n",
    "You buy another three billboards starting on mile marker 32 and ending on mile marker 36.\n",
    "In order, from mile marker 17 to 36, your billboards display these ads: A, B, C, C, B, A.\n",
    "Determine how far each B ad is from your restaurant which is located at mile marker 30."
   ]
  },
  {
   "cell_type": "code",
   "execution_count": 37,
   "id": "9d2635cc",
   "metadata": {},
   "outputs": [
    {
     "name": "stdout",
     "output_type": "stream",
     "text": [
      "[17.  22.5 28. ]\n",
      "[32. 34. 36.]\n"
     ]
    }
   ],
   "source": [
    "A = np.linspace(17, 28, 3)\n",
    "B = np.linspace(32, 36, 3)\n",
    "print(A)\n",
    "print(B)"
   ]
  },
  {
   "cell_type": "code",
   "execution_count": 38,
   "id": "4d8741b9",
   "metadata": {},
   "outputs": [
    {
     "data": {
      "text/plain": [
       "array([[17. , 22.5, 28. ],\n",
       "       [32. , 34. , 36. ]])"
      ]
     },
     "execution_count": 38,
     "metadata": {},
     "output_type": "execute_result"
    }
   ],
   "source": [
    "# location position\n",
    "res = np.linspace(start=[17, 32], stop=[28, 36], num=3, axis=1)\n",
    "res"
   ]
  },
  {
   "cell_type": "code",
   "execution_count": 39,
   "id": "817b39fc",
   "metadata": {},
   "outputs": [
    {
     "data": {
      "text/plain": [
       "array([[13. ,  7.5,  2. ],\n",
       "       [ 2. ,  4. ,  6. ]])"
      ]
     },
     "execution_count": 39,
     "metadata": {},
     "output_type": "execute_result"
    }
   ],
   "source": [
    "# distance between each billboard and 30\n",
    "dist = np.abs(30 - res)\n",
    "dist"
   ]
  },
  {
   "cell_type": "code",
   "execution_count": 40,
   "id": "5a938c55",
   "metadata": {},
   "outputs": [
    {
     "data": {
      "text/plain": [
       "array([2., 2.])"
      ]
     },
     "execution_count": 40,
     "metadata": {},
     "output_type": "execute_result"
    }
   ],
   "source": [
    "C_dist = dist[[0, 1], [2, 0]]\n",
    "C_dist"
   ]
  },
  {
   "cell_type": "markdown",
   "id": "fea8ce53",
   "metadata": {},
   "source": [
    "# Reshape"
   ]
  },
  {
   "cell_type": "code",
   "execution_count": 41,
   "id": "8f484754",
   "metadata": {},
   "outputs": [
    {
     "data": {
      "text/plain": [
       "array([1, 2, 3, 4, 5, 6, 7, 8])"
      ]
     },
     "execution_count": 41,
     "metadata": {},
     "output_type": "execute_result"
    }
   ],
   "source": [
    "foo = np.arange(start=1, stop=9)\n",
    "foo"
   ]
  },
  {
   "cell_type": "code",
   "execution_count": 42,
   "id": "15a8c498",
   "metadata": {},
   "outputs": [
    {
     "data": {
      "text/plain": [
       "array([[1, 2, 3, 4],\n",
       "       [5, 6, 7, 8]])"
      ]
     },
     "execution_count": 42,
     "metadata": {},
     "output_type": "execute_result"
    }
   ],
   "source": [
    "foo.reshape(2, 4)"
   ]
  },
  {
   "cell_type": "code",
   "execution_count": 43,
   "id": "6a8d4fd5",
   "metadata": {},
   "outputs": [
    {
     "data": {
      "text/plain": [
       "array([[1, 2, 3, 4],\n",
       "       [5, 6, 7, 8]])"
      ]
     },
     "execution_count": 43,
     "metadata": {},
     "output_type": "execute_result"
    }
   ],
   "source": [
    "# other style\n",
    "np.reshape(a=foo, newshape=(2, 4))"
   ]
  },
  {
   "cell_type": "markdown",
   "id": "5a27e635",
   "metadata": {},
   "source": [
    "### order 'F' is column-order"
   ]
  },
  {
   "cell_type": "code",
   "execution_count": 44,
   "id": "85400548",
   "metadata": {},
   "outputs": [
    {
     "data": {
      "text/plain": [
       "array([[1, 2],\n",
       "       [3, 4],\n",
       "       [5, 6],\n",
       "       [7, 8]])"
      ]
     },
     "execution_count": 44,
     "metadata": {},
     "output_type": "execute_result"
    }
   ],
   "source": [
    "bar_C = foo.reshape((4, 2), order='C')\n",
    "bar_C"
   ]
  },
  {
   "cell_type": "code",
   "execution_count": 45,
   "id": "8c08c300",
   "metadata": {},
   "outputs": [
    {
     "data": {
      "text/plain": [
       "array([[1, 5],\n",
       "       [2, 6],\n",
       "       [3, 7],\n",
       "       [4, 8]])"
      ]
     },
     "execution_count": 45,
     "metadata": {},
     "output_type": "execute_result"
    }
   ],
   "source": [
    "bar_F = foo.reshape((4, 2), order='F')\n",
    "bar_F"
   ]
  },
  {
   "cell_type": "code",
   "execution_count": 46,
   "id": "58d8373c",
   "metadata": {},
   "outputs": [
    {
     "data": {
      "text/plain": [
       "array([[[1, 2],\n",
       "        [3, 4]],\n",
       "\n",
       "       [[5, 6],\n",
       "        [7, 8]]])"
      ]
     },
     "execution_count": 46,
     "metadata": {},
     "output_type": "execute_result"
    }
   ],
   "source": [
    "bar_3d = foo.reshape((2, 2, 2))\n",
    "bar_3d"
   ]
  },
  {
   "cell_type": "code",
   "execution_count": 47,
   "id": "2deb7e5b",
   "metadata": {},
   "outputs": [
    {
     "data": {
      "text/plain": [
       "array([[ 0,  5, 15,  5],\n",
       "       [45,  5, 55, 60],\n",
       "       [45, 50,  0, 60]])"
      ]
     },
     "execution_count": 47,
     "metadata": {},
     "output_type": "execute_result"
    }
   ],
   "source": [
    "# way to change 'bar'\n",
    "bar"
   ]
  },
  {
   "cell_type": "code",
   "execution_count": 48,
   "id": "281aee90",
   "metadata": {},
   "outputs": [
    {
     "data": {
      "text/plain": [
       "array([[ 0, 45, 45],\n",
       "       [ 5,  5, 50],\n",
       "       [15, 55,  0],\n",
       "       [ 5, 60, 60]])"
      ]
     },
     "execution_count": 48,
     "metadata": {},
     "output_type": "execute_result"
    }
   ],
   "source": [
    "# Транспонирование (синтаксический сахар)\n",
    "bar.T"
   ]
  },
  {
   "cell_type": "code",
   "execution_count": 49,
   "id": "ebb4c526",
   "metadata": {},
   "outputs": [
    {
     "data": {
      "text/plain": [
       "array([[ 0, 45, 45],\n",
       "       [ 5,  5, 50],\n",
       "       [15, 55,  0],\n",
       "       [ 5, 60, 60]])"
      ]
     },
     "execution_count": 49,
     "metadata": {},
     "output_type": "execute_result"
    }
   ],
   "source": [
    "# NumPy транспонирование\n",
    "np.transpose(bar)"
   ]
  },
  {
   "cell_type": "markdown",
   "id": "9f4d7891",
   "metadata": {},
   "source": [
    "# Boolearn indexing"
   ]
  },
  {
   "cell_type": "code",
   "execution_count": 50,
   "id": "a3d7f87e",
   "metadata": {},
   "outputs": [
    {
     "data": {
      "text/plain": [
       "array([[3, 9, 7],\n",
       "       [2, 0, 3],\n",
       "       [3, 3, 1]])"
      ]
     },
     "execution_count": 50,
     "metadata": {},
     "output_type": "execute_result"
    }
   ],
   "source": [
    "foo = np.array([\n",
    "    [3, 9, 7],\n",
    "    [2, 0, 3],\n",
    "    [3, 3, 1]\n",
    "])\n",
    "foo"
   ]
  },
  {
   "cell_type": "code",
   "execution_count": 51,
   "id": "1f99a467",
   "metadata": {},
   "outputs": [
    {
     "data": {
      "text/plain": [
       "array([[ True, False, False],\n",
       "       [False, False,  True],\n",
       "       [ True,  True, False]])"
      ]
     },
     "execution_count": 51,
     "metadata": {},
     "output_type": "execute_result"
    }
   ],
   "source": [
    "mask = foo == 3\n",
    "mask"
   ]
  },
  {
   "cell_type": "markdown",
   "id": "43333842",
   "metadata": {},
   "source": [
    "# <span style='color: red'>Attention (code below)</span>"
   ]
  },
  {
   "cell_type": "code",
   "execution_count": 52,
   "id": "0bfdff44",
   "metadata": {},
   "outputs": [
    {
     "name": "stdout",
     "output_type": "stream",
     "text": [
      "[[3 9 7]\n",
      " [3 3 1]]\n",
      "\n",
      "[[9 7]\n",
      " [0 3]\n",
      " [3 1]]\n"
     ]
    }
   ],
   "source": [
    "rows = np.array([True, False, True])\n",
    "cols = np.array([False, True, True])\n",
    "\n",
    "print(foo[rows])  # выводит 1 и 3 строки (где True)\n",
    "print()\n",
    "print(foo[:, cols])  # выводит 2 и 3 столбцы"
   ]
  },
  {
   "cell_type": "markdown",
   "id": "90b05b88",
   "metadata": {},
   "source": [
    "# <span style='color: red'>Attention (code below)</span>"
   ]
  },
  {
   "cell_type": "code",
   "execution_count": 53,
   "id": "ea8ada2b",
   "metadata": {},
   "outputs": [
    {
     "data": {
      "text/plain": [
       "array([9, 1])"
      ]
     },
     "execution_count": 53,
     "metadata": {},
     "output_type": "execute_result"
    }
   ],
   "source": [
    "# True [0, 2] X-axis and True [1, 2] Y-axis\n",
    "foo[rows, cols]"
   ]
  },
  {
   "cell_type": "markdown",
   "id": "5e4ef326",
   "metadata": {},
   "source": [
    "# Nan"
   ]
  },
  {
   "cell_type": "code",
   "execution_count": 54,
   "id": "f024afb8",
   "metadata": {},
   "outputs": [
    {
     "data": {
      "text/plain": [
       "array([[ 1., nan,  1.,  1.],\n",
       "       [ 1.,  1.,  1.,  1.],\n",
       "       [ 1.,  1., nan,  1.]])"
      ]
     },
     "execution_count": 54,
     "metadata": {},
     "output_type": "execute_result"
    }
   ],
   "source": [
    "bot = np.ones(shape=(3, 4))\n",
    "bot[[0, 2], [1, 2]] = np.nan\n",
    "bot"
   ]
  },
  {
   "cell_type": "code",
   "execution_count": 55,
   "id": "d84b8218",
   "metadata": {},
   "outputs": [
    {
     "data": {
      "text/plain": [
       "array([[False, False, False, False],\n",
       "       [False, False, False, False],\n",
       "       [False, False, False, False]])"
      ]
     },
     "execution_count": 55,
     "metadata": {},
     "output_type": "execute_result"
    }
   ],
   "source": [
    "bot == np.nan"
   ]
  },
  {
   "cell_type": "code",
   "execution_count": 56,
   "id": "20436469",
   "metadata": {},
   "outputs": [
    {
     "name": "stdout",
     "output_type": "stream",
     "text": [
      "False\n"
     ]
    }
   ],
   "source": [
    "# suprise!)\n",
    "print(np.nan == np.nan)"
   ]
  },
  {
   "cell_type": "code",
   "execution_count": 57,
   "id": "0a195b74",
   "metadata": {},
   "outputs": [
    {
     "data": {
      "text/plain": [
       "array([[False,  True, False, False],\n",
       "       [False, False, False, False],\n",
       "       [False, False,  True, False]])"
      ]
     },
     "execution_count": 57,
     "metadata": {},
     "output_type": "execute_result"
    }
   ],
   "source": [
    "# find nan\n",
    "np.isnan(bot)"
   ]
  },
  {
   "cell_type": "markdown",
   "id": "44d02b7b",
   "metadata": {},
   "source": [
    "# Infinity"
   ]
  },
  {
   "cell_type": "code",
   "execution_count": 58,
   "id": "8f2e633c",
   "metadata": {},
   "outputs": [
    {
     "data": {
      "text/plain": [
       "array([ inf, -inf])"
      ]
     },
     "execution_count": 58,
     "metadata": {},
     "output_type": "execute_result"
    }
   ],
   "source": [
    "np.array([np.inf, np.NINF])"
   ]
  },
  {
   "cell_type": "code",
   "execution_count": 59,
   "id": "2c7e0457",
   "metadata": {},
   "outputs": [
    {
     "name": "stderr",
     "output_type": "stream",
     "text": [
      "C:\\Users\\ultra\\AppData\\Local\\Temp/ipykernel_11028/1273093014.py:1: RuntimeWarning: divide by zero encountered in true_divide\n",
      "  np.array([-1, 1]) / 0\n"
     ]
    },
    {
     "data": {
      "text/plain": [
       "array([-inf,  inf])"
      ]
     },
     "execution_count": 59,
     "metadata": {},
     "output_type": "execute_result"
    }
   ],
   "source": [
    "np.array([-1, 1]) / 0"
   ]
  },
  {
   "cell_type": "code",
   "execution_count": 60,
   "id": "06caa756",
   "metadata": {},
   "outputs": [
    {
     "name": "stdout",
     "output_type": "stream",
     "text": [
      "inf\n",
      "nan\n",
      "inf\n",
      "nan\n",
      "True\n"
     ]
    }
   ],
   "source": [
    "print(np.inf + np.inf)\n",
    "print(np.inf - np.inf)  # nan\n",
    "print(np.inf * np.inf)\n",
    "print(np.inf / np.inf)  # nan\n",
    "print(np.inf == np.inf)"
   ]
  },
  {
   "cell_type": "code",
   "execution_count": 61,
   "id": "139fc081",
   "metadata": {},
   "outputs": [
    {
     "name": "stdout",
     "output_type": "stream",
     "text": [
      "[False  True False False False  True]\n",
      "[False  True False  True False  True]\n"
     ]
    }
   ],
   "source": [
    "foo = np.array([4, np.inf, 3, np.NINF, 4.2, np.inf])\n",
    "print(np.isposinf(foo))\n",
    "print(np.isinf(foo))"
   ]
  },
  {
   "cell_type": "markdown",
   "id": "09383b8f",
   "metadata": {},
   "source": [
    "# [numpy.isposinf](https://numpy.org/doc/stable/reference/generated/numpy.isposinf.html)"
   ]
  },
  {
   "cell_type": "markdown",
   "id": "458e1733",
   "metadata": {},
   "source": [
    "# [numpy.isinf](https://numpy.org/doc/stable/reference/generated/numpy.isinf.html)"
   ]
  },
  {
   "cell_type": "markdown",
   "id": "e66685c4",
   "metadata": {},
   "source": [
    "# Random"
   ]
  },
  {
   "cell_type": "code",
   "execution_count": 62,
   "id": "93787d66",
   "metadata": {},
   "outputs": [
    {
     "data": {
      "text/plain": [
       "array([6, 3, 5])"
      ]
     },
     "execution_count": 62,
     "metadata": {},
     "output_type": "execute_result"
    }
   ],
   "source": [
    "np.random.seed(123)\n",
    "np.random.randint(low=1, high=7, size=3)"
   ]
  },
  {
   "cell_type": "code",
   "execution_count": 63,
   "id": "c28d6094",
   "metadata": {},
   "outputs": [
    {
     "data": {
      "text/plain": [
       "array([6, 5, 1])"
      ]
     },
     "execution_count": 63,
     "metadata": {},
     "output_type": "execute_result"
    }
   ],
   "source": [
    "np.random.seed(2357)\n",
    "np.random.choice(a=np.arange(1, 7),\n",
    "                 size=3,\n",
    "                 replace=False,  # without repeat (if True - with repeat)\n",
    "                 p=None)  # probability of each element"
   ]
  },
  {
   "cell_type": "code",
   "execution_count": 64,
   "id": "77d5b62c",
   "metadata": {},
   "outputs": [
    {
     "data": {
      "text/plain": [
       "array([6, 5, 2])"
      ]
     },
     "execution_count": 64,
     "metadata": {},
     "output_type": "execute_result"
    }
   ],
   "source": [
    "np.random.seed(2357)\n",
    "np.random.choice(a=np.arange(1, 7),\n",
    "                 size=3,\n",
    "                 replace=False,\n",
    "                 p=np.array([0.01, 0.1, 0.01, 0.01, 0.1, 0.77]))  # probability of each element"
   ]
  },
  {
   "cell_type": "code",
   "execution_count": 65,
   "id": "9886c4d6",
   "metadata": {},
   "outputs": [
    {
     "data": {
      "text/plain": [
       "array(['strings', 'too', 'use'], dtype='<U7')"
      ]
     },
     "execution_count": 65,
     "metadata": {},
     "output_type": "execute_result"
    }
   ],
   "source": [
    "np.random.choice(a=np.array(['you', 'can', 'use', 'strings', 'too']),\n",
    "                 size=3,\n",
    "                 replace=False,\n",
    "                 p=None)"
   ]
  },
  {
   "cell_type": "code",
   "execution_count": 66,
   "id": "4f0b72ad",
   "metadata": {},
   "outputs": [],
   "source": [
    "foo = np.array([\n",
    "    [1, 2],\n",
    "    [3, 4],\n",
    "    [5, 6],\n",
    "    [7, 8],\n",
    "    [9, 10]\n",
    "])"
   ]
  },
  {
   "cell_type": "code",
   "execution_count": 67,
   "id": "277b5da0",
   "metadata": {},
   "outputs": [
    {
     "data": {
      "text/plain": [
       "array([3, 4, 4])"
      ]
     },
     "execution_count": 67,
     "metadata": {},
     "output_type": "execute_result"
    }
   ],
   "source": [
    "np.random.seed(1234)\n",
    "rand_rows = np.random.randint(low=0,\n",
    "                              high=foo.shape[0],\n",
    "                              size=3)\n",
    "rand_rows"
   ]
  },
  {
   "cell_type": "code",
   "execution_count": 68,
   "id": "61e4e1f8",
   "metadata": {},
   "outputs": [
    {
     "data": {
      "text/plain": [
       "array([[ 7,  8],\n",
       "       [ 9, 10],\n",
       "       [ 9, 10]])"
      ]
     },
     "execution_count": 68,
     "metadata": {},
     "output_type": "execute_result"
    }
   ],
   "source": [
    "foo[rand_rows]"
   ]
  },
  {
   "cell_type": "code",
   "execution_count": 69,
   "id": "d85ac4c7",
   "metadata": {},
   "outputs": [
    {
     "data": {
      "text/plain": [
       "(5, 2)"
      ]
     },
     "execution_count": 69,
     "metadata": {},
     "output_type": "execute_result"
    }
   ],
   "source": [
    "foo.shape"
   ]
  },
  {
   "cell_type": "code",
   "execution_count": 70,
   "id": "676bd119",
   "metadata": {},
   "outputs": [
    {
     "data": {
      "text/plain": [
       "array([4, 0, 1])"
      ]
     },
     "execution_count": 70,
     "metadata": {},
     "output_type": "execute_result"
    }
   ],
   "source": [
    "np.random.seed(1234)\n",
    "rand_rows = np.random.choice(a=np.arange(start=0, stop=foo.shape[0]),\n",
    "                                         replace=False,\n",
    "                                         size=3)\n",
    "rand_rows"
   ]
  },
  {
   "cell_type": "code",
   "execution_count": 71,
   "id": "6b2cc9a3",
   "metadata": {},
   "outputs": [
    {
     "data": {
      "text/plain": [
       "array([[ 9, 10],\n",
       "       [ 1,  2],\n",
       "       [ 3,  4]])"
      ]
     },
     "execution_count": 71,
     "metadata": {},
     "output_type": "execute_result"
    }
   ],
   "source": [
    "foo[rand_rows]"
   ]
  },
  {
   "cell_type": "code",
   "execution_count": 72,
   "id": "a7455181",
   "metadata": {},
   "outputs": [
    {
     "data": {
      "text/plain": [
       "array([[ 7,  8],\n",
       "       [ 5,  6],\n",
       "       [ 3,  4],\n",
       "       [ 1,  2],\n",
       "       [ 9, 10]])"
      ]
     },
     "execution_count": 72,
     "metadata": {},
     "output_type": "execute_result"
    }
   ],
   "source": [
    "# shuffle rows\n",
    "np.random.permutation(foo)  # works only with rows"
   ]
  },
  {
   "cell_type": "markdown",
   "id": "c1674e6f",
   "metadata": {},
   "source": [
    "# [numpy.random.permutation](https://numpy.org/doc/stable/reference/random/generated/numpy.random.permutation.html)"
   ]
  },
  {
   "cell_type": "code",
   "execution_count": 73,
   "id": "88715a2f",
   "metadata": {},
   "outputs": [
    {
     "data": {
      "text/plain": [
       "array([[1.86066977, 1.15063697],\n",
       "       [1.19851876, 1.81516293]])"
      ]
     },
     "execution_count": 73,
     "metadata": {},
     "output_type": "execute_result"
    }
   ],
   "source": [
    "# uniform distribution = нормальное распределение\n",
    "np.random.uniform(low=1.0, high=2.0, size=(2, 2))"
   ]
  },
  {
   "cell_type": "code",
   "execution_count": 74,
   "id": "abc0b4fc",
   "metadata": {},
   "outputs": [
    {
     "data": {
      "text/plain": [
       "array([[-0.00867858, -0.32106129],\n",
       "       [ 1.05697037, -0.59017955]])"
      ]
     },
     "execution_count": 74,
     "metadata": {},
     "output_type": "execute_result"
    }
   ],
   "source": [
    "# normal distribution (loc - median, scale - std)\n",
    "np.random.normal(loc=0.0, scale=1.0, size=(2, 2))"
   ]
  },
  {
   "cell_type": "code",
   "execution_count": 75,
   "id": "503f29c4",
   "metadata": {},
   "outputs": [
    {
     "data": {
      "text/plain": [
       "array([[1, 0],\n",
       "       [2, 0],\n",
       "       [2, 2]])"
      ]
     },
     "execution_count": 75,
     "metadata": {},
     "output_type": "execute_result"
    }
   ],
   "source": [
    "# binomial distribution\n",
    "np.random.binomial(n=10, p=0.25, size=(3, 2))"
   ]
  },
  {
   "cell_type": "markdown",
   "id": "bc512fc8",
   "metadata": {},
   "source": [
    "# [numpy.random.binomial](https://numpy.org/doc/stable/reference/random/generated/numpy.random.binomial.html)"
   ]
  },
  {
   "cell_type": "markdown",
   "id": "e4458a49",
   "metadata": {},
   "source": [
    "# <span style='color: red'>Attention (code below)</span>"
   ]
  },
  {
   "cell_type": "code",
   "execution_count": 76,
   "id": "a9121711",
   "metadata": {},
   "outputs": [
    {
     "data": {
      "text/plain": [
       "Generator(PCG64) at 0x1F6BD3E54A0"
      ]
     },
     "execution_count": 76,
     "metadata": {},
     "output_type": "execute_result"
    }
   ],
   "source": [
    "generator = np.random.default_rng(seed=123)\n",
    "# позволяет обходить различные seed в разных версиях NumPy\n",
    "generator"
   ]
  },
  {
   "cell_type": "markdown",
   "id": "049d0221",
   "metadata": {},
   "source": [
    "# [Random Generator](https://numpy.org/doc/stable/reference/random/generator.html)"
   ]
  },
  {
   "cell_type": "code",
   "execution_count": 77,
   "id": "38e3af27",
   "metadata": {},
   "outputs": [
    {
     "data": {
      "text/plain": [
       "array([1, 5, 4], dtype=int64)"
      ]
     },
     "execution_count": 77,
     "metadata": {},
     "output_type": "execute_result"
    }
   ],
   "source": [
    "# np.random.randint(low=1, high=7, size=3)\n",
    "generator.integers(low=1, high=7, size=3)"
   ]
  },
  {
   "cell_type": "code",
   "execution_count": 78,
   "id": "e8fdc9d2",
   "metadata": {},
   "outputs": [
    {
     "data": {
      "text/plain": [
       "array([0, 9, 2], dtype=int64)"
      ]
     },
     "execution_count": 78,
     "metadata": {},
     "output_type": "execute_result"
    }
   ],
   "source": [
    "# np.random.choice(a=10, size=3, replace=True)\n",
    "generator.choice(a=10, size=3, replace=True)"
   ]
  },
  {
   "cell_type": "markdown",
   "id": "4fc62cc6",
   "metadata": {},
   "source": [
    "# Problem 4\n",
    "\n",
    "You’re a relationship scientist, and you’ve developed a questionnaire that determines a person’s love score - a real-valued number between 0 and 100. Your theory is that two people with similar love scores should make a good match 👩‍❤️‍💋‍👨\n",
    "\n",
    "Given the love scores for 10 different people, create a 2-d array where (i,j) gives the absolute difference of the love scores for person i and person j."
   ]
  },
  {
   "cell_type": "code",
   "execution_count": 79,
   "id": "4bd1decf",
   "metadata": {},
   "outputs": [
    {
     "data": {
      "text/plain": [
       "array([ 9.5 , 53.58, 91.77, 98.15, 84.88, 74.61, 40.94, 56.49,  8.39,\n",
       "       64.69])"
      ]
     },
     "execution_count": 79,
     "metadata": {},
     "output_type": "execute_result"
    }
   ],
   "source": [
    "generator = np.random.default_rng(1010)\n",
    "love_scores = np.round(generator.uniform(low=0, high=100, size=10), 2)\n",
    "love_scores"
   ]
  },
  {
   "cell_type": "code",
   "execution_count": 80,
   "id": "c11f0b02",
   "metadata": {},
   "outputs": [
    {
     "data": {
      "text/plain": [
       "array([[ 0.  , 44.08, 82.27, 88.65, 75.38, 65.11, 31.44, 46.99,  1.11,\n",
       "        55.19],\n",
       "       [44.08,  0.  , 38.19, 44.57, 31.3 , 21.03, 12.64,  2.91, 45.19,\n",
       "        11.11],\n",
       "       [82.27, 38.19,  0.  ,  6.38,  6.89, 17.16, 50.83, 35.28, 83.38,\n",
       "        27.08],\n",
       "       [88.65, 44.57,  6.38,  0.  , 13.27, 23.54, 57.21, 41.66, 89.76,\n",
       "        33.46],\n",
       "       [75.38, 31.3 ,  6.89, 13.27,  0.  , 10.27, 43.94, 28.39, 76.49,\n",
       "        20.19],\n",
       "       [65.11, 21.03, 17.16, 23.54, 10.27,  0.  , 33.67, 18.12, 66.22,\n",
       "         9.92],\n",
       "       [31.44, 12.64, 50.83, 57.21, 43.94, 33.67,  0.  , 15.55, 32.55,\n",
       "        23.75],\n",
       "       [46.99,  2.91, 35.28, 41.66, 28.39, 18.12, 15.55,  0.  , 48.1 ,\n",
       "         8.2 ],\n",
       "       [ 1.11, 45.19, 83.38, 89.76, 76.49, 66.22, 32.55, 48.1 ,  0.  ,\n",
       "        56.3 ],\n",
       "       [55.19, 11.11, 27.08, 33.46, 20.19,  9.92, 23.75,  8.2 , 56.3 ,\n",
       "         0.  ]])"
      ]
     },
     "execution_count": 80,
     "metadata": {},
     "output_type": "execute_result"
    }
   ],
   "source": [
    "# находит разницу каждого с каждым\n",
    "# решение автора\n",
    "np.abs(love_scores[:, None] - love_scores[None, :])"
   ]
  },
  {
   "cell_type": "code",
   "execution_count": 81,
   "id": "ad142691",
   "metadata": {},
   "outputs": [
    {
     "data": {
      "text/plain": [
       "array([[ 0.  , 44.08, 82.27, 88.65, 75.38, 65.11, 31.44, 46.99,  1.11,\n",
       "        55.19],\n",
       "       [44.08,  0.  , 38.19, 44.57, 31.3 , 21.03, 12.64,  2.91, 45.19,\n",
       "        11.11],\n",
       "       [82.27, 38.19,  0.  ,  6.38,  6.89, 17.16, 50.83, 35.28, 83.38,\n",
       "        27.08],\n",
       "       [88.65, 44.57,  6.38,  0.  , 13.27, 23.54, 57.21, 41.66, 89.76,\n",
       "        33.46],\n",
       "       [75.38, 31.3 ,  6.89, 13.27,  0.  , 10.27, 43.94, 28.39, 76.49,\n",
       "        20.19],\n",
       "       [65.11, 21.03, 17.16, 23.54, 10.27,  0.  , 33.67, 18.12, 66.22,\n",
       "         9.92],\n",
       "       [31.44, 12.64, 50.83, 57.21, 43.94, 33.67,  0.  , 15.55, 32.55,\n",
       "        23.75],\n",
       "       [46.99,  2.91, 35.28, 41.66, 28.39, 18.12, 15.55,  0.  , 48.1 ,\n",
       "         8.2 ],\n",
       "       [ 1.11, 45.19, 83.38, 89.76, 76.49, 66.22, 32.55, 48.1 ,  0.  ,\n",
       "        56.3 ],\n",
       "       [55.19, 11.11, 27.08, 33.46, 20.19,  9.92, 23.75,  8.2 , 56.3 ,\n",
       "         0.  ]])"
      ]
     },
     "execution_count": 81,
     "metadata": {},
     "output_type": "execute_result"
    }
   ],
   "source": [
    "# моё авторское решение\n",
    "np.array([abs(love_scores - i) for i in love_scores])"
   ]
  },
  {
   "cell_type": "markdown",
   "id": "74cc2542",
   "metadata": {},
   "source": [
    "# [numpy.set_printoptions](https://numpy.org/doc/stable/reference/generated/numpy.set_printoptions.html)"
   ]
  },
  {
   "cell_type": "code",
   "execution_count": 82,
   "id": "76d8e21c",
   "metadata": {},
   "outputs": [
    {
     "data": {
      "text/plain": [
       "array([[ 0.  , 44.08, 82.27, 88.65, 75.38, 65.11, 31.44, 46.99,  1.11,\n",
       "        55.19],\n",
       "       [44.08,  0.  , 38.19, 44.57, 31.3 , 21.03, 12.64,  2.91, 45.19,\n",
       "        11.11],\n",
       "       [82.27, 38.19,  0.  ,  6.38,  6.89, 17.16, 50.83, 35.28, 83.38,\n",
       "        27.08],\n",
       "       [88.65, 44.57,  6.38,  0.  , 13.27, 23.54, 57.21, 41.66, 89.76,\n",
       "        33.46],\n",
       "       [75.38, 31.3 ,  6.89, 13.27,  0.  , 10.27, 43.94, 28.39, 76.49,\n",
       "        20.19],\n",
       "       [65.11, 21.03, 17.16, 23.54, 10.27,  0.  , 33.67, 18.12, 66.22,\n",
       "         9.92],\n",
       "       [31.44, 12.64, 50.83, 57.21, 43.94, 33.67,  0.  , 15.55, 32.55,\n",
       "        23.75],\n",
       "       [46.99,  2.91, 35.28, 41.66, 28.39, 18.12, 15.55,  0.  , 48.1 ,\n",
       "         8.2 ],\n",
       "       [ 1.11, 45.19, 83.38, 89.76, 76.49, 66.22, 32.55, 48.1 ,  0.  ,\n",
       "        56.3 ],\n",
       "       [55.19, 11.11, 27.08, 33.46, 20.19,  9.92, 23.75,  8.2 , 56.3 ,\n",
       "         0.  ]])"
      ]
     },
     "execution_count": 82,
     "metadata": {},
     "output_type": "execute_result"
    }
   ],
   "source": [
    "# another version with broadcasting\n",
    "np.array(abs(love_scores.reshape(10, 1) - love_scores))"
   ]
  },
  {
   "cell_type": "code",
   "execution_count": 83,
   "id": "6b8bc771",
   "metadata": {},
   "outputs": [
    {
     "data": {
      "text/plain": [
       "array([[ 9.5 ],\n",
       "       [53.58],\n",
       "       [91.77],\n",
       "       [98.15],\n",
       "       [84.88],\n",
       "       [74.61],\n",
       "       [40.94],\n",
       "       [56.49],\n",
       "       [ 8.39],\n",
       "       [64.69]])"
      ]
     },
     "execution_count": 83,
     "metadata": {},
     "output_type": "execute_result"
    }
   ],
   "source": [
    "love_scores[:, None]  # ignore column's quantity"
   ]
  },
  {
   "cell_type": "markdown",
   "id": "e2ee285e",
   "metadata": {},
   "source": [
    "# problem 5\n",
    "\n",
    "Eager to make your mark on the PTA, you decide the best way to hide eggs for the upcoming Easter egg hunt is to use NumPy . You represent the field as a 10x10 array of 0s.\n",
    "nsert 20 random normal values at random (non repeating) locations in the grid. Then you'll know how much candy to hide at each spot."
   ]
  },
  {
   "cell_type": "code",
   "execution_count": 84,
   "id": "0b3c5473",
   "metadata": {},
   "outputs": [
    {
     "name": "stdout",
     "output_type": "stream",
     "text": [
      "[[0. 0. 0. 0. 0. 0. 0. 0. 0. 0.]\n",
      " [0. 0. 0. 0. 0. 0. 0. 0. 0. 0.]\n",
      " [0. 0. 0. 0. 0. 0. 0. 0. 0. 0.]\n",
      " [0. 0. 0. 0. 0. 0. 0. 0. 0. 0.]\n",
      " [0. 0. 0. 0. 0. 0. 0. 0. 0. 0.]\n",
      " [0. 0. 0. 0. 0. 0. 0. 0. 0. 0.]\n",
      " [0. 0. 0. 0. 0. 0. 0. 0. 0. 0.]\n",
      " [0. 0. 0. 0. 0. 0. 0. 0. 0. 0.]\n",
      " [0. 0. 0. 0. 0. 0. 0. 0. 0. 0.]\n",
      " [0. 0. 0. 0. 0. 0. 0. 0. 0. 0.]]\n"
     ]
    }
   ],
   "source": [
    "field = np.zeros(shape=(10, 10))\n",
    "print(field)"
   ]
  },
  {
   "cell_type": "code",
   "execution_count": 85,
   "id": "e1175652",
   "metadata": {},
   "outputs": [
    {
     "data": {
      "text/plain": [
       "array([[ 0.  ,  0.  ,  0.  ,  0.  ,  0.  ,  0.  ,  0.  ,  0.  ,  0.  ,\n",
       "        -0.33],\n",
       "       [ 0.  ,  0.  ,  1.7 ,  0.  ,  0.  ,  0.  ,  0.  ,  0.  ,  0.  ,\n",
       "         0.  ],\n",
       "       [ 0.  , -2.42,  0.  ,  0.  ,  0.15,  0.  ,  0.  ,  0.  , -0.56,\n",
       "         0.  ],\n",
       "       [ 0.  ,  1.67,  0.  ,  0.  , -0.86,  0.  ,  0.  ,  0.  ,  0.2 ,\n",
       "         0.  ],\n",
       "       [ 0.  ,  0.  ,  0.  ,  0.  ,  0.  ,  0.  ,  0.  , -1.01, -0.25,\n",
       "         0.  ],\n",
       "       [ 0.  ,  0.  , -1.6 ,  0.  ,  0.  , -1.7 ,  0.  ,  1.69,  0.  ,\n",
       "         0.  ],\n",
       "       [ 0.91,  0.  ,  0.  ,  0.  ,  0.19,  0.  ,  0.  ,  0.  ,  0.  ,\n",
       "         0.  ],\n",
       "       [ 0.  ,  0.  ,  0.  ,  0.  ,  0.  ,  0.  ,  0.  ,  0.  ,  0.  ,\n",
       "         0.  ],\n",
       "       [ 0.  ,  0.  ,  0.  ,  0.  , -0.73,  0.12,  0.  ,  0.  ,  0.  ,\n",
       "        -0.37],\n",
       "       [ 0.  ,  0.  ,  0.  ,  0.  ,  0.43,  0.  ,  0.  ,  0.  ,  0.77,\n",
       "         0.  ]])"
      ]
     },
     "execution_count": 85,
     "metadata": {},
     "output_type": "execute_result"
    }
   ],
   "source": [
    "# solution\n",
    "values = np.round(generator.normal(size=20), 2)  # get 20 values\n",
    "locations = generator.choice(a=field.size, size=len(values), replace=False)\n",
    "field.ravel()[locations] = values  # ravel сглаживает массив, делая его вектор-строкой\n",
    "field\n",
    "# field.size and len(values) are more dynamic"
   ]
  },
  {
   "cell_type": "markdown",
   "id": "145163a8",
   "metadata": {},
   "source": [
    "# [numpy.random.choice](https://numpy.org/doc/stable/reference/random/generated/numpy.random.choice.html)"
   ]
  },
  {
   "cell_type": "markdown",
   "id": "e43c009b",
   "metadata": {},
   "source": [
    "# [numpy.ravel](https://numpy.org/doc/stable/reference/generated/numpy.ravel.html)"
   ]
  },
  {
   "cell_type": "markdown",
   "id": "e33f576a",
   "metadata": {},
   "source": [
    "# Where"
   ]
  },
  {
   "cell_type": "code",
   "execution_count": 86,
   "id": "4a38c66b",
   "metadata": {},
   "outputs": [],
   "source": [
    "import numpy as np\n",
    "\n",
    "generator = np.random.default_rng(seed=42)"
   ]
  },
  {
   "cell_type": "code",
   "execution_count": 87,
   "id": "ebda5a01",
   "metadata": {},
   "outputs": [],
   "source": [
    "# numbers between 0 and 5\n",
    "foo = generator.integers(6, size=2_000_000)\n",
    "bar = generator.integers(6, size=2_000_000)"
   ]
  },
  {
   "cell_type": "markdown",
   "id": "9d4f606e",
   "metadata": {},
   "source": [
    "## np.where позволяет все вычисления отправить с Python на C, а потом вернуть результат на Python. Иначе бы каждую итерацию рассчет перtходил бы от C к Python и обратно "
   ]
  },
  {
   "cell_type": "code",
   "execution_count": 88,
   "id": "fd9b44d2",
   "metadata": {},
   "outputs": [
    {
     "name": "stdout",
     "output_type": "stream",
     "text": [
      "66.5 ms ± 6.52 ms per loop (mean ± std. dev. of 7 runs, 10 loops each)\n"
     ]
    }
   ],
   "source": [
    "%%timeit\n",
    "np.where(bar % 2 == 0, foo * 2, foo / 0.5)\n",
    "# второй аргумент, если True, третий, если False"
   ]
  },
  {
   "cell_type": "markdown",
   "id": "74c9bc1a",
   "metadata": {},
   "source": [
    "# [numpy.where](https://numpy.org/doc/stable/reference/generated/numpy.where.html)"
   ]
  },
  {
   "cell_type": "markdown",
   "id": "e2ad7364",
   "metadata": {},
   "source": [
    "# Math"
   ]
  },
  {
   "cell_type": "code",
   "execution_count": 89,
   "id": "dcbf8e2f",
   "metadata": {},
   "outputs": [
    {
     "data": {
      "text/plain": [
       "nan"
      ]
     },
     "execution_count": 89,
     "metadata": {},
     "output_type": "execute_result"
    }
   ],
   "source": [
    "example = np.array([1, 2, 3, np.nan])\n",
    "np.sum(example)"
   ]
  },
  {
   "cell_type": "code",
   "execution_count": 90,
   "id": "183530be",
   "metadata": {},
   "outputs": [
    {
     "data": {
      "text/plain": [
       "6.0"
      ]
     },
     "execution_count": 90,
     "metadata": {},
     "output_type": "execute_result"
    }
   ],
   "source": [
    "# ~ equals to NOT (syntax sugar)\n",
    "np.sum(a=example, where=~np.isnan(example))"
   ]
  },
  {
   "cell_type": "code",
   "execution_count": 91,
   "id": "e2c819c9",
   "metadata": {},
   "outputs": [
    {
     "data": {
      "text/plain": [
       "array([1., 2., 3., 0.])"
      ]
     },
     "execution_count": 91,
     "metadata": {},
     "output_type": "execute_result"
    }
   ],
   "source": [
    "np.nan_to_num(x=example)"
   ]
  },
  {
   "cell_type": "markdown",
   "id": "b5298726",
   "metadata": {},
   "source": [
    "# [numpy.nan_to_num](https://numpy.org/doc/stable/reference/generated/numpy.nan_to_num.html)"
   ]
  },
  {
   "cell_type": "code",
   "execution_count": 92,
   "id": "e8c50509",
   "metadata": {},
   "outputs": [
    {
     "data": {
      "text/plain": [
       "6.0"
      ]
     },
     "execution_count": 92,
     "metadata": {},
     "output_type": "execute_result"
    }
   ],
   "source": [
    "np.nansum(a=example)"
   ]
  },
  {
   "cell_type": "markdown",
   "id": "39593312",
   "metadata": {},
   "source": [
    "# [numpy.nansum](https://numpy.org/doc/stable/reference/generated/numpy.nansum.html)"
   ]
  },
  {
   "cell_type": "markdown",
   "id": "c5bedb21",
   "metadata": {},
   "source": [
    "# all() any()"
   ]
  },
  {
   "cell_type": "code",
   "execution_count": 93,
   "id": "79c6af8a",
   "metadata": {},
   "outputs": [
    {
     "data": {
      "text/plain": [
       "array([[nan, 4.4],\n",
       "       [1. , 3.2],\n",
       "       [nan, nan],\n",
       "       [0.1, nan]])"
      ]
     },
     "execution_count": 93,
     "metadata": {},
     "output_type": "execute_result"
    }
   ],
   "source": [
    "foo = np.array([\n",
    "    [np.nan, 4.4],\n",
    "    [1.0, 3.2],\n",
    "    [np.nan, np.nan],\n",
    "    [0.1, np.nan]\n",
    "])\n",
    "foo"
   ]
  },
  {
   "cell_type": "code",
   "execution_count": 94,
   "id": "ccfe65d2",
   "metadata": {},
   "outputs": [
    {
     "data": {
      "text/plain": [
       "array([ True, False,  True,  True])"
      ]
     },
     "execution_count": 94,
     "metadata": {},
     "output_type": "execute_result"
    }
   ],
   "source": [
    "# even one\n",
    "np.any(np.isnan(foo), axis=1)  # check each row (axis=1)"
   ]
  },
  {
   "cell_type": "code",
   "execution_count": 95,
   "id": "ce909466",
   "metadata": {},
   "outputs": [
    {
     "data": {
      "text/plain": [
       "array([False, False,  True, False])"
      ]
     },
     "execution_count": 95,
     "metadata": {},
     "output_type": "execute_result"
    }
   ],
   "source": [
    "# each\n",
    "np.all(np.isnan(foo), axis=1)"
   ]
  },
  {
   "cell_type": "markdown",
   "id": "80478744",
   "metadata": {},
   "source": [
    "# concatenate"
   ]
  },
  {
   "cell_type": "code",
   "execution_count": 96,
   "id": "325bce48",
   "metadata": {},
   "outputs": [
    {
     "name": "stdout",
     "output_type": "stream",
     "text": [
      "[[0. 0.]\n",
      " [0. 0.]\n",
      " [0. 0.]]\n",
      "\n",
      "[[1. 1.]\n",
      " [1. 1.]]\n"
     ]
    }
   ],
   "source": [
    "roux = np.zeros(shape=(3, 2))\n",
    "gumbo = np.ones(shape=(2, 2))\n",
    "print(roux)\n",
    "print()\n",
    "print(gumbo)"
   ]
  },
  {
   "cell_type": "code",
   "execution_count": 97,
   "id": "b82a4869",
   "metadata": {},
   "outputs": [
    {
     "data": {
      "text/plain": [
       "array([[0., 0.],\n",
       "       [0., 0.],\n",
       "       [0., 0.],\n",
       "       [1., 1.],\n",
       "       [1., 1.]])"
      ]
     },
     "execution_count": 97,
     "metadata": {},
     "output_type": "execute_result"
    }
   ],
   "source": [
    "np.concatenate((roux, gumbo), axis=0)"
   ]
  },
  {
   "cell_type": "markdown",
   "id": "763d8996",
   "metadata": {},
   "source": [
    "# [numpy.concatenate](https://numpy.org/doc/stable/reference/generated/numpy.concatenate.html)"
   ]
  },
  {
   "cell_type": "markdown",
   "id": "09805010",
   "metadata": {},
   "source": [
    "# Stack"
   ]
  },
  {
   "cell_type": "code",
   "execution_count": 98,
   "id": "e441258b",
   "metadata": {},
   "outputs": [],
   "source": [
    "foo = np.array(['a', 'b'])\n",
    "bar = np.array(['c', 'd'])\n",
    "baz = np.array(['e', 'f'])\n",
    "bingo = np.array([['g', 'h', 'i']])\n",
    "bongo = np.array(\n",
    "    [['j', 'k'],\n",
    "     ['l', 'm']]\n",
    ")"
   ]
  },
  {
   "cell_type": "code",
   "execution_count": 99,
   "id": "1b71fa22",
   "metadata": {},
   "outputs": [
    {
     "data": {
      "text/plain": [
       "array([['a', 'b'],\n",
       "       ['c', 'd'],\n",
       "       ['e', 'f'],\n",
       "       ['j', 'k'],\n",
       "       ['l', 'm']], dtype='<U1')"
      ]
     },
     "execution_count": 99,
     "metadata": {},
     "output_type": "execute_result"
    }
   ],
   "source": [
    "# создаем 2d массив из трех 1d и наслаиваем их по вертикали\n",
    "np.vstack([foo, bar, baz, bongo])"
   ]
  },
  {
   "cell_type": "code",
   "execution_count": 100,
   "id": "5dd14161",
   "metadata": {},
   "outputs": [
    {
     "data": {
      "text/plain": [
       "array([['j', 'k', 'j', 'k'],\n",
       "       ['l', 'm', 'l', 'm']], dtype='<U1')"
      ]
     },
     "execution_count": 100,
     "metadata": {},
     "output_type": "execute_result"
    }
   ],
   "source": [
    "np.hstack([bongo, bongo])"
   ]
  },
  {
   "cell_type": "markdown",
   "id": "92b20d50",
   "metadata": {},
   "source": [
    "# [numpy.vstack](https://numpy.org/doc/stable/reference/generated/numpy.vstack.html)\n",
    "\n",
    "# [numpy.hstack](https://numpy.org/doc/stable/reference/generated/numpy.hstack.html)"
   ]
  },
  {
   "cell_type": "code",
   "execution_count": 101,
   "id": "2188a2a2",
   "metadata": {},
   "outputs": [
    {
     "data": {
      "text/plain": [
       "array(['a', 'b', 'c', 'd'], dtype='<U1')"
      ]
     },
     "execution_count": 101,
     "metadata": {},
     "output_type": "execute_result"
    }
   ],
   "source": [
    "np.hstack((foo, bar))"
   ]
  },
  {
   "cell_type": "code",
   "execution_count": 102,
   "id": "5c9397cd",
   "metadata": {},
   "outputs": [
    {
     "data": {
      "text/plain": [
       "array([['a', 'b'],\n",
       "       ['c', 'd']], dtype='<U1')"
      ]
     },
     "execution_count": 102,
     "metadata": {},
     "output_type": "execute_result"
    }
   ],
   "source": [
    "np.stack((foo, bar), axis=0)  # like vstack"
   ]
  },
  {
   "cell_type": "code",
   "execution_count": 103,
   "id": "2cd2e09e",
   "metadata": {},
   "outputs": [
    {
     "data": {
      "text/plain": [
       "array([['a', 'c'],\n",
       "       ['b', 'd']], dtype='<U1')"
      ]
     },
     "execution_count": 103,
     "metadata": {},
     "output_type": "execute_result"
    }
   ],
   "source": [
    "np.stack((foo, bar), axis=1)  # like transposed-vstack"
   ]
  },
  {
   "cell_type": "markdown",
   "id": "cc2cc2cc",
   "metadata": {},
   "source": [
    "# [numpy.stack](https://numpy.org/doc/stable/reference/generated/numpy.stack.html)"
   ]
  },
  {
   "cell_type": "markdown",
   "id": "e5611c5d",
   "metadata": {},
   "source": [
    "# Sort"
   ]
  },
  {
   "cell_type": "code",
   "execution_count": 104,
   "id": "106a1ec4",
   "metadata": {},
   "outputs": [
    {
     "data": {
      "text/plain": [
       "array([0, 1, 1, 3, 7, 9, 9])"
      ]
     },
     "execution_count": 104,
     "metadata": {},
     "output_type": "execute_result"
    }
   ],
   "source": [
    "foo = np.array([1, 7, 3, 9, 0, 9, 1])\n",
    "np.sort(a=foo, axis=0, kind='quicksort')"
   ]
  },
  {
   "cell_type": "code",
   "execution_count": 105,
   "id": "ff9d9614",
   "metadata": {},
   "outputs": [
    {
     "data": {
      "text/plain": [
       "array([1, 7, 3, 9, 0, 9, 1])"
      ]
     },
     "execution_count": 105,
     "metadata": {},
     "output_type": "execute_result"
    }
   ],
   "source": [
    "foo"
   ]
  },
  {
   "cell_type": "code",
   "execution_count": 106,
   "id": "f763d6c0",
   "metadata": {},
   "outputs": [
    {
     "data": {
      "text/plain": [
       "array([0, 1, 1, 3, 7, 9, 9])"
      ]
     },
     "execution_count": 106,
     "metadata": {},
     "output_type": "execute_result"
    }
   ],
   "source": [
    "foo.sort()\n",
    "foo  # отсортирована"
   ]
  },
  {
   "cell_type": "code",
   "execution_count": 107,
   "id": "5dee4fa6",
   "metadata": {},
   "outputs": [
    {
     "data": {
      "text/plain": [
       "array([ 3.,  5., 11., nan])"
      ]
     },
     "execution_count": 107,
     "metadata": {},
     "output_type": "execute_result"
    }
   ],
   "source": [
    "bar = np.array([5, np.nan, 3, 11])\n",
    "np.sort(bar)"
   ]
  },
  {
   "cell_type": "markdown",
   "id": "4e81b59b",
   "metadata": {},
   "source": [
    "# <span style='color: red'>Attention (code below)</span>"
   ]
  },
  {
   "cell_type": "code",
   "execution_count": 108,
   "id": "4166a889",
   "metadata": {},
   "outputs": [
    {
     "data": {
      "text/plain": [
       "array([nan, 11.,  5.,  3.])"
      ]
     },
     "execution_count": 108,
     "metadata": {},
     "output_type": "execute_result"
    }
   ],
   "source": [
    "# сортировка по-убыванию (вариант 1)\n",
    "np.sort(bar)[::-1]  # nan is biggest"
   ]
  },
  {
   "cell_type": "code",
   "execution_count": 109,
   "id": "b3205ce3",
   "metadata": {},
   "outputs": [
    {
     "data": {
      "text/plain": [
       "array([11.,  5.,  3., nan])"
      ]
     },
     "execution_count": 109,
     "metadata": {},
     "output_type": "execute_result"
    }
   ],
   "source": [
    "# descending order sort (variant 2)\n",
    "-np.sort(-bar)  # nan is smallest"
   ]
  },
  {
   "cell_type": "code",
   "execution_count": 110,
   "id": "e93e3bd3",
   "metadata": {},
   "outputs": [
    {
     "data": {
      "text/plain": [
       "array([[55, 10, 12],\n",
       "       [20,  0, 33],\n",
       "       [55, 92,  3]])"
      ]
     },
     "execution_count": 110,
     "metadata": {},
     "output_type": "execute_result"
    }
   ],
   "source": [
    "boo = np.array([\n",
    "    [55, 10, 12],\n",
    "    [20, 0, 33],\n",
    "    [55, 92, 3]\n",
    "])\n",
    "boo"
   ]
  },
  {
   "cell_type": "code",
   "execution_count": 111,
   "id": "135be5d0",
   "metadata": {},
   "outputs": [
    {
     "data": {
      "text/plain": [
       "array([[20,  0,  3],\n",
       "       [55, 10, 12],\n",
       "       [55, 92, 33]])"
      ]
     },
     "execution_count": 111,
     "metadata": {},
     "output_type": "execute_result"
    }
   ],
   "source": [
    "np.sort(boo, axis=0)"
   ]
  },
  {
   "cell_type": "code",
   "execution_count": 112,
   "id": "9f2e0927",
   "metadata": {},
   "outputs": [
    {
     "data": {
      "text/plain": [
       "array([[10, 12, 55],\n",
       "       [ 0, 20, 33],\n",
       "       [ 3, 55, 92]])"
      ]
     },
     "execution_count": 112,
     "metadata": {},
     "output_type": "execute_result"
    }
   ],
   "source": [
    "np.sort(boo, axis=1)\n",
    "# axis=-1 means last axis of existing"
   ]
  },
  {
   "cell_type": "markdown",
   "id": "c71bbe4b",
   "metadata": {},
   "source": [
    "# [numpy.argsort](https://numpy.org/doc/stable/reference/generated/numpy.argsort.html)"
   ]
  },
  {
   "cell_type": "code",
   "execution_count": 113,
   "id": "14542e58",
   "metadata": {},
   "outputs": [
    {
     "data": {
      "text/plain": [
       "array([[1, 1, 2],\n",
       "       [0, 0, 0],\n",
       "       [2, 2, 1]], dtype=int64)"
      ]
     },
     "execution_count": 113,
     "metadata": {},
     "output_type": "execute_result"
    }
   ],
   "source": [
    "np.argsort(boo, axis=0)  # sort by vertical"
   ]
  },
  {
   "cell_type": "code",
   "execution_count": 114,
   "id": "e6efd3ba",
   "metadata": {},
   "outputs": [
    {
     "data": {
      "text/plain": [
       "array([[1, 2, 0],\n",
       "       [1, 0, 2],\n",
       "       [2, 0, 1]], dtype=int64)"
      ]
     },
     "execution_count": 114,
     "metadata": {},
     "output_type": "execute_result"
    }
   ],
   "source": [
    "np.argsort(boo, axis=1)"
   ]
  },
  {
   "cell_type": "markdown",
   "id": "cbce51f0",
   "metadata": {},
   "source": [
    "# [numpy.take_along_axis](https://numpy.org/doc/stable/reference/generated/numpy.take_along_axis.html)"
   ]
  },
  {
   "cell_type": "code",
   "execution_count": 115,
   "id": "145d7681",
   "metadata": {},
   "outputs": [
    {
     "data": {
      "text/plain": [
       "array([[20,  0,  3],\n",
       "       [55, 10, 12],\n",
       "       [55, 92, 33]])"
      ]
     },
     "execution_count": 115,
     "metadata": {},
     "output_type": "execute_result"
    }
   ],
   "source": [
    "np.take_along_axis(arr=boo, indices=np.argsort(boo, axis=0), axis=0)"
   ]
  },
  {
   "cell_type": "markdown",
   "id": "19f9b9e1",
   "metadata": {},
   "source": [
    "# unique"
   ]
  },
  {
   "cell_type": "code",
   "execution_count": 116,
   "id": "9ee24b0c",
   "metadata": {},
   "outputs": [
    {
     "data": {
      "text/plain": [
       "array([ 1, 15, 29, 34])"
      ]
     },
     "execution_count": 116,
     "metadata": {},
     "output_type": "execute_result"
    }
   ],
   "source": [
    "# unique appears in sorted order\n",
    "a = np.array([34, 15, 29, 34, 34, 1, 1])\n",
    "np.unique(a)"
   ]
  },
  {
   "cell_type": "code",
   "execution_count": 117,
   "id": "73a1c444",
   "metadata": {},
   "outputs": [
    {
     "data": {
      "text/plain": [
       "(array([ 1, 15, 29, 34]), array([5, 1, 2, 0], dtype=int64))"
      ]
     },
     "execution_count": 117,
     "metadata": {},
     "output_type": "execute_result"
    }
   ],
   "source": [
    "# index of first appearing of previos matrix\n",
    "np.unique(ar=a, return_index=True)"
   ]
  },
  {
   "cell_type": "code",
   "execution_count": 118,
   "id": "81d50005",
   "metadata": {},
   "outputs": [
    {
     "data": {
      "text/plain": [
       "array([3, 1, 2, 0], dtype=int64)"
      ]
     },
     "execution_count": 118,
     "metadata": {},
     "output_type": "execute_result"
    }
   ],
   "source": [
    "uniques, first_positions = np.unique(a, return_index=True)\n",
    "intermediate = np.argsort(first_positions)\n",
    "intermediate"
   ]
  },
  {
   "cell_type": "code",
   "execution_count": 119,
   "id": "3ffa962f",
   "metadata": {},
   "outputs": [
    {
     "data": {
      "text/plain": [
       "array([34, 15, 29,  1])"
      ]
     },
     "execution_count": 119,
     "metadata": {},
     "output_type": "execute_result"
    }
   ],
   "source": [
    "uniques[intermediate]"
   ]
  },
  {
   "cell_type": "markdown",
   "id": "4575c571",
   "metadata": {},
   "source": [
    "# problem 6\n",
    "\n",
    "You’re given a 10x2 array of floats where each row represents a movie. The first column represents the movie’s rating and the second column represents the director’s rating."
   ]
  },
  {
   "cell_type": "code",
   "execution_count": 155,
   "id": "31509a07",
   "metadata": {},
   "outputs": [
    {
     "data": {
      "text/plain": [
       "array([[ 7.,  1.],\n",
       "       [nan,  2.],\n",
       "       [nan,  8.],\n",
       "       [ 9.,  3.],\n",
       "       [ 8.,  9.],\n",
       "       [ 5.,  2.],\n",
       "       [ 8.,  2.],\n",
       "       [nan,  6.],\n",
       "       [ 9.,  2.],\n",
       "       [nan,  5.]])"
      ]
     },
     "execution_count": 155,
     "metadata": {},
     "output_type": "execute_result"
    }
   ],
   "source": [
    "generator = np.random.default_rng(123)\n",
    "ratings = np.round(generator.uniform(low=0.0, high=10.0, size=(10, 2)))\n",
    "ratings[[1, 2, 7, 9], [0, 0, 0, 0]] = np.nan\n",
    "ratings"
   ]
  },
  {
   "cell_type": "markdown",
   "id": "0e104585",
   "metadata": {},
   "source": [
    "### my solution"
   ]
  },
  {
   "cell_type": "code",
   "execution_count": 175,
   "id": "42e4092b",
   "metadata": {},
   "outputs": [
    {
     "data": {
      "text/plain": [
       "array([7., 2., 8., 9., 8., 5., 8., 6., 9., 5.])"
      ]
     },
     "execution_count": 175,
     "metadata": {},
     "output_type": "execute_result"
    }
   ],
   "source": [
    "ratings = np.nan_to_num(x=ratings, nan=0)\n",
    "# np.transpose() doesn't change 1D-array\n",
    "result = np.array(list(map(lambda x: x[1] if x[0] == 0 else x[0], ratings)))\n",
    "result"
   ]
  },
  {
   "cell_type": "code",
   "execution_count": 176,
   "id": "67f33456",
   "metadata": {},
   "outputs": [
    {
     "data": {
      "text/plain": [
       "array([[7., 1., 7.],\n",
       "       [0., 2., 2.],\n",
       "       [0., 8., 8.],\n",
       "       [9., 3., 9.],\n",
       "       [8., 9., 8.],\n",
       "       [5., 2., 5.],\n",
       "       [8., 2., 8.],\n",
       "       [0., 6., 6.],\n",
       "       [9., 2., 9.],\n",
       "       [0., 5., 5.]])"
      ]
     },
     "execution_count": 176,
     "metadata": {},
     "output_type": "execute_result"
    }
   ],
   "source": [
    "rating_table = np.concatenate((ratings, result.reshape(10, 1)), axis=1)\n",
    "rating_table"
   ]
  },
  {
   "cell_type": "code",
   "execution_count": 177,
   "id": "8be413d5",
   "metadata": {},
   "outputs": [
    {
     "data": {
      "text/plain": [
       "array([[7.],\n",
       "       [2.],\n",
       "       [8.],\n",
       "       [9.],\n",
       "       [8.],\n",
       "       [5.],\n",
       "       [8.],\n",
       "       [6.],\n",
       "       [9.],\n",
       "       [5.]])"
      ]
     },
     "execution_count": 177,
     "metadata": {},
     "output_type": "execute_result"
    }
   ],
   "source": [
    "final_score = rating_table[:, 2].reshape(10, 1)\n",
    "final_score"
   ]
  },
  {
   "cell_type": "markdown",
   "id": "7ba6dc01",
   "metadata": {},
   "source": [
    "### author's solution"
   ]
  },
  {
   "cell_type": "code",
   "execution_count": 184,
   "id": "82f6541b",
   "metadata": {},
   "outputs": [
    {
     "data": {
      "text/plain": [
       "array([[7., 1., 7.],\n",
       "       [0., 2., 0.],\n",
       "       [0., 8., 0.],\n",
       "       [9., 3., 9.],\n",
       "       [8., 9., 8.],\n",
       "       [5., 2., 5.],\n",
       "       [8., 2., 8.],\n",
       "       [0., 6., 0.],\n",
       "       [9., 2., 9.],\n",
       "       [0., 5., 0.]])"
      ]
     },
     "execution_count": 184,
     "metadata": {},
     "output_type": "execute_result"
    }
   ],
   "source": [
    "x = np.where(np.isnan(ratings[:, 0]), ratings[:, 1], ratings[:, 0])\n",
    "result = np.insert(arr=ratings, obj=2, values=x, axis=1)  # axis=1 like a column, obj - index\n",
    "result"
   ]
  },
  {
   "cell_type": "markdown",
   "id": "0bd4e2c7",
   "metadata": {},
   "source": [
    "# problem 7\n",
    "\n",
    "10 fish occupy a 5x5x5 grid of water 🐟. Each fish decides to move to a new (i,j,k) location given by the 2-d array below. If multiple fish end up occupying the same cell, the biggest fish eats the smaller fish. Determine which fish survive."
   ]
  },
  {
   "cell_type": "code",
   "execution_count": 191,
   "id": "7c1d49d2",
   "metadata": {},
   "outputs": [
    {
     "data": {
      "text/plain": [
       "array([3.30129983, 5.53799701, 4.77438601, 3.90979106, 5.55391264,\n",
       "       3.49884555, 5.44545933, 6.3448172 , 3.87635673, 5.21216015])"
      ]
     },
     "execution_count": 191,
     "metadata": {},
     "output_type": "execute_result"
    }
   ],
   "source": [
    "locs = np.array([\n",
    "    [0, 0, 0], \n",
    "    [1, 1, 2],\n",
    "    [0, 0, 0],\n",
    "    [2, 1, 3],\n",
    "    [5, 5, 4],\n",
    "    [5, 0, 0],\n",
    "    [5, 0, 0],\n",
    "    [0, 0, 0],\n",
    "    [2, 1, 3],\n",
    "    [1, 3, 1]\n",
    "])\n",
    "\n",
    "generator = np.random.default_rng(1010)\n",
    "weights = generator.normal(loc=5, size=10)\n",
    "weights"
   ]
  },
  {
   "cell_type": "code",
   "execution_count": 192,
   "id": "fde20cc1",
   "metadata": {},
   "outputs": [
    {
     "data": {
      "text/plain": [
       "array([7, 4, 1, 6, 9, 2, 3, 8, 5, 0], dtype=int64)"
      ]
     },
     "execution_count": 192,
     "metadata": {},
     "output_type": "execute_result"
    }
   ],
   "source": [
    "# indexes of sorted weights\n",
    "sorted_fish = np.argsort(weights)[::-1]  \n",
    "sorted_fish"
   ]
  },
  {
   "cell_type": "code",
   "execution_count": 195,
   "id": "8a4b52dc",
   "metadata": {},
   "outputs": [
    {
     "name": "stdout",
     "output_type": "stream",
     "text": [
      "[[0 0 0]\n",
      " [1 1 2]\n",
      " [1 3 1]\n",
      " [2 1 3]\n",
      " [5 0 0]\n",
      " [5 5 4]]\n",
      "[0 2 4 6 3 1]\n"
     ]
    }
   ],
   "source": [
    "# get indexes of biggest survived fishes\n",
    "unique, first_idxs = np.unique(ar=locs[sorted_fish], axis=0, return_index=True)\n",
    "print(unique)\n",
    "print(first_idxs)"
   ]
  },
  {
   "cell_type": "code",
   "execution_count": 197,
   "id": "a8045faa",
   "metadata": {},
   "outputs": [
    {
     "data": {
      "text/plain": [
       "array([7, 1, 9, 3, 6, 4], dtype=int64)"
      ]
     },
     "execution_count": 197,
     "metadata": {},
     "output_type": "execute_result"
    }
   ],
   "source": [
    "# stay only survived fish\n",
    "survivors = sorted_fish[first_idxs]\n",
    "survivors"
   ]
  },
  {
   "cell_type": "markdown",
   "id": "977eb21d",
   "metadata": {},
   "source": [
    "![](https://i.ytimg.com/vi/GB9ByFAIAH4/maxresdefault.jpg)"
   ]
  },
  {
   "cell_type": "markdown",
   "id": "4eef0c1b",
   "metadata": {},
   "source": [
    "# Advanced indexes"
   ]
  },
  {
   "cell_type": "code",
   "execution_count": 199,
   "id": "d8bd9886",
   "metadata": {},
   "outputs": [
    {
     "data": {
      "text/plain": [
       "array([[[ 0,  1,  2,  3],\n",
       "        [ 4,  5,  6,  7]],\n",
       "\n",
       "       [[ 8,  9, 10, 11],\n",
       "        [12, 13, 14, 15]],\n",
       "\n",
       "       [[16, 17, 18, 19],\n",
       "        [20, 21, 22, 23]]])"
      ]
     },
     "execution_count": 199,
     "metadata": {},
     "output_type": "execute_result"
    }
   ],
   "source": [
    "foo = np.arange(3 * 2 * 4).reshape((3, 2, 4))\n",
    "foo"
   ]
  },
  {
   "cell_type": "code",
   "execution_count": 200,
   "id": "bae5f619",
   "metadata": {},
   "outputs": [
    {
     "data": {
      "text/plain": [
       "array([[ 0,  4],\n",
       "       [ 8, 12],\n",
       "       [16, 20]])"
      ]
     },
     "execution_count": 200,
     "metadata": {},
     "output_type": "execute_result"
    }
   ],
   "source": [
    "foo[:, :, 0]"
   ]
  },
  {
   "cell_type": "markdown",
   "id": "ae297363",
   "metadata": {},
   "source": [
    "# <span style='color: red'>Attention (code below)</span>"
   ]
  },
  {
   "cell_type": "code",
   "execution_count": 203,
   "id": "8e7aea87",
   "metadata": {},
   "outputs": [
    {
     "data": {
      "text/plain": [
       "array([[ 0, 17],\n",
       "       [16,  2],\n",
       "       [12, 15]])"
      ]
     },
     "execution_count": 203,
     "metadata": {},
     "output_type": "execute_result"
    }
   ],
   "source": [
    "foo[[[0, 2], [2, 0], [1, 1]],  # matrix - axis (i)\n",
    "    [[0, 0], [0, 0], [1, 1]],  # row - axis (j)\n",
    "    [[0, 1], [0, 2], [0, 3]]]  # column - axis (k)\n",
    "# result matrix is also 3x2 shape"
   ]
  },
  {
   "cell_type": "code",
   "execution_count": 204,
   "id": "f1e42c5f",
   "metadata": {},
   "outputs": [
    {
     "data": {
      "text/plain": [
       "array([[ 0, 12],\n",
       "       [ 1, 13],\n",
       "       [ 2, 14]])"
      ]
     },
     "execution_count": 204,
     "metadata": {},
     "output_type": "execute_result"
    }
   ],
   "source": [
    "foo[[0, 1],\n",
    "    [0, 1],\n",
    "    [[0], [1], [2]]]  # 3x2 shape! Last submatrix transpose"
   ]
  },
  {
   "cell_type": "code",
   "execution_count": 207,
   "id": "2925d065",
   "metadata": {},
   "outputs": [
    {
     "data": {
      "text/plain": [
       "array([[[ 0,  1,  2,  3],\n",
       "        [ 4,  5,  6,  7]],\n",
       "\n",
       "       [[ 8,  9, 10, 11],\n",
       "        [12, 13, 14, 15]],\n",
       "\n",
       "       [[16, 17, 18, 19],\n",
       "        [20, 21, 22, 23]]])"
      ]
     },
     "execution_count": 207,
     "metadata": {},
     "output_type": "execute_result"
    }
   ],
   "source": [
    "foo"
   ]
  },
  {
   "cell_type": "code",
   "execution_count": 206,
   "id": "eec15264",
   "metadata": {},
   "outputs": [
    {
     "data": {
      "text/plain": [
       "array([[[ 0,  4],\n",
       "        [ 0,  4],\n",
       "        [16, 20],\n",
       "        [16, 20]],\n",
       "\n",
       "       [[ 1,  5],\n",
       "        [ 1,  5],\n",
       "        [17, 21],\n",
       "        [17, 21]],\n",
       "\n",
       "       [[ 2,  6],\n",
       "        [ 2,  6],\n",
       "        [18, 22],\n",
       "        [18, 22]]])"
      ]
     },
     "execution_count": 206,
     "metadata": {},
     "output_type": "execute_result"
    }
   ],
   "source": [
    "# fucking example by course's author\n",
    "foo[[0, 0, 2, 2], :, [[0], [1], [2]]]"
   ]
  },
  {
   "cell_type": "markdown",
   "id": "49a96bdf",
   "metadata": {},
   "source": [
    "### broadcast - транслировать, распространять"
   ]
  },
  {
   "cell_type": "code",
   "execution_count": 208,
   "id": "7a3067bb",
   "metadata": {},
   "outputs": [
    {
     "data": {
      "text/plain": [
       "array([[[ 0,  1,  2,  3],\n",
       "        [ 4,  5,  6,  7]],\n",
       "\n",
       "       [[ 8,  9, 10, 11],\n",
       "        [12, 13, 14, 15]]])"
      ]
     },
     "execution_count": 208,
     "metadata": {},
     "output_type": "execute_result"
    }
   ],
   "source": [
    "foo[[0, 1]]  # equals to foo[[0, 1], :, :] - all rows and columns in first and second array"
   ]
  },
  {
   "cell_type": "markdown",
   "id": "1b31f785",
   "metadata": {},
   "source": [
    "# view vs copy"
   ]
  },
  {
   "cell_type": "code",
   "execution_count": 211,
   "id": "7117c812",
   "metadata": {},
   "outputs": [
    {
     "data": {
      "text/plain": [
       "array([[ 0,  1,  2,  3],\n",
       "       [ 4,  5,  6,  7],\n",
       "       [ 8,  9, 10, 11]])"
      ]
     },
     "execution_count": 211,
     "metadata": {},
     "output_type": "execute_result"
    }
   ],
   "source": [
    "squid = np.arange(12).reshape(3, -1)\n",
    "squid  # кальмар"
   ]
  },
  {
   "cell_type": "markdown",
   "id": "7da45e9b",
   "metadata": {},
   "source": [
    "## change in ward modify squid"
   ]
  },
  {
   "cell_type": "code",
   "execution_count": 213,
   "id": "bd683f1e",
   "metadata": {},
   "outputs": [
    {
     "data": {
      "text/plain": [
       "array([[0, 1],\n",
       "       [4, 5],\n",
       "       [8, 9]])"
      ]
     },
     "execution_count": 213,
     "metadata": {},
     "output_type": "execute_result"
    }
   ],
   "source": [
    "ward = squid[:, :2]  # view\n",
    "ward  "
   ]
  },
  {
   "cell_type": "markdown",
   "id": "e543c584",
   "metadata": {},
   "source": [
    "## change in sponge not modify squid"
   ]
  },
  {
   "cell_type": "code",
   "execution_count": 214,
   "id": "4be8aa47",
   "metadata": {},
   "outputs": [
    {
     "data": {
      "text/plain": [
       "array([[0, 1],\n",
       "       [4, 5],\n",
       "       [8, 9]])"
      ]
     },
     "execution_count": 214,
     "metadata": {},
     "output_type": "execute_result"
    }
   ],
   "source": [
    "sponge = squid[:, [0, 1]]  # copy\n",
    "sponge"
   ]
  },
  {
   "cell_type": "code",
   "execution_count": 216,
   "id": "06d69534",
   "metadata": {},
   "outputs": [
    {
     "data": {
      "text/plain": [
       "{'data': (2159179726608, False),\n",
       " 'strides': None,\n",
       " 'descr': [('', '<i4')],\n",
       " 'typestr': '<i4',\n",
       " 'shape': (3, 4),\n",
       " 'version': 3}"
      ]
     },
     "execution_count": 216,
     "metadata": {},
     "output_type": "execute_result"
    }
   ],
   "source": [
    "squid.__array_interface__"
   ]
  },
  {
   "cell_type": "code",
   "execution_count": 217,
   "id": "25d3625b",
   "metadata": {},
   "outputs": [
    {
     "data": {
      "text/plain": [
       "{'data': (2159179726608, False),\n",
       " 'strides': (16, 4),\n",
       " 'descr': [('', '<i4')],\n",
       " 'typestr': '<i4',\n",
       " 'shape': (3, 2),\n",
       " 'version': 3}"
      ]
     },
     "execution_count": 217,
     "metadata": {},
     "output_type": "execute_result"
    }
   ],
   "source": [
    "ward.__array_interface__  # ward (view) address is same like squid"
   ]
  },
  {
   "cell_type": "code",
   "execution_count": 218,
   "id": "2b28b226",
   "metadata": {},
   "outputs": [
    {
     "data": {
      "text/plain": [
       "{'data': (2159261979664, False),\n",
       " 'strides': (4, 12),\n",
       " 'descr': [('', '<i4')],\n",
       " 'typestr': '<i4',\n",
       " 'shape': (3, 2),\n",
       " 'version': 3}"
      ]
     },
     "execution_count": 218,
     "metadata": {},
     "output_type": "execute_result"
    }
   ],
   "source": [
    "sponge.__array_interface__"
   ]
  },
  {
   "cell_type": "code",
   "execution_count": 220,
   "id": "7b40db2a",
   "metadata": {},
   "outputs": [
    {
     "data": {
      "text/plain": [
       "True"
      ]
     },
     "execution_count": 220,
     "metadata": {},
     "output_type": "execute_result"
    }
   ],
   "source": [
    "np.shares_memory(squid, ward)  # have same memory id"
   ]
  },
  {
   "cell_type": "markdown",
   "id": "54f0c752",
   "metadata": {},
   "source": [
    "# [numpy.shares_memory](https://numpy.org/doc/stable/reference/generated/numpy.shares_memory.html)"
   ]
  },
  {
   "cell_type": "code",
   "execution_count": 222,
   "id": "dad2e16f",
   "metadata": {},
   "outputs": [
    {
     "data": {
      "text/plain": [
       "array([[0, 1],\n",
       "       [4, 5],\n",
       "       [8, 9]])"
      ]
     },
     "execution_count": 222,
     "metadata": {},
     "output_type": "execute_result"
    }
   ],
   "source": [
    "# making copy\n",
    "cp = squid[:, :2].copy()\n",
    "cp"
   ]
  },
  {
   "cell_type": "code",
   "execution_count": 223,
   "id": "775f851a",
   "metadata": {},
   "outputs": [
    {
     "data": {
      "text/plain": [
       "False"
      ]
     },
     "execution_count": 223,
     "metadata": {},
     "output_type": "execute_result"
    }
   ],
   "source": [
    "np.shares_memory(cp, squid)"
   ]
  },
  {
   "cell_type": "markdown",
   "id": "14383ab2",
   "metadata": {},
   "source": [
    "# Problem 8\n",
    "\n",
    "Given peanut, a 4x5 array of 0s, and butter, a 5-element 1-d array of indices, fill the rows of peanut with 1s starting from the column indices given by butter."
   ]
  },
  {
   "cell_type": "code",
   "execution_count": 224,
   "id": "8065f046",
   "metadata": {},
   "outputs": [
    {
     "data": {
      "text/plain": [
       "array([[0., 0., 0., 0., 0.],\n",
       "       [0., 0., 0., 0., 0.],\n",
       "       [0., 0., 0., 0., 0.],\n",
       "       [0., 0., 0., 0., 0.]])"
      ]
     },
     "execution_count": 224,
     "metadata": {},
     "output_type": "execute_result"
    }
   ],
   "source": [
    "peanut = np.zeros(shape=(4, 5))\n",
    "peanut"
   ]
  },
  {
   "cell_type": "code",
   "execution_count": 225,
   "id": "a9e42a6a",
   "metadata": {},
   "outputs": [
    {
     "data": {
      "text/plain": [
       "array([3, 0, 4, 1])"
      ]
     },
     "execution_count": 225,
     "metadata": {},
     "output_type": "execute_result"
    }
   ],
   "source": [
    "butter = np.array([3, 0, 4, 1])\n",
    "butter"
   ]
  },
  {
   "cell_type": "code",
   "execution_count": 226,
   "id": "e3473fd8",
   "metadata": {},
   "outputs": [
    {
     "data": {
      "text/plain": [
       "array([[0., 0., 0., 1., 1.],\n",
       "       [1., 1., 1., 1., 1.],\n",
       "       [0., 0., 0., 0., 1.],\n",
       "       [0., 1., 1., 1., 1.]])"
      ]
     },
     "execution_count": 226,
     "metadata": {},
     "output_type": "execute_result"
    }
   ],
   "source": [
    "# my solution\n",
    "for index, row in enumerate(peanut):\n",
    "    row[butter[index]:] = 1\n",
    "peanut"
   ]
  },
  {
   "cell_type": "code",
   "execution_count": 233,
   "id": "aca91784",
   "metadata": {},
   "outputs": [
    {
     "data": {
      "text/plain": [
       "array([[3],\n",
       "       [0],\n",
       "       [4],\n",
       "       [1]])"
      ]
     },
     "execution_count": 233,
     "metadata": {},
     "output_type": "execute_result"
    }
   ],
   "source": [
    "# None увеличивает размерность матрицы на 1 ось (стало 4 на 1 двумерным)\n",
    "butter[:, None]"
   ]
  },
  {
   "cell_type": "code",
   "execution_count": 237,
   "id": "9464439f",
   "metadata": {},
   "outputs": [
    {
     "data": {
      "text/plain": [
       "array([0, 1, 2, 3, 4])"
      ]
     },
     "execution_count": 237,
     "metadata": {},
     "output_type": "execute_result"
    }
   ],
   "source": [
    "np.arange(peanut.shape[1])"
   ]
  },
  {
   "cell_type": "code",
   "execution_count": 236,
   "id": "cdd5c2be",
   "metadata": {},
   "outputs": [
    {
     "data": {
      "text/plain": [
       "array([[0., 0., 0., 1., 1.],\n",
       "       [1., 1., 1., 1., 1.],\n",
       "       [0., 0., 0., 0., 1.],\n",
       "       [0., 1., 1., 1., 1.]])"
      ]
     },
     "execution_count": 236,
     "metadata": {},
     "output_type": "execute_result"
    }
   ],
   "source": [
    "# author's solution\n",
    "(butter[:, None] <= np.arange(peanut.shape[1])).astype('float64')  # None увеличивает размерность матрицы на 1 ось"
   ]
  },
  {
   "cell_type": "markdown",
   "id": "f9d2188e",
   "metadata": {},
   "source": [
    "### It's easy to convert into 0 and 1 from boolean using ndarray.astype('float64')"
   ]
  },
  {
   "attachments": {
    "image.png": {
     "image/png": "[encoded data removed]"
    }
   },
   "cell_type": "markdown",
   "id": "d40abd90",
   "metadata": {},
   "source": [
    "![image.png](attachment:image.png)"
   ]
  }
 ],
 "metadata": {
  "kernelspec": {
   "display_name": "Python 3 (ipykernel)",
   "language": "python",
   "name": "python3"
  },
  "language_info": {
   "codemirror_mode": {
    "name": "ipython",
    "version": 3
   },
   "file_extension": ".py",
   "mimetype": "text/x-python",
   "name": "python",
   "nbconvert_exporter": "python",
   "pygments_lexer": "ipython3",
   "version": "3.9.13"
  }
 },
 "nbformat": 4,
 "nbformat_minor": 5
}
